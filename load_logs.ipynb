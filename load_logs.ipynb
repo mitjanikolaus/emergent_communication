{
 "cells": [
  {
   "cell_type": "code",
   "execution_count": 1,
   "outputs": [],
   "source": [
    "import os\n",
    "from tbparse import SummaryReader\n",
    "\n",
    "# log_dir = os.path.expanduser(\"~/lis-cluster/emergent_communication/emergent_communication/lightning_logs\")\n",
    "log_dir = os.path.expanduser(\"~/PhD/emergent_communication/emergent_communication/lightning_logs_cluster\")\n",
    "\n",
    "reader = SummaryReader(log_dir, extra_columns={'dir_name'}, pivot=True)\n",
    "df = reader.scalars\n",
    "hp = reader.hparams\n",
    "\n",
    "# Save backups:\n",
    "df_original = df.copy()\n",
    "hp_original = hp.copy()"
   ],
   "metadata": {
    "collapsed": false,
    "pycharm": {
     "name": "#%%\n"
    }
   }
  },
  {
   "cell_type": "code",
   "execution_count": 2,
   "outputs": [],
   "source": [
    "df = df_original.copy()\n",
    "hp = hp_original.copy()"
   ],
   "metadata": {
    "collapsed": false,
    "pycharm": {
     "name": "#%%\n"
    }
   }
  },
  {
   "cell_type": "code",
   "execution_count": 3,
   "outputs": [],
   "source": [
    "def fix_duplicate_value(val):\n",
    "    if isinstance(val, list):\n",
    "        for el in val:\n",
    "            assert (el == val[0]) or (el == \"None\") or (val[0] == \"None\")\n",
    "        return val[0]\n",
    "    else:\n",
    "        return val\n",
    "\n",
    "hp = hp.applymap(fix_duplicate_value)\n",
    "# df = df.applymap(fix_duplicate_value)  # Takes too long"
   ],
   "metadata": {
    "collapsed": false,
    "pycharm": {
     "name": "#%%\n"
    }
   }
  },
  {
   "cell_type": "code",
   "execution_count": 4,
   "outputs": [
    {
     "name": "stdout",
     "output_type": "stream",
     "text": [
      "Duplicate runs: []\n"
     ]
    }
   ],
   "source": [
    "# Remove duplicate logs\n",
    "df.dropna(subset=[\"val_acc_no_noise\", \"topsim\"], inplace=True)\n",
    "unfinished_runs = df[df[\"val_acc_no_noise\"].apply(isinstance, args=(list, ))]\n",
    "print(f\"Duplicate runs: {unfinished_runs.dir_name.unique()}\")\n",
    "df = df[~df[\"val_acc_no_noise\"].apply(isinstance, args=(list,))].copy()"
   ],
   "metadata": {
    "collapsed": false,
    "pycharm": {
     "name": "#%%\n"
    }
   }
  },
  {
   "cell_type": "code",
   "execution_count": 5,
   "outputs": [
    {
     "data": {
      "text/plain": "        step best_val_acc_no_noise    bosdis bosdis_at_best_val_acc  \\\n50      2499                   1.0  0.110944               0.110944   \n295     7199                   1.0  0.061478               0.061478   \n564     8399                   1.0  0.113361               0.113361   \n751     4299                   1.0  0.093255               0.093255   \n926     3699                   1.0  0.084773               0.084773   \n...      ...                   ...       ...                    ...   \n410942  2700                   1.0  0.085624               0.085624   \n411014  3500                   1.0  0.089479               0.089479   \n411068  2600                   1.0  0.084645               0.084645   \n411126  2800                   1.0  0.099954               0.099954   \n411178  2500                   1.0  0.101162               0.101162   \n\n       entropy_loss entropy_loss/dataloader_idx_0  \\\n50         0.094175                      0.097214   \n295        0.362947                      0.359391   \n564        0.138065                      0.141128   \n751        0.348223                      0.342142   \n926         0.10164                      0.112596   \n...             ...                           ...   \n410942          NaN                      0.331938   \n411014          NaN                      0.342205   \n411068          NaN                      0.319353   \n411126          NaN                      0.337219   \n411178          NaN                      0.308796   \n\n       entropy_loss/dataloader_idx_1 entropy_loss/dataloader_idx_2  \\\n50                          0.086236                      0.096345   \n295                         0.367527                      0.365527   \n564                         0.129169                      0.138643   \n751                         0.356651                      0.349823   \n926                         0.109427                      0.108363   \n...                              ...                           ...   \n410942                      0.332617                      0.336752   \n411014                      0.334754                      0.335841   \n411068                        0.3252                      0.327036   \n411126                      0.335558                      0.332906   \n411178                      0.317645                      0.310856   \n\n                   epoch hp_metric  ...  test_acc  test_acc_no_noise  \\\n50      [2499.0, 2499.0]       NaN  ...  0.884615           0.884615   \n295     [7199.0, 7199.0]       NaN  ...       1.0                1.0   \n564     [8399.0, 8399.0]       NaN  ...  0.923077           0.923077   \n751     [4299.0, 4299.0]       NaN  ...  0.961538                1.0   \n926     [3699.0, 3699.0]       NaN  ...  0.923077           0.923077   \n...                  ...       ...  ...       ...                ...   \n410942            2700.0       NaN  ...  0.952381           0.984127   \n411014            3500.0       NaN  ...  0.984127                1.0   \n411068            2600.0       NaN  ...  0.968254           0.968254   \n411126            2800.0       NaN  ...  0.968254           0.984127   \n411178            2500.0       NaN  ...  0.873016           0.952381   \n\n          topsim topsim_at_best_val_acc train_acc train_acc_no_noise  \\\n50      0.567532               0.567532  0.985507                1.0   \n295     0.554759               0.554759  0.990338                1.0   \n564     0.521529               0.521529  0.995169                1.0   \n751     0.478973               0.478973  0.975845                1.0   \n926     0.544981               0.544981  0.975845                1.0   \n...          ...                    ...       ...                ...   \n410942  0.532374               0.532374       NaN                1.0   \n411014  0.401707               0.401707       NaN                1.0   \n411068  0.407298               0.407298       NaN           0.994059   \n411126  0.459714               0.459714       NaN            0.99802   \n411178  0.492240                0.49224       NaN            0.99604   \n\n       train_acc_no_noise_at_best_val_acc   val_acc val_acc_no_noise  \\\n50                                    1.0       1.0              1.0   \n295                                   1.0  0.913043              1.0   \n564                                   1.0       1.0              1.0   \n751                                   1.0  0.913043              1.0   \n926                                   1.0       1.0              1.0   \n...                                   ...       ...              ...   \n410942                                1.0  0.947368              1.0   \n411014                                1.0  0.964912              1.0   \n411068                           0.994059  0.964912              1.0   \n411126                            0.99802  0.929825              1.0   \n411178                            0.99604       1.0              1.0   \n\n               dir_name  \n50      version_1053667  \n295     version_1053668  \n564     version_1053669  \n751     version_1053670  \n926     version_1053671  \n...                 ...  \n410942      version_860  \n411014      version_861  \n411068      version_862  \n411126      version_863  \n411178      version_864  \n\n[944 rows x 45 columns]",
      "text/html": "<div>\n<style scoped>\n    .dataframe tbody tr th:only-of-type {\n        vertical-align: middle;\n    }\n\n    .dataframe tbody tr th {\n        vertical-align: top;\n    }\n\n    .dataframe thead th {\n        text-align: right;\n    }\n</style>\n<table border=\"1\" class=\"dataframe\">\n  <thead>\n    <tr style=\"text-align: right;\">\n      <th></th>\n      <th>step</th>\n      <th>best_val_acc_no_noise</th>\n      <th>bosdis</th>\n      <th>bosdis_at_best_val_acc</th>\n      <th>entropy_loss</th>\n      <th>entropy_loss/dataloader_idx_0</th>\n      <th>entropy_loss/dataloader_idx_1</th>\n      <th>entropy_loss/dataloader_idx_2</th>\n      <th>epoch</th>\n      <th>hp_metric</th>\n      <th>...</th>\n      <th>test_acc</th>\n      <th>test_acc_no_noise</th>\n      <th>topsim</th>\n      <th>topsim_at_best_val_acc</th>\n      <th>train_acc</th>\n      <th>train_acc_no_noise</th>\n      <th>train_acc_no_noise_at_best_val_acc</th>\n      <th>val_acc</th>\n      <th>val_acc_no_noise</th>\n      <th>dir_name</th>\n    </tr>\n  </thead>\n  <tbody>\n    <tr>\n      <th>50</th>\n      <td>2499</td>\n      <td>1.0</td>\n      <td>0.110944</td>\n      <td>0.110944</td>\n      <td>0.094175</td>\n      <td>0.097214</td>\n      <td>0.086236</td>\n      <td>0.096345</td>\n      <td>[2499.0, 2499.0]</td>\n      <td>NaN</td>\n      <td>...</td>\n      <td>0.884615</td>\n      <td>0.884615</td>\n      <td>0.567532</td>\n      <td>0.567532</td>\n      <td>0.985507</td>\n      <td>1.0</td>\n      <td>1.0</td>\n      <td>1.0</td>\n      <td>1.0</td>\n      <td>version_1053667</td>\n    </tr>\n    <tr>\n      <th>295</th>\n      <td>7199</td>\n      <td>1.0</td>\n      <td>0.061478</td>\n      <td>0.061478</td>\n      <td>0.362947</td>\n      <td>0.359391</td>\n      <td>0.367527</td>\n      <td>0.365527</td>\n      <td>[7199.0, 7199.0]</td>\n      <td>NaN</td>\n      <td>...</td>\n      <td>1.0</td>\n      <td>1.0</td>\n      <td>0.554759</td>\n      <td>0.554759</td>\n      <td>0.990338</td>\n      <td>1.0</td>\n      <td>1.0</td>\n      <td>0.913043</td>\n      <td>1.0</td>\n      <td>version_1053668</td>\n    </tr>\n    <tr>\n      <th>564</th>\n      <td>8399</td>\n      <td>1.0</td>\n      <td>0.113361</td>\n      <td>0.113361</td>\n      <td>0.138065</td>\n      <td>0.141128</td>\n      <td>0.129169</td>\n      <td>0.138643</td>\n      <td>[8399.0, 8399.0]</td>\n      <td>NaN</td>\n      <td>...</td>\n      <td>0.923077</td>\n      <td>0.923077</td>\n      <td>0.521529</td>\n      <td>0.521529</td>\n      <td>0.995169</td>\n      <td>1.0</td>\n      <td>1.0</td>\n      <td>1.0</td>\n      <td>1.0</td>\n      <td>version_1053669</td>\n    </tr>\n    <tr>\n      <th>751</th>\n      <td>4299</td>\n      <td>1.0</td>\n      <td>0.093255</td>\n      <td>0.093255</td>\n      <td>0.348223</td>\n      <td>0.342142</td>\n      <td>0.356651</td>\n      <td>0.349823</td>\n      <td>[4299.0, 4299.0]</td>\n      <td>NaN</td>\n      <td>...</td>\n      <td>0.961538</td>\n      <td>1.0</td>\n      <td>0.478973</td>\n      <td>0.478973</td>\n      <td>0.975845</td>\n      <td>1.0</td>\n      <td>1.0</td>\n      <td>0.913043</td>\n      <td>1.0</td>\n      <td>version_1053670</td>\n    </tr>\n    <tr>\n      <th>926</th>\n      <td>3699</td>\n      <td>1.0</td>\n      <td>0.084773</td>\n      <td>0.084773</td>\n      <td>0.10164</td>\n      <td>0.112596</td>\n      <td>0.109427</td>\n      <td>0.108363</td>\n      <td>[3699.0, 3699.0]</td>\n      <td>NaN</td>\n      <td>...</td>\n      <td>0.923077</td>\n      <td>0.923077</td>\n      <td>0.544981</td>\n      <td>0.544981</td>\n      <td>0.975845</td>\n      <td>1.0</td>\n      <td>1.0</td>\n      <td>1.0</td>\n      <td>1.0</td>\n      <td>version_1053671</td>\n    </tr>\n    <tr>\n      <th>...</th>\n      <td>...</td>\n      <td>...</td>\n      <td>...</td>\n      <td>...</td>\n      <td>...</td>\n      <td>...</td>\n      <td>...</td>\n      <td>...</td>\n      <td>...</td>\n      <td>...</td>\n      <td>...</td>\n      <td>...</td>\n      <td>...</td>\n      <td>...</td>\n      <td>...</td>\n      <td>...</td>\n      <td>...</td>\n      <td>...</td>\n      <td>...</td>\n      <td>...</td>\n      <td>...</td>\n    </tr>\n    <tr>\n      <th>410942</th>\n      <td>2700</td>\n      <td>1.0</td>\n      <td>0.085624</td>\n      <td>0.085624</td>\n      <td>NaN</td>\n      <td>0.331938</td>\n      <td>0.332617</td>\n      <td>0.336752</td>\n      <td>2700.0</td>\n      <td>NaN</td>\n      <td>...</td>\n      <td>0.952381</td>\n      <td>0.984127</td>\n      <td>0.532374</td>\n      <td>0.532374</td>\n      <td>NaN</td>\n      <td>1.0</td>\n      <td>1.0</td>\n      <td>0.947368</td>\n      <td>1.0</td>\n      <td>version_860</td>\n    </tr>\n    <tr>\n      <th>411014</th>\n      <td>3500</td>\n      <td>1.0</td>\n      <td>0.089479</td>\n      <td>0.089479</td>\n      <td>NaN</td>\n      <td>0.342205</td>\n      <td>0.334754</td>\n      <td>0.335841</td>\n      <td>3500.0</td>\n      <td>NaN</td>\n      <td>...</td>\n      <td>0.984127</td>\n      <td>1.0</td>\n      <td>0.401707</td>\n      <td>0.401707</td>\n      <td>NaN</td>\n      <td>1.0</td>\n      <td>1.0</td>\n      <td>0.964912</td>\n      <td>1.0</td>\n      <td>version_861</td>\n    </tr>\n    <tr>\n      <th>411068</th>\n      <td>2600</td>\n      <td>1.0</td>\n      <td>0.084645</td>\n      <td>0.084645</td>\n      <td>NaN</td>\n      <td>0.319353</td>\n      <td>0.3252</td>\n      <td>0.327036</td>\n      <td>2600.0</td>\n      <td>NaN</td>\n      <td>...</td>\n      <td>0.968254</td>\n      <td>0.968254</td>\n      <td>0.407298</td>\n      <td>0.407298</td>\n      <td>NaN</td>\n      <td>0.994059</td>\n      <td>0.994059</td>\n      <td>0.964912</td>\n      <td>1.0</td>\n      <td>version_862</td>\n    </tr>\n    <tr>\n      <th>411126</th>\n      <td>2800</td>\n      <td>1.0</td>\n      <td>0.099954</td>\n      <td>0.099954</td>\n      <td>NaN</td>\n      <td>0.337219</td>\n      <td>0.335558</td>\n      <td>0.332906</td>\n      <td>2800.0</td>\n      <td>NaN</td>\n      <td>...</td>\n      <td>0.968254</td>\n      <td>0.984127</td>\n      <td>0.459714</td>\n      <td>0.459714</td>\n      <td>NaN</td>\n      <td>0.99802</td>\n      <td>0.99802</td>\n      <td>0.929825</td>\n      <td>1.0</td>\n      <td>version_863</td>\n    </tr>\n    <tr>\n      <th>411178</th>\n      <td>2500</td>\n      <td>1.0</td>\n      <td>0.101162</td>\n      <td>0.101162</td>\n      <td>NaN</td>\n      <td>0.308796</td>\n      <td>0.317645</td>\n      <td>0.310856</td>\n      <td>2500.0</td>\n      <td>NaN</td>\n      <td>...</td>\n      <td>0.873016</td>\n      <td>0.952381</td>\n      <td>0.492240</td>\n      <td>0.49224</td>\n      <td>NaN</td>\n      <td>0.99604</td>\n      <td>0.99604</td>\n      <td>1.0</td>\n      <td>1.0</td>\n      <td>version_864</td>\n    </tr>\n  </tbody>\n</table>\n<p>944 rows × 45 columns</p>\n</div>"
     },
     "execution_count": 5,
     "metadata": {},
     "output_type": "execute_result"
    }
   ],
   "source": [
    "# Keep only best step values for each run\n",
    "df[\"val_acc_no_noise\"] = df[\"val_acc_no_noise\"].astype(float)\n",
    "indices_best_steps = df.groupby([\"dir_name\"])[\"val_acc_no_noise\"].idxmax()\n",
    "df = df.loc[indices_best_steps]\n",
    "df"
   ],
   "metadata": {
    "collapsed": false,
    "pycharm": {
     "name": "#%%\n"
    }
   }
  },
  {
   "cell_type": "code",
   "execution_count": 6,
   "outputs": [],
   "source": [
    "df.set_index(\"dir_name\", inplace=True, drop=False, verify_integrity=True)\n",
    "hp.set_index(\"dir_name\", inplace=True, verify_integrity=True)\n",
    "\n",
    "df = df.join(hp, how=\"left\")"
   ],
   "metadata": {
    "collapsed": false,
    "pycharm": {
     "name": "#%%\n"
    }
   }
  },
  {
   "cell_type": "code",
   "execution_count": 7,
   "outputs": [],
   "source": [
    "df.to_pickle(\"df.pickle\")"
   ],
   "metadata": {
    "collapsed": false,
    "pycharm": {
     "name": "#%%\n"
    }
   }
  },
  {
   "cell_type": "code",
   "execution_count": 28,
   "outputs": [],
   "source": [],
   "metadata": {
    "collapsed": false,
    "pycharm": {
     "name": "#%%\n"
    }
   }
  },
  {
   "cell_type": "code",
   "execution_count": 28,
   "outputs": [],
   "source": [],
   "metadata": {
    "collapsed": false,
    "pycharm": {
     "name": "#%%\n"
    }
   }
  },
  {
   "cell_type": "code",
   "execution_count": 28,
   "outputs": [],
   "source": [],
   "metadata": {
    "collapsed": false,
    "pycharm": {
     "name": "#%%\n"
    }
   }
  }
 ],
 "metadata": {
  "kernelspec": {
   "display_name": "Python 3 (ipykernel)",
   "language": "python",
   "name": "python3"
  },
  "language_info": {
   "codemirror_mode": {
    "name": "ipython",
    "version": 3
   },
   "file_extension": ".py",
   "mimetype": "text/x-python",
   "name": "python",
   "nbconvert_exporter": "python",
   "pygments_lexer": "ipython3",
   "version": "3.9.7"
  }
 },
 "nbformat": 4,
 "nbformat_minor": 1
}