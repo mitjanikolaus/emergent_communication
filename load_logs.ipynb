{
 "cells": [
  {
   "cell_type": "code",
   "execution_count": 160,
   "outputs": [],
   "source": [
    "import os\n",
    "import pandas as pd\n",
    "import numpy as np\n",
    "from tbparse import SummaryReader\n",
    "\n",
    "# log_dir = os.path.expanduser(\"~/lis-cluster/emergent_communication/emergent_communication/lightning_logs\")\n",
    "# log_dir = os.path.expanduser(\"~/PhD/emergent_communication/emergent_communication/lightning_logs_cluster\")\n",
    "log_dir = os.path.expanduser(\"~/PhD/emergent_communication/emergent_communication/lightning_logs\")\n",
    "\n",
    "reader = SummaryReader(log_dir, extra_columns={'dir_name'}, pivot=True)\n",
    "df = reader.scalars\n",
    "hp = reader.hparams\n",
    "\n",
    "# Save backups:\n",
    "df_original = df.copy()\n",
    "hp_original = hp.copy()"
   ],
   "metadata": {
    "collapsed": false,
    "pycharm": {
     "name": "#%%\n"
    }
   }
  },
  {
   "cell_type": "code",
   "execution_count": 161,
   "outputs": [],
   "source": [
    "df = df_original.copy()\n",
    "hp = hp_original.copy()"
   ],
   "metadata": {
    "collapsed": false,
    "pycharm": {
     "name": "#%%\n"
    }
   }
  },
  {
   "cell_type": "code",
   "execution_count": 162,
   "outputs": [
    {
     "data": {
      "text/plain": "    step                       best_val_acc_no_noise  \\\n0      0                                         NaN   \n1     49                                         NaN   \n2     99                                         0.0   \n3    149                                         NaN   \n4    199                                         0.0   \n5    249                                         NaN   \n6    299                                         0.0   \n7    349                                         NaN   \n8    399                                    0.043478   \n9    449                                         NaN   \n10   499                                    0.043478   \n11   549                                         NaN   \n12   599                                    0.043478   \n13   649                                         NaN   \n14   699                                    0.043478   \n15   749                                         NaN   \n16   799                                    0.043478   \n17   849                                         NaN   \n18   899                                    0.043478   \n19   949                                         NaN   \n20   999                                    0.086957   \n21  1049                                         NaN   \n22  1099                                    0.086957   \n23  1116  [0.08695652335882187, 0.08695652335882187]   \n\n                                        bosdis  \\\n0                                          NaN   \n1                                          NaN   \n2                                          NaN   \n3                                          NaN   \n4                                          NaN   \n5                                          NaN   \n6                                          NaN   \n7                                          NaN   \n8                                          NaN   \n9                                          NaN   \n10                                         NaN   \n11                                         NaN   \n12                                         NaN   \n13                                         NaN   \n14                                         NaN   \n15                                         NaN   \n16                                         NaN   \n17                                         NaN   \n18                                         NaN   \n19                                         NaN   \n20                                         NaN   \n21                                         NaN   \n22                                         NaN   \n23  [0.07015444338321686, 0.06852047890424728]   \n\n                        bosdis_at_best_val_acc  entropy_loss  \\\n0                                          0.0           NaN   \n1                                          NaN      1.380435   \n2                                          NaN      1.380056   \n3                                          NaN      1.349310   \n4                                          NaN      1.320210   \n5                                          NaN      1.286145   \n6                                          NaN      1.278823   \n7                                          NaN      1.257812   \n8                                          NaN      1.252917   \n9                                          NaN      1.237628   \n10                                         NaN      1.229546   \n11                                         NaN      1.218202   \n12                                         NaN      1.193889   \n13                                         NaN      1.162832   \n14                                         NaN      1.173986   \n15                                         NaN      1.160678   \n16                                         NaN      1.155575   \n17                                         NaN      1.134692   \n18                                         NaN      1.134307   \n19                                         NaN      1.091505   \n20                                         NaN      1.091886   \n21                                         NaN      1.071974   \n22                                         NaN      1.080167   \n23  [0.07015444338321686, 0.06852047890424728]           NaN   \n\n               entropy_loss/dataloader_idx_0  \\\n0                                        NaN   \n1                                        NaN   \n2                                   1.378673   \n3                                        NaN   \n4                                   1.327956   \n5                                        NaN   \n6                                   1.308884   \n7                                        NaN   \n8                                   1.280639   \n9                                        NaN   \n10                                  1.252393   \n11                                       NaN   \n12                                  1.217681   \n13                                       NaN   \n14                                  1.196774   \n15                                       NaN   \n16                                  1.158157   \n17                                       NaN   \n18                                  1.151669   \n19                                       NaN   \n20                                  1.109642   \n21                                       NaN   \n22                                  1.091124   \n23  [1.0937448740005493, 1.1130340099334717]   \n\n              entropy_loss/dataloader_idx_1  \\\n0                                       NaN   \n1                                       NaN   \n2                                   1.37844   \n3                                       NaN   \n4                                  1.337823   \n5                                       NaN   \n6                                  1.316238   \n7                                       NaN   \n8                                  1.287605   \n9                                       NaN   \n10                                 1.281497   \n11                                      NaN   \n12                                 1.236199   \n13                                      NaN   \n14                                 1.214567   \n15                                      NaN   \n16                                 1.175671   \n17                                      NaN   \n18                                 1.170434   \n19                                      NaN   \n20                                 1.134575   \n21                                      NaN   \n22                                 1.132614   \n23  [1.132897138595581, 1.1362501382827759]   \n\n               entropy_loss/dataloader_idx_2             epoch  \\\n0                                        NaN               NaN   \n1                                        NaN              49.0   \n2                                   1.378409      [99.0, 99.0]   \n3                                        NaN             149.0   \n4                                   1.327906    [199.0, 199.0]   \n5                                        NaN             249.0   \n6                                   1.308742    [299.0, 299.0]   \n7                                        NaN             349.0   \n8                                    1.27751    [399.0, 399.0]   \n9                                        NaN             449.0   \n10                                  1.255147    [499.0, 499.0]   \n11                                       NaN             549.0   \n12                                  1.216216    [599.0, 599.0]   \n13                                       NaN             649.0   \n14                                  1.195642    [699.0, 699.0]   \n15                                       NaN             749.0   \n16                                  1.162501    [799.0, 799.0]   \n17                                       NaN             849.0   \n18                                  1.157811    [899.0, 899.0]   \n19                                       NaN             949.0   \n20                                  1.118616    [999.0, 999.0]   \n21                                       NaN            1049.0   \n22                                  1.113837  [1099.0, 1099.0]   \n23  [1.1138365268707275, 1.1186163425445557]  [1116.0, 1116.0]   \n\n             hp_metric  ...                                    test_acc  \\\n0   [-1.0, -1.0, -1.0]  ...                                         NaN   \n1                  NaN  ...                                         NaN   \n2                  NaN  ...                                         0.0   \n3                  NaN  ...                                         NaN   \n4                  NaN  ...                                         0.0   \n5                  NaN  ...                                         NaN   \n6                  NaN  ...                                         0.0   \n7                  NaN  ...                                         NaN   \n8                  NaN  ...                                         0.0   \n9                  NaN  ...                                         NaN   \n10                 NaN  ...                                         0.0   \n11                 NaN  ...                                         NaN   \n12                 NaN  ...                                         0.0   \n13                 NaN  ...                                         NaN   \n14                 NaN  ...                                    0.038462   \n15                 NaN  ...                                         NaN   \n16                 NaN  ...                                         0.0   \n17                 NaN  ...                                         NaN   \n18                 NaN  ...                                    0.038462   \n19                 NaN  ...                                         NaN   \n20                 NaN  ...                                    0.038462   \n21                 NaN  ...                                         NaN   \n22                 NaN  ...                                    0.038462   \n23                 NaN  ...  [0.03846153989434242, 0.07692307978868484]   \n\n                             test_acc_no_noise  \\\n0                                          0.0   \n1                                          NaN   \n2                                          0.0   \n3                                          NaN   \n4                                          0.0   \n5                                          NaN   \n6                                          0.0   \n7                                          NaN   \n8                                          0.0   \n9                                          NaN   \n10                                         0.0   \n11                                         NaN   \n12                                         0.0   \n13                                         NaN   \n14                                    0.038462   \n15                                         NaN   \n16                                    0.038462   \n17                                         NaN   \n18                                    0.076923   \n19                                         NaN   \n20                                    0.038462   \n21                                         NaN   \n22                                    0.038462   \n23  [0.03846153989434242, 0.03846153989434242]   \n\n                                       topsim  \\\n0                                         NaN   \n1                                         NaN   \n2                                         NaN   \n3                                         NaN   \n4                                         NaN   \n5                                         NaN   \n6                                         NaN   \n7                                         NaN   \n8                                         NaN   \n9                                         NaN   \n10                                        NaN   \n11                                        NaN   \n12                                        NaN   \n13                                        NaN   \n14                                        NaN   \n15                                        NaN   \n16                                        NaN   \n17                                        NaN   \n18                                        NaN   \n19                                        NaN   \n20                                        NaN   \n21                                        NaN   \n22                                        NaN   \n23  [0.4211689829826355, 0.44422784447669983]   \n\n                       topsim_at_best_val_acc train_acc  \\\n0                                         0.0       NaN   \n1                                         NaN  0.004831   \n2                                         NaN  0.000000   \n3                                         NaN  0.009662   \n4                                         NaN  0.009662   \n5                                         NaN  0.014493   \n6                                         NaN  0.019324   \n7                                         NaN  0.038647   \n8                                         NaN  0.033816   \n9                                         NaN  0.057971   \n10                                        NaN  0.043478   \n11                                        NaN  0.057971   \n12                                        NaN  0.091787   \n13                                        NaN  0.120773   \n14                                        NaN  0.135266   \n15                                        NaN  0.178744   \n16                                        NaN  0.130435   \n17                                        NaN  0.183575   \n18                                        NaN  0.188406   \n19                                        NaN  0.222222   \n20                                        NaN  0.280193   \n21                                        NaN  0.236715   \n22                                        NaN  0.323671   \n23  [0.4211689829826355, 0.44422784447669983]       NaN   \n\n                          train_acc_no_noise  \\\n0                                        NaN   \n1                                        NaN   \n2                                   0.009662   \n3                                        NaN   \n4                                   0.009662   \n5                                        NaN   \n6                                   0.028986   \n7                                        NaN   \n8                                   0.062802   \n9                                        NaN   \n10                                  0.086957   \n11                                       NaN   \n12                                  0.135266   \n13                                       NaN   \n14                                  0.173913   \n15                                       NaN   \n16                                  0.246377   \n17                                       NaN   \n18                                    0.2657   \n19                                       NaN   \n20                                  0.371981   \n21                                       NaN   \n22                                  0.449275   \n23  [0.4492753744125366, 0.3719806671142578]   \n\n          train_acc_no_noise_at_best_val_acc   val_acc val_acc_no_noise  \\\n0                                        NaN  0.000000         0.000000   \n1                                        NaN       NaN              NaN   \n2                                        NaN  0.000000         0.000000   \n3                                        NaN       NaN              NaN   \n4                                        NaN  0.000000         0.000000   \n5                                        NaN       NaN              NaN   \n6                                        NaN  0.000000         0.000000   \n7                                        NaN       NaN              NaN   \n8                                   0.062802  0.043478         0.043478   \n9                                        NaN       NaN              NaN   \n10                                       NaN  0.000000         0.000000   \n11                                       NaN       NaN              NaN   \n12                                       NaN  0.000000         0.000000   \n13                                       NaN       NaN              NaN   \n14                                       NaN  0.000000         0.000000   \n15                                       NaN       NaN              NaN   \n16                                       NaN  0.086957         0.043478   \n17                                       NaN       NaN              NaN   \n18                                       NaN  0.000000         0.000000   \n19                                       NaN       NaN              NaN   \n20                                  0.371981  0.000000         0.086957   \n21                                       NaN       NaN              NaN   \n22                                       NaN  0.130435         0.086957   \n23  [0.4492753744125366, 0.3719806671142578]  0.043478         0.086957   \n\n       dir_name  \n0   version_915  \n1   version_915  \n2   version_915  \n3   version_915  \n4   version_915  \n5   version_915  \n6   version_915  \n7   version_915  \n8   version_915  \n9   version_915  \n10  version_915  \n11  version_915  \n12  version_915  \n13  version_915  \n14  version_915  \n15  version_915  \n16  version_915  \n17  version_915  \n18  version_915  \n19  version_915  \n20  version_915  \n21  version_915  \n22  version_915  \n23  version_915  \n\n[24 rows x 41 columns]",
      "text/html": "<div>\n<style scoped>\n    .dataframe tbody tr th:only-of-type {\n        vertical-align: middle;\n    }\n\n    .dataframe tbody tr th {\n        vertical-align: top;\n    }\n\n    .dataframe thead th {\n        text-align: right;\n    }\n</style>\n<table border=\"1\" class=\"dataframe\">\n  <thead>\n    <tr style=\"text-align: right;\">\n      <th></th>\n      <th>step</th>\n      <th>best_val_acc_no_noise</th>\n      <th>bosdis</th>\n      <th>bosdis_at_best_val_acc</th>\n      <th>entropy_loss</th>\n      <th>entropy_loss/dataloader_idx_0</th>\n      <th>entropy_loss/dataloader_idx_1</th>\n      <th>entropy_loss/dataloader_idx_2</th>\n      <th>epoch</th>\n      <th>hp_metric</th>\n      <th>...</th>\n      <th>test_acc</th>\n      <th>test_acc_no_noise</th>\n      <th>topsim</th>\n      <th>topsim_at_best_val_acc</th>\n      <th>train_acc</th>\n      <th>train_acc_no_noise</th>\n      <th>train_acc_no_noise_at_best_val_acc</th>\n      <th>val_acc</th>\n      <th>val_acc_no_noise</th>\n      <th>dir_name</th>\n    </tr>\n  </thead>\n  <tbody>\n    <tr>\n      <th>0</th>\n      <td>0</td>\n      <td>NaN</td>\n      <td>NaN</td>\n      <td>0.0</td>\n      <td>NaN</td>\n      <td>NaN</td>\n      <td>NaN</td>\n      <td>NaN</td>\n      <td>NaN</td>\n      <td>[-1.0, -1.0, -1.0]</td>\n      <td>...</td>\n      <td>NaN</td>\n      <td>0.0</td>\n      <td>NaN</td>\n      <td>0.0</td>\n      <td>NaN</td>\n      <td>NaN</td>\n      <td>NaN</td>\n      <td>0.000000</td>\n      <td>0.000000</td>\n      <td>version_915</td>\n    </tr>\n    <tr>\n      <th>1</th>\n      <td>49</td>\n      <td>NaN</td>\n      <td>NaN</td>\n      <td>NaN</td>\n      <td>1.380435</td>\n      <td>NaN</td>\n      <td>NaN</td>\n      <td>NaN</td>\n      <td>49.0</td>\n      <td>NaN</td>\n      <td>...</td>\n      <td>NaN</td>\n      <td>NaN</td>\n      <td>NaN</td>\n      <td>NaN</td>\n      <td>0.004831</td>\n      <td>NaN</td>\n      <td>NaN</td>\n      <td>NaN</td>\n      <td>NaN</td>\n      <td>version_915</td>\n    </tr>\n    <tr>\n      <th>2</th>\n      <td>99</td>\n      <td>0.0</td>\n      <td>NaN</td>\n      <td>NaN</td>\n      <td>1.380056</td>\n      <td>1.378673</td>\n      <td>1.37844</td>\n      <td>1.378409</td>\n      <td>[99.0, 99.0]</td>\n      <td>NaN</td>\n      <td>...</td>\n      <td>0.0</td>\n      <td>0.0</td>\n      <td>NaN</td>\n      <td>NaN</td>\n      <td>0.000000</td>\n      <td>0.009662</td>\n      <td>NaN</td>\n      <td>0.000000</td>\n      <td>0.000000</td>\n      <td>version_915</td>\n    </tr>\n    <tr>\n      <th>3</th>\n      <td>149</td>\n      <td>NaN</td>\n      <td>NaN</td>\n      <td>NaN</td>\n      <td>1.349310</td>\n      <td>NaN</td>\n      <td>NaN</td>\n      <td>NaN</td>\n      <td>149.0</td>\n      <td>NaN</td>\n      <td>...</td>\n      <td>NaN</td>\n      <td>NaN</td>\n      <td>NaN</td>\n      <td>NaN</td>\n      <td>0.009662</td>\n      <td>NaN</td>\n      <td>NaN</td>\n      <td>NaN</td>\n      <td>NaN</td>\n      <td>version_915</td>\n    </tr>\n    <tr>\n      <th>4</th>\n      <td>199</td>\n      <td>0.0</td>\n      <td>NaN</td>\n      <td>NaN</td>\n      <td>1.320210</td>\n      <td>1.327956</td>\n      <td>1.337823</td>\n      <td>1.327906</td>\n      <td>[199.0, 199.0]</td>\n      <td>NaN</td>\n      <td>...</td>\n      <td>0.0</td>\n      <td>0.0</td>\n      <td>NaN</td>\n      <td>NaN</td>\n      <td>0.009662</td>\n      <td>0.009662</td>\n      <td>NaN</td>\n      <td>0.000000</td>\n      <td>0.000000</td>\n      <td>version_915</td>\n    </tr>\n    <tr>\n      <th>5</th>\n      <td>249</td>\n      <td>NaN</td>\n      <td>NaN</td>\n      <td>NaN</td>\n      <td>1.286145</td>\n      <td>NaN</td>\n      <td>NaN</td>\n      <td>NaN</td>\n      <td>249.0</td>\n      <td>NaN</td>\n      <td>...</td>\n      <td>NaN</td>\n      <td>NaN</td>\n      <td>NaN</td>\n      <td>NaN</td>\n      <td>0.014493</td>\n      <td>NaN</td>\n      <td>NaN</td>\n      <td>NaN</td>\n      <td>NaN</td>\n      <td>version_915</td>\n    </tr>\n    <tr>\n      <th>6</th>\n      <td>299</td>\n      <td>0.0</td>\n      <td>NaN</td>\n      <td>NaN</td>\n      <td>1.278823</td>\n      <td>1.308884</td>\n      <td>1.316238</td>\n      <td>1.308742</td>\n      <td>[299.0, 299.0]</td>\n      <td>NaN</td>\n      <td>...</td>\n      <td>0.0</td>\n      <td>0.0</td>\n      <td>NaN</td>\n      <td>NaN</td>\n      <td>0.019324</td>\n      <td>0.028986</td>\n      <td>NaN</td>\n      <td>0.000000</td>\n      <td>0.000000</td>\n      <td>version_915</td>\n    </tr>\n    <tr>\n      <th>7</th>\n      <td>349</td>\n      <td>NaN</td>\n      <td>NaN</td>\n      <td>NaN</td>\n      <td>1.257812</td>\n      <td>NaN</td>\n      <td>NaN</td>\n      <td>NaN</td>\n      <td>349.0</td>\n      <td>NaN</td>\n      <td>...</td>\n      <td>NaN</td>\n      <td>NaN</td>\n      <td>NaN</td>\n      <td>NaN</td>\n      <td>0.038647</td>\n      <td>NaN</td>\n      <td>NaN</td>\n      <td>NaN</td>\n      <td>NaN</td>\n      <td>version_915</td>\n    </tr>\n    <tr>\n      <th>8</th>\n      <td>399</td>\n      <td>0.043478</td>\n      <td>NaN</td>\n      <td>NaN</td>\n      <td>1.252917</td>\n      <td>1.280639</td>\n      <td>1.287605</td>\n      <td>1.27751</td>\n      <td>[399.0, 399.0]</td>\n      <td>NaN</td>\n      <td>...</td>\n      <td>0.0</td>\n      <td>0.0</td>\n      <td>NaN</td>\n      <td>NaN</td>\n      <td>0.033816</td>\n      <td>0.062802</td>\n      <td>0.062802</td>\n      <td>0.043478</td>\n      <td>0.043478</td>\n      <td>version_915</td>\n    </tr>\n    <tr>\n      <th>9</th>\n      <td>449</td>\n      <td>NaN</td>\n      <td>NaN</td>\n      <td>NaN</td>\n      <td>1.237628</td>\n      <td>NaN</td>\n      <td>NaN</td>\n      <td>NaN</td>\n      <td>449.0</td>\n      <td>NaN</td>\n      <td>...</td>\n      <td>NaN</td>\n      <td>NaN</td>\n      <td>NaN</td>\n      <td>NaN</td>\n      <td>0.057971</td>\n      <td>NaN</td>\n      <td>NaN</td>\n      <td>NaN</td>\n      <td>NaN</td>\n      <td>version_915</td>\n    </tr>\n    <tr>\n      <th>10</th>\n      <td>499</td>\n      <td>0.043478</td>\n      <td>NaN</td>\n      <td>NaN</td>\n      <td>1.229546</td>\n      <td>1.252393</td>\n      <td>1.281497</td>\n      <td>1.255147</td>\n      <td>[499.0, 499.0]</td>\n      <td>NaN</td>\n      <td>...</td>\n      <td>0.0</td>\n      <td>0.0</td>\n      <td>NaN</td>\n      <td>NaN</td>\n      <td>0.043478</td>\n      <td>0.086957</td>\n      <td>NaN</td>\n      <td>0.000000</td>\n      <td>0.000000</td>\n      <td>version_915</td>\n    </tr>\n    <tr>\n      <th>11</th>\n      <td>549</td>\n      <td>NaN</td>\n      <td>NaN</td>\n      <td>NaN</td>\n      <td>1.218202</td>\n      <td>NaN</td>\n      <td>NaN</td>\n      <td>NaN</td>\n      <td>549.0</td>\n      <td>NaN</td>\n      <td>...</td>\n      <td>NaN</td>\n      <td>NaN</td>\n      <td>NaN</td>\n      <td>NaN</td>\n      <td>0.057971</td>\n      <td>NaN</td>\n      <td>NaN</td>\n      <td>NaN</td>\n      <td>NaN</td>\n      <td>version_915</td>\n    </tr>\n    <tr>\n      <th>12</th>\n      <td>599</td>\n      <td>0.043478</td>\n      <td>NaN</td>\n      <td>NaN</td>\n      <td>1.193889</td>\n      <td>1.217681</td>\n      <td>1.236199</td>\n      <td>1.216216</td>\n      <td>[599.0, 599.0]</td>\n      <td>NaN</td>\n      <td>...</td>\n      <td>0.0</td>\n      <td>0.0</td>\n      <td>NaN</td>\n      <td>NaN</td>\n      <td>0.091787</td>\n      <td>0.135266</td>\n      <td>NaN</td>\n      <td>0.000000</td>\n      <td>0.000000</td>\n      <td>version_915</td>\n    </tr>\n    <tr>\n      <th>13</th>\n      <td>649</td>\n      <td>NaN</td>\n      <td>NaN</td>\n      <td>NaN</td>\n      <td>1.162832</td>\n      <td>NaN</td>\n      <td>NaN</td>\n      <td>NaN</td>\n      <td>649.0</td>\n      <td>NaN</td>\n      <td>...</td>\n      <td>NaN</td>\n      <td>NaN</td>\n      <td>NaN</td>\n      <td>NaN</td>\n      <td>0.120773</td>\n      <td>NaN</td>\n      <td>NaN</td>\n      <td>NaN</td>\n      <td>NaN</td>\n      <td>version_915</td>\n    </tr>\n    <tr>\n      <th>14</th>\n      <td>699</td>\n      <td>0.043478</td>\n      <td>NaN</td>\n      <td>NaN</td>\n      <td>1.173986</td>\n      <td>1.196774</td>\n      <td>1.214567</td>\n      <td>1.195642</td>\n      <td>[699.0, 699.0]</td>\n      <td>NaN</td>\n      <td>...</td>\n      <td>0.038462</td>\n      <td>0.038462</td>\n      <td>NaN</td>\n      <td>NaN</td>\n      <td>0.135266</td>\n      <td>0.173913</td>\n      <td>NaN</td>\n      <td>0.000000</td>\n      <td>0.000000</td>\n      <td>version_915</td>\n    </tr>\n    <tr>\n      <th>15</th>\n      <td>749</td>\n      <td>NaN</td>\n      <td>NaN</td>\n      <td>NaN</td>\n      <td>1.160678</td>\n      <td>NaN</td>\n      <td>NaN</td>\n      <td>NaN</td>\n      <td>749.0</td>\n      <td>NaN</td>\n      <td>...</td>\n      <td>NaN</td>\n      <td>NaN</td>\n      <td>NaN</td>\n      <td>NaN</td>\n      <td>0.178744</td>\n      <td>NaN</td>\n      <td>NaN</td>\n      <td>NaN</td>\n      <td>NaN</td>\n      <td>version_915</td>\n    </tr>\n    <tr>\n      <th>16</th>\n      <td>799</td>\n      <td>0.043478</td>\n      <td>NaN</td>\n      <td>NaN</td>\n      <td>1.155575</td>\n      <td>1.158157</td>\n      <td>1.175671</td>\n      <td>1.162501</td>\n      <td>[799.0, 799.0]</td>\n      <td>NaN</td>\n      <td>...</td>\n      <td>0.0</td>\n      <td>0.038462</td>\n      <td>NaN</td>\n      <td>NaN</td>\n      <td>0.130435</td>\n      <td>0.246377</td>\n      <td>NaN</td>\n      <td>0.086957</td>\n      <td>0.043478</td>\n      <td>version_915</td>\n    </tr>\n    <tr>\n      <th>17</th>\n      <td>849</td>\n      <td>NaN</td>\n      <td>NaN</td>\n      <td>NaN</td>\n      <td>1.134692</td>\n      <td>NaN</td>\n      <td>NaN</td>\n      <td>NaN</td>\n      <td>849.0</td>\n      <td>NaN</td>\n      <td>...</td>\n      <td>NaN</td>\n      <td>NaN</td>\n      <td>NaN</td>\n      <td>NaN</td>\n      <td>0.183575</td>\n      <td>NaN</td>\n      <td>NaN</td>\n      <td>NaN</td>\n      <td>NaN</td>\n      <td>version_915</td>\n    </tr>\n    <tr>\n      <th>18</th>\n      <td>899</td>\n      <td>0.043478</td>\n      <td>NaN</td>\n      <td>NaN</td>\n      <td>1.134307</td>\n      <td>1.151669</td>\n      <td>1.170434</td>\n      <td>1.157811</td>\n      <td>[899.0, 899.0]</td>\n      <td>NaN</td>\n      <td>...</td>\n      <td>0.038462</td>\n      <td>0.076923</td>\n      <td>NaN</td>\n      <td>NaN</td>\n      <td>0.188406</td>\n      <td>0.2657</td>\n      <td>NaN</td>\n      <td>0.000000</td>\n      <td>0.000000</td>\n      <td>version_915</td>\n    </tr>\n    <tr>\n      <th>19</th>\n      <td>949</td>\n      <td>NaN</td>\n      <td>NaN</td>\n      <td>NaN</td>\n      <td>1.091505</td>\n      <td>NaN</td>\n      <td>NaN</td>\n      <td>NaN</td>\n      <td>949.0</td>\n      <td>NaN</td>\n      <td>...</td>\n      <td>NaN</td>\n      <td>NaN</td>\n      <td>NaN</td>\n      <td>NaN</td>\n      <td>0.222222</td>\n      <td>NaN</td>\n      <td>NaN</td>\n      <td>NaN</td>\n      <td>NaN</td>\n      <td>version_915</td>\n    </tr>\n    <tr>\n      <th>20</th>\n      <td>999</td>\n      <td>0.086957</td>\n      <td>NaN</td>\n      <td>NaN</td>\n      <td>1.091886</td>\n      <td>1.109642</td>\n      <td>1.134575</td>\n      <td>1.118616</td>\n      <td>[999.0, 999.0]</td>\n      <td>NaN</td>\n      <td>...</td>\n      <td>0.038462</td>\n      <td>0.038462</td>\n      <td>NaN</td>\n      <td>NaN</td>\n      <td>0.280193</td>\n      <td>0.371981</td>\n      <td>0.371981</td>\n      <td>0.000000</td>\n      <td>0.086957</td>\n      <td>version_915</td>\n    </tr>\n    <tr>\n      <th>21</th>\n      <td>1049</td>\n      <td>NaN</td>\n      <td>NaN</td>\n      <td>NaN</td>\n      <td>1.071974</td>\n      <td>NaN</td>\n      <td>NaN</td>\n      <td>NaN</td>\n      <td>1049.0</td>\n      <td>NaN</td>\n      <td>...</td>\n      <td>NaN</td>\n      <td>NaN</td>\n      <td>NaN</td>\n      <td>NaN</td>\n      <td>0.236715</td>\n      <td>NaN</td>\n      <td>NaN</td>\n      <td>NaN</td>\n      <td>NaN</td>\n      <td>version_915</td>\n    </tr>\n    <tr>\n      <th>22</th>\n      <td>1099</td>\n      <td>0.086957</td>\n      <td>NaN</td>\n      <td>NaN</td>\n      <td>1.080167</td>\n      <td>1.091124</td>\n      <td>1.132614</td>\n      <td>1.113837</td>\n      <td>[1099.0, 1099.0]</td>\n      <td>NaN</td>\n      <td>...</td>\n      <td>0.038462</td>\n      <td>0.038462</td>\n      <td>NaN</td>\n      <td>NaN</td>\n      <td>0.323671</td>\n      <td>0.449275</td>\n      <td>NaN</td>\n      <td>0.130435</td>\n      <td>0.086957</td>\n      <td>version_915</td>\n    </tr>\n    <tr>\n      <th>23</th>\n      <td>1116</td>\n      <td>[0.08695652335882187, 0.08695652335882187]</td>\n      <td>[0.07015444338321686, 0.06852047890424728]</td>\n      <td>[0.07015444338321686, 0.06852047890424728]</td>\n      <td>NaN</td>\n      <td>[1.0937448740005493, 1.1130340099334717]</td>\n      <td>[1.132897138595581, 1.1362501382827759]</td>\n      <td>[1.1138365268707275, 1.1186163425445557]</td>\n      <td>[1116.0, 1116.0]</td>\n      <td>NaN</td>\n      <td>...</td>\n      <td>[0.03846153989434242, 0.07692307978868484]</td>\n      <td>[0.03846153989434242, 0.03846153989434242]</td>\n      <td>[0.4211689829826355, 0.44422784447669983]</td>\n      <td>[0.4211689829826355, 0.44422784447669983]</td>\n      <td>NaN</td>\n      <td>[0.4492753744125366, 0.3719806671142578]</td>\n      <td>[0.4492753744125366, 0.3719806671142578]</td>\n      <td>0.043478</td>\n      <td>0.086957</td>\n      <td>version_915</td>\n    </tr>\n  </tbody>\n</table>\n<p>24 rows × 41 columns</p>\n</div>"
     },
     "execution_count": 162,
     "metadata": {},
     "output_type": "execute_result"
    }
   ],
   "source": [
    "def fix_duplicate_value(val, allow_offset=None):\n",
    "    if isinstance(val, list):\n",
    "        for el in val:\n",
    "            if allow_offset is None:\n",
    "                assert (el == val[0]) or (el == \"None\") or (val[0] == \"None\")\n",
    "            else:\n",
    "                assert (np.abs(el - val[0]) < allow_offset) or (el == \"None\") or (val[0] == \"None\")\n",
    "        return val[0]\n",
    "    else:\n",
    "        return val\n",
    "\n",
    "def flatten_lists(val):\n",
    "    if isinstance(val, list):\n",
    "        return val[-1]\n",
    "    else:\n",
    "        return val\n",
    "\n",
    "hp = hp.applymap(fix_duplicate_value)\n",
    "# For val_acc, results may vary because of noise\n",
    "df[\"val_acc\"] = df[\"val_acc\"].apply(flatten_lists)\n",
    "df[\"val_acc_no_noise\"] = df[\"val_acc_no_noise\"].apply(fix_duplicate_value)\n",
    "df"
   ],
   "metadata": {
    "collapsed": false,
    "pycharm": {
     "name": "#%%\n"
    }
   }
  },
  {
   "cell_type": "code",
   "execution_count": 159,
   "outputs": [
    {
     "name": "stdout",
     "output_type": "stream",
     "text": [
      "{23}\n"
     ]
    },
    {
     "data": {
      "text/plain": "    step                       best_val_acc_no_noise  \\\n23  1116  [0.08695652335882187, 0.08695652335882187]   \n\n                                        bosdis  \\\n23  [0.07015444338321686, 0.06852047890424728]   \n\n                        bosdis_at_best_val_acc  entropy_loss  \\\n23  [0.07015444338321686, 0.06852047890424728]           NaN   \n\n               entropy_loss/dataloader_idx_0  \\\n23  [1.0937448740005493, 1.1130340099334717]   \n\n              entropy_loss/dataloader_idx_1  \\\n23  [1.132897138595581, 1.1362501382827759]   \n\n               entropy_loss/dataloader_idx_2             epoch hp_metric  ...  \\\n23  [1.1138365268707275, 1.1186163425445557]  [1116.0, 1116.0]       NaN  ...   \n\n                                      test_acc  \\\n23  [0.03846153989434242, 0.07692307978868484]   \n\n                             test_acc_no_noise  \\\n23  [0.03846153989434242, 0.03846153989434242]   \n\n                                       topsim  \\\n23  [0.4211689829826355, 0.44422784447669983]   \n\n                       topsim_at_best_val_acc train_acc  \\\n23  [0.4211689829826355, 0.44422784447669983]       NaN   \n\n                          train_acc_no_noise  \\\n23  [0.4492753744125366, 0.3719806671142578]   \n\n          train_acc_no_noise_at_best_val_acc   val_acc val_acc_no_noise  \\\n23  [0.4492753744125366, 0.3719806671142578]  0.043478         0.086957   \n\n       dir_name  \n23  version_915  \n\n[1 rows x 41 columns]",
      "text/html": "<div>\n<style scoped>\n    .dataframe tbody tr th:only-of-type {\n        vertical-align: middle;\n    }\n\n    .dataframe tbody tr th {\n        vertical-align: top;\n    }\n\n    .dataframe thead th {\n        text-align: right;\n    }\n</style>\n<table border=\"1\" class=\"dataframe\">\n  <thead>\n    <tr style=\"text-align: right;\">\n      <th></th>\n      <th>step</th>\n      <th>best_val_acc_no_noise</th>\n      <th>bosdis</th>\n      <th>bosdis_at_best_val_acc</th>\n      <th>entropy_loss</th>\n      <th>entropy_loss/dataloader_idx_0</th>\n      <th>entropy_loss/dataloader_idx_1</th>\n      <th>entropy_loss/dataloader_idx_2</th>\n      <th>epoch</th>\n      <th>hp_metric</th>\n      <th>...</th>\n      <th>test_acc</th>\n      <th>test_acc_no_noise</th>\n      <th>topsim</th>\n      <th>topsim_at_best_val_acc</th>\n      <th>train_acc</th>\n      <th>train_acc_no_noise</th>\n      <th>train_acc_no_noise_at_best_val_acc</th>\n      <th>val_acc</th>\n      <th>val_acc_no_noise</th>\n      <th>dir_name</th>\n    </tr>\n  </thead>\n  <tbody>\n    <tr>\n      <th>23</th>\n      <td>1116</td>\n      <td>[0.08695652335882187, 0.08695652335882187]</td>\n      <td>[0.07015444338321686, 0.06852047890424728]</td>\n      <td>[0.07015444338321686, 0.06852047890424728]</td>\n      <td>NaN</td>\n      <td>[1.0937448740005493, 1.1130340099334717]</td>\n      <td>[1.132897138595581, 1.1362501382827759]</td>\n      <td>[1.1138365268707275, 1.1186163425445557]</td>\n      <td>[1116.0, 1116.0]</td>\n      <td>NaN</td>\n      <td>...</td>\n      <td>[0.03846153989434242, 0.07692307978868484]</td>\n      <td>[0.03846153989434242, 0.03846153989434242]</td>\n      <td>[0.4211689829826355, 0.44422784447669983]</td>\n      <td>[0.4211689829826355, 0.44422784447669983]</td>\n      <td>NaN</td>\n      <td>[0.4492753744125366, 0.3719806671142578]</td>\n      <td>[0.4492753744125366, 0.3719806671142578]</td>\n      <td>0.043478</td>\n      <td>0.086957</td>\n      <td>version_915</td>\n    </tr>\n  </tbody>\n</table>\n<p>1 rows × 41 columns</p>\n</div>"
     },
     "execution_count": 159,
     "metadata": {},
     "output_type": "execute_result"
    }
   ],
   "source": [
    "# Keep only best step values for each run\n",
    "df.dropna(subset=[\"val_acc\", \"topsim\"], inplace=True)\n",
    "df[\"val_acc_no_noise\"] = df[\"val_acc_no_noise\"].astype(float)\n",
    "df[\"val_acc\"] = df[\"val_acc\"].astype(float)\n",
    "\n",
    "indices_best_steps = set(pd.concat((df.groupby([\"dir_name\"])[\"val_acc_no_noise\"].idxmax(), df.groupby([\"dir_name\"])[\"val_acc\"].idxmax())))\n",
    "print(indices_best_steps)\n",
    "df = df.loc[list(indices_best_steps)]\n",
    "df"
   ],
   "metadata": {
    "collapsed": false,
    "pycharm": {
     "name": "#%%\n"
    }
   }
  },
  {
   "cell_type": "code",
   "execution_count": 151,
   "outputs": [
    {
     "data": {
      "text/plain": "    step  best_val_acc_no_noise   bosdis  bosdis_at_best_val_acc  \\\n23  1116               0.086957  0.06852                 0.06852   \n\n    entropy_loss  entropy_loss/dataloader_idx_0  \\\n23           NaN                       1.113034   \n\n    entropy_loss/dataloader_idx_1  entropy_loss/dataloader_idx_2   epoch  \\\n23                        1.13625                       1.118616  1116.0   \n\n    hp_metric  ...  test_acc  test_acc_no_noise    topsim  \\\n23        NaN  ...  0.076923           0.038462  0.444228   \n\n    topsim_at_best_val_acc  train_acc  train_acc_no_noise  \\\n23                0.444228        NaN            0.371981   \n\n    train_acc_no_noise_at_best_val_acc   val_acc  val_acc_no_noise  \\\n23                            0.371981  0.043478          0.086957   \n\n       dir_name  \n23  version_915  \n\n[1 rows x 41 columns]",
      "text/html": "<div>\n<style scoped>\n    .dataframe tbody tr th:only-of-type {\n        vertical-align: middle;\n    }\n\n    .dataframe tbody tr th {\n        vertical-align: top;\n    }\n\n    .dataframe thead th {\n        text-align: right;\n    }\n</style>\n<table border=\"1\" class=\"dataframe\">\n  <thead>\n    <tr style=\"text-align: right;\">\n      <th></th>\n      <th>step</th>\n      <th>best_val_acc_no_noise</th>\n      <th>bosdis</th>\n      <th>bosdis_at_best_val_acc</th>\n      <th>entropy_loss</th>\n      <th>entropy_loss/dataloader_idx_0</th>\n      <th>entropy_loss/dataloader_idx_1</th>\n      <th>entropy_loss/dataloader_idx_2</th>\n      <th>epoch</th>\n      <th>hp_metric</th>\n      <th>...</th>\n      <th>test_acc</th>\n      <th>test_acc_no_noise</th>\n      <th>topsim</th>\n      <th>topsim_at_best_val_acc</th>\n      <th>train_acc</th>\n      <th>train_acc_no_noise</th>\n      <th>train_acc_no_noise_at_best_val_acc</th>\n      <th>val_acc</th>\n      <th>val_acc_no_noise</th>\n      <th>dir_name</th>\n    </tr>\n  </thead>\n  <tbody>\n    <tr>\n      <th>23</th>\n      <td>1116</td>\n      <td>0.086957</td>\n      <td>0.06852</td>\n      <td>0.06852</td>\n      <td>NaN</td>\n      <td>1.113034</td>\n      <td>1.13625</td>\n      <td>1.118616</td>\n      <td>1116.0</td>\n      <td>NaN</td>\n      <td>...</td>\n      <td>0.076923</td>\n      <td>0.038462</td>\n      <td>0.444228</td>\n      <td>0.444228</td>\n      <td>NaN</td>\n      <td>0.371981</td>\n      <td>0.371981</td>\n      <td>0.043478</td>\n      <td>0.086957</td>\n      <td>version_915</td>\n    </tr>\n  </tbody>\n</table>\n<p>1 rows × 41 columns</p>\n</div>"
     },
     "execution_count": 151,
     "metadata": {},
     "output_type": "execute_result"
    }
   ],
   "source": [
    "# Now remove all duplicate values from the smaller dataframe\n",
    "def flatten_lists(val):\n",
    "    if isinstance(val, list):\n",
    "        if val[-1] is None or val[-1] == \"NaN\":\n",
    "            return val[0]\n",
    "        else:\n",
    "            return val[-1]\n",
    "    else:\n",
    "        return val\n",
    "df = df.applymap(flatten_lists)\n",
    "df"
   ],
   "metadata": {
    "collapsed": false,
    "pycharm": {
     "name": "#%%\n"
    }
   }
  },
  {
   "cell_type": "code",
   "execution_count": 152,
   "outputs": [],
   "source": [
    "df.set_index(\"dir_name\", inplace=True, drop=False)\n",
    "hp.set_index(\"dir_name\", inplace=True, verify_integrity=True)\n",
    "\n",
    "df = df.join(hp, how=\"left\")"
   ],
   "metadata": {
    "collapsed": false,
    "pycharm": {
     "name": "#%%\n"
    }
   }
  },
  {
   "cell_type": "code",
   "execution_count": 153,
   "outputs": [],
   "source": [
    "df.to_pickle(\"df.pickle\")"
   ],
   "metadata": {
    "collapsed": false,
    "pycharm": {
     "name": "#%%\n"
    }
   }
  },
  {
   "cell_type": "code",
   "execution_count": 154,
   "outputs": [
    {
     "data": {
      "text/plain": "             step  best_val_acc_no_noise   bosdis  bosdis_at_best_val_acc  \\\ndir_name                                                                    \nversion_915  1116               0.086957  0.06852                 0.06852   \n\n             entropy_loss  entropy_loss/dataloader_idx_0  \\\ndir_name                                                   \nversion_915           NaN                       1.113034   \n\n             entropy_loss/dataloader_idx_1  entropy_loss/dataloader_idx_2  \\\ndir_name                                                                    \nversion_915                        1.13625                       1.118616   \n\n              epoch  hp_metric  ...  sync_batchnorm  terminate_on_nan  \\\ndir_name                        ...                                     \nversion_915  1116.0        NaN  ...             0.0              None   \n\n             test_set_size  tpu_cores  track_grad_norm  val_check_interval  \\\ndir_name                                                                     \nversion_915            0.1       None             -1.0                None   \n\n             vocab_size  vocab_size_feedback  weights_save_path  \\\ndir_name                                                          \nversion_915       100.0                  2.0               None   \n\n             weights_summary  \ndir_name                      \nversion_915              top  \n\n[1 rows x 136 columns]",
      "text/html": "<div>\n<style scoped>\n    .dataframe tbody tr th:only-of-type {\n        vertical-align: middle;\n    }\n\n    .dataframe tbody tr th {\n        vertical-align: top;\n    }\n\n    .dataframe thead th {\n        text-align: right;\n    }\n</style>\n<table border=\"1\" class=\"dataframe\">\n  <thead>\n    <tr style=\"text-align: right;\">\n      <th></th>\n      <th>step</th>\n      <th>best_val_acc_no_noise</th>\n      <th>bosdis</th>\n      <th>bosdis_at_best_val_acc</th>\n      <th>entropy_loss</th>\n      <th>entropy_loss/dataloader_idx_0</th>\n      <th>entropy_loss/dataloader_idx_1</th>\n      <th>entropy_loss/dataloader_idx_2</th>\n      <th>epoch</th>\n      <th>hp_metric</th>\n      <th>...</th>\n      <th>sync_batchnorm</th>\n      <th>terminate_on_nan</th>\n      <th>test_set_size</th>\n      <th>tpu_cores</th>\n      <th>track_grad_norm</th>\n      <th>val_check_interval</th>\n      <th>vocab_size</th>\n      <th>vocab_size_feedback</th>\n      <th>weights_save_path</th>\n      <th>weights_summary</th>\n    </tr>\n    <tr>\n      <th>dir_name</th>\n      <th></th>\n      <th></th>\n      <th></th>\n      <th></th>\n      <th></th>\n      <th></th>\n      <th></th>\n      <th></th>\n      <th></th>\n      <th></th>\n      <th></th>\n      <th></th>\n      <th></th>\n      <th></th>\n      <th></th>\n      <th></th>\n      <th></th>\n      <th></th>\n      <th></th>\n      <th></th>\n      <th></th>\n    </tr>\n  </thead>\n  <tbody>\n    <tr>\n      <th>version_915</th>\n      <td>1116</td>\n      <td>0.086957</td>\n      <td>0.06852</td>\n      <td>0.06852</td>\n      <td>NaN</td>\n      <td>1.113034</td>\n      <td>1.13625</td>\n      <td>1.118616</td>\n      <td>1116.0</td>\n      <td>NaN</td>\n      <td>...</td>\n      <td>0.0</td>\n      <td>None</td>\n      <td>0.1</td>\n      <td>None</td>\n      <td>-1.0</td>\n      <td>None</td>\n      <td>100.0</td>\n      <td>2.0</td>\n      <td>None</td>\n      <td>top</td>\n    </tr>\n  </tbody>\n</table>\n<p>1 rows × 136 columns</p>\n</div>"
     },
     "execution_count": 154,
     "metadata": {},
     "output_type": "execute_result"
    }
   ],
   "source": [
    "df\n"
   ],
   "metadata": {
    "collapsed": false,
    "pycharm": {
     "name": "#%%\n"
    }
   }
  },
  {
   "cell_type": "code",
   "execution_count": 154,
   "outputs": [],
   "source": [],
   "metadata": {
    "collapsed": false,
    "pycharm": {
     "name": "#%%\n"
    }
   }
  },
  {
   "cell_type": "code",
   "execution_count": 154,
   "outputs": [],
   "source": [],
   "metadata": {
    "collapsed": false,
    "pycharm": {
     "name": "#%%\n"
    }
   }
  }
 ],
 "metadata": {
  "kernelspec": {
   "display_name": "Python 3 (ipykernel)",
   "language": "python",
   "name": "python3"
  },
  "language_info": {
   "codemirror_mode": {
    "name": "ipython",
    "version": 3
   },
   "file_extension": ".py",
   "mimetype": "text/x-python",
   "name": "python",
   "nbconvert_exporter": "python",
   "pygments_lexer": "ipython3",
   "version": "3.9.7"
  }
 },
 "nbformat": 4,
 "nbformat_minor": 1
}