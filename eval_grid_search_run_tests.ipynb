{
 "cells": [
  {
   "cell_type": "code",
   "execution_count": 1,
   "outputs": [],
   "source": [
    "from data import SignalingGameDataModule\n",
    "from model import SignalingGameModule\n",
    "from pytorch_lightning import Trainer\n",
    "from eval import find_best_checkpoint\n",
    "\n",
    "def load_checkpoint(run_folder):\n",
    "    checkpoint_path = find_best_checkpoint(run_folder)\n",
    "    model = SignalingGameModule.load_from_checkpoint(checkpoint_path)\n",
    "    return model\n",
    "\n",
    "def eval_checkpoint(model):\n",
    "    config = model.params\n",
    "\n",
    "    config[\"max_epochs\"]=-1\n",
    "    config[\"num_workers\"]=8\n",
    "\n",
    "    datamodule = SignalingGameDataModule(num_attributes=config.num_attributes,\n",
    "                                             num_values=config.num_values,\n",
    "                                             max_num_objects=config.max_num_objects,\n",
    "                                             test_set_size=config.test_set_size,\n",
    "                                             batch_size=config.batch_size,\n",
    "                                             num_workers=config.num_workers)\n",
    "    trainer = Trainer.from_argparse_args(config)\n",
    "\n",
    "    test_results = trainer.test(model=model, datamodule=datamodule, verbose=False)\n",
    "    val_results = trainer.validate(model=model, datamodule=datamodule, verbose=False)\n",
    "    return val_results, test_results\n",
    "\n"
   ],
   "metadata": {
    "collapsed": false,
    "pycharm": {
     "name": "#%%\n"
    }
   }
  },
  {
   "cell_type": "code",
   "execution_count": 8,
   "outputs": [],
   "source": [
    "import os\n",
    "log_dir = os.path.expanduser(\"~/lis-cluster/emergent_communication/emergent_communication/lightning_logs/\")\n",
    "\n",
    "runs = os.listdir(log_dir)\n",
    "results_4_4_2_agents = []\n",
    "attributes = 4\n",
    "values = 4\n",
    "for run in runs:\n",
    "    run_folder = os.path.join(log_dir, run)\n",
    "\n",
    "    run_id = int(run.replace(\"version_\", \"\"))\n",
    "    if 1052353 <= run_id < 99999999999:\n",
    "        print(f\"Checking {run}\")\n",
    "\n",
    "        try:\n",
    "            model = load_checkpoint(run_folder)\n",
    "        except FileNotFoundError:\n",
    "            print(f\"No checkpoints found for {run}\")\n",
    "            continue\n",
    "\n",
    "        config = model.params\n",
    "        if config.num_attributes == attributes and config.num_values == values:\n",
    "            val_results, test_results = eval_checkpoint(model)\n",
    "            results_4_4_2_agents.append((run_id, config, val_results, test_results))"
   ],
   "metadata": {
    "collapsed": false,
    "pycharm": {
     "name": "#%%\n"
    }
   }
  },
  {
   "cell_type": "code",
   "execution_count": 6,
   "outputs": [
    {
     "data": {
      "text/plain": "0"
     },
     "execution_count": 6,
     "metadata": {},
     "output_type": "execute_result"
    }
   ],
   "source": [
    "len(results_4_4_2_agents)"
   ],
   "metadata": {
    "collapsed": false,
    "pycharm": {
     "name": "#%%\n"
    }
   }
  },
  {
   "cell_type": "code",
   "execution_count": 28,
   "outputs": [
    {
     "data": {
      "text/plain": "<AxesSubplot:xlabel='clarification_requests', ylabel='val_acc'>"
     },
     "execution_count": 28,
     "metadata": {},
     "output_type": "execute_result"
    },
    {
     "data": {
      "text/plain": "<Figure size 1440x720 with 1 Axes>",
      "image/png": "[encoded data removed]"
     },
     "metadata": {},
     "output_type": "display_data"
    }
   ],
   "source": [
    "import pandas as pd\n",
    "\n",
    "df = []\n",
    "for res in results_4_4_noise_0_2:\n",
    "    run_id, config, val_results, test_results = res\n",
    "    df.append({\n",
    "        \"clarification_requests\": config[\"clarification_requests\"],\n",
    "        \"test_acc\": test_results[0][\"test_acc_no_noise\"],\n",
    "        \"val_acc\": val_results[0][\"val_acc_no_noise\"],\n",
    "        \"topsim\": test_results[0][\"topsim_at_best_val_acc\"],\n",
    "        \"entropy_coeff\": config[\"sender_entropy_coeff\"],\n",
    "    })\n",
    "\n",
    "df = pd.DataFrame(df)\n",
    "\n",
    "import seaborn as sns\n",
    "import matplotlib.pyplot as plt\n",
    "plt.figure(figsize=(20, 10))\n",
    "# sns.swarmplot(data=df, x=\"clarification_requests\", y=\"test_acc_no_noise\", hue=\"entropy_coeff\")\n",
    "sns.boxplot(data=df, x=\"clarification_requests\", y=\"val_acc\", hue=\"entropy_coeff\")"
   ],
   "metadata": {
    "collapsed": false,
    "pycharm": {
     "name": "#%%\n"
    }
   }
  },
  {
   "cell_type": "code",
   "execution_count": null,
   "outputs": [],
   "source": [],
   "metadata": {
    "collapsed": false,
    "pycharm": {
     "name": "#%%\n"
    }
   }
  },
  {
   "cell_type": "code",
   "execution_count": null,
   "outputs": [],
   "source": [],
   "metadata": {
    "collapsed": false,
    "pycharm": {
     "name": "#%%\n"
    }
   }
  },
  {
   "cell_type": "code",
   "execution_count": null,
   "outputs": [],
   "source": [],
   "metadata": {
    "collapsed": false,
    "pycharm": {
     "name": "#%%\n"
    }
   }
  }
 ],
 "metadata": {
  "kernelspec": {
   "display_name": "Python 3 (ipykernel)",
   "language": "python",
   "name": "python3"
  },
  "language_info": {
   "codemirror_mode": {
    "name": "ipython",
    "version": 3
   },
   "file_extension": ".py",
   "mimetype": "text/x-python",
   "name": "python",
   "nbconvert_exporter": "python",
   "pygments_lexer": "ipython3",
   "version": "3.9.7"
  }
 },
 "nbformat": 4,
 "nbformat_minor": 1
}