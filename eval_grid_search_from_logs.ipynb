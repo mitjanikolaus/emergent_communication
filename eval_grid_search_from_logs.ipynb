{
 "cells": [
  {
   "cell_type": "code",
   "execution_count": 182,
   "outputs": [],
   "source": [
    "import math\n",
    "import os\n",
    "import glob\n",
    "import numpy as np\n",
    "import pandas as pd\n",
    "import seaborn as sns\n",
    "import matplotlib.pyplot as plt\n",
    "from tqdm import tqdm\n",
    "from pandas import json_normalize\n",
    "import yaml\n",
    "from yaml import CSafeLoader as Loader\n",
    "\n",
    "sns.set_context(\"paper\", font_scale=3)\n",
    "\n",
    "# LOG_DIR = os.path.expanduser(\"~/jean-zay/emergent_communication/lightning_logs_final/\")\n",
    "# LOG_DIR = os.path.expanduser(\"~/PhD/emergent_communication/emergent_communication/lightning_logs/\")\n",
    "LOG_DIR = os.path.expanduser(\"~/PhD/emergent_communication/emergent_communication/lightning_logs_cluster/\")\n",
    "\n",
    "\n",
    "REFERENCE_METRIC = \"val_acc\""
   ],
   "metadata": {
    "collapsed": false,
    "ExecuteTime": {
     "end_time": "2023-11-17T14:25:28.194548936Z",
     "start_time": "2023-11-17T14:25:26.377982052Z"
    }
   }
  },
  {
   "cell_type": "code",
   "execution_count": 183,
   "outputs": [
    {
     "name": "stderr",
     "output_type": "stream",
     "text": [
      "  0%|          | 0/297 [00:00<?, ?it/s]"
     ]
    },
    {
     "name": "stdout",
     "output_type": "stream",
     "text": [
      "considering pre-final results for run 42294\n",
      "/home/mitja/PhD/emergent_communication/emergent_communication/lightning_logs_cluster/version_42294/results.pickle\n",
      "/home/mitja/PhD/emergent_communication/emergent_communication/lightning_logs_cluster/version_40064/checkpoints/epoch=299-val_acc=0.90_results.pickle\n"
     ]
    },
    {
     "name": "stderr",
     "output_type": "stream",
     "text": [
      "  1%|          | 2/297 [00:00<00:32,  9.12it/s]"
     ]
    },
    {
     "name": "stdout",
     "output_type": "stream",
     "text": [
      "considering pre-final results for run 42214\n",
      "/home/mitja/PhD/emergent_communication/emergent_communication/lightning_logs_cluster/version_42214/results.pickle\n",
      "considering pre-final results for run 47547\n",
      "/home/mitja/PhD/emergent_communication/emergent_communication/lightning_logs_cluster/version_47547/results.pickle\n",
      "/home/mitja/PhD/emergent_communication/emergent_communication/lightning_logs_cluster/version_37437/checkpoints/epoch=179-val_acc=0.79_results.pickle\n"
     ]
    },
    {
     "name": "stderr",
     "output_type": "stream",
     "text": [
      "  2%|▏         | 5/297 [00:00<00:28, 10.12it/s]"
     ]
    },
    {
     "name": "stdout",
     "output_type": "stream",
     "text": [
      "/home/mitja/PhD/emergent_communication/emergent_communication/lightning_logs_cluster/version_21482/checkpoints/epoch=1619-val_acc=0.69_results.pickle\n"
     ]
    },
    {
     "name": "stderr",
     "output_type": "stream",
     "text": [
      "  2%|▏         | 7/297 [00:00<00:39,  7.31it/s]"
     ]
    },
    {
     "name": "stdout",
     "output_type": "stream",
     "text": [
      "/home/mitja/PhD/emergent_communication/emergent_communication/lightning_logs_cluster/version_56033/checkpoints/epoch=3119-val_acc=0.79_results.pickle\n",
      "/home/mitja/PhD/emergent_communication/emergent_communication/lightning_logs_cluster/version_42027/checkpoints/epoch=19-val_acc=1.00_results.pickle\n"
     ]
    },
    {
     "name": "stderr",
     "output_type": "stream",
     "text": [
      "  4%|▎         | 11/297 [00:01<00:30,  9.40it/s]"
     ]
    },
    {
     "name": "stdout",
     "output_type": "stream",
     "text": [
      "considering pre-final results for run 31521\n",
      "gre\n",
      "/home/mitja/PhD/emergent_communication/emergent_communication/lightning_logs_cluster/version_31521/results.pickle\n",
      "considering pre-final results for run 42301\n",
      "/home/mitja/PhD/emergent_communication/emergent_communication/lightning_logs_cluster/version_42301/results.pickle\n",
      "/home/mitja/PhD/emergent_communication/emergent_communication/lightning_logs_cluster/version_59119/checkpoints/epoch=739-val_acc=0.91_results.pickle\n",
      "/home/mitja/PhD/emergent_communication/emergent_communication/lightning_logs_cluster/version_56026/checkpoints/epoch=3019-val_acc=0.90_results.pickle\n"
     ]
    },
    {
     "name": "stderr",
     "output_type": "stream",
     "text": [
      "  5%|▌         | 15/297 [00:01<00:26, 10.47it/s]"
     ]
    },
    {
     "name": "stdout",
     "output_type": "stream",
     "text": [
      "/home/mitja/PhD/emergent_communication/emergent_communication/lightning_logs_cluster/version_43940/checkpoints/epoch=279-val_acc=0.93_results.pickle\n",
      "/home/mitja/PhD/emergent_communication/emergent_communication/lightning_logs_cluster/version_41768/checkpoints/epoch=3279-val_acc=0.85_results.pickle\n",
      "/home/mitja/PhD/emergent_communication/emergent_communication/lightning_logs_cluster/version_37109/checkpoints/epoch=4399-val_acc=0.61_results.pickle\n"
     ]
    },
    {
     "name": "stderr",
     "output_type": "stream",
     "text": [
      "  6%|▌         | 17/297 [00:01<00:23, 12.04it/s]"
     ]
    },
    {
     "name": "stdout",
     "output_type": "stream",
     "text": [
      "/home/mitja/PhD/emergent_communication/emergent_communication/lightning_logs_cluster/version_22451/checkpoints/epoch=3399-val_acc=0.74_results.pickle\n",
      "/home/mitja/PhD/emergent_communication/emergent_communication/lightning_logs_cluster/version_22558/checkpoints/epoch=39-val_acc=0.94_results.pickle\n",
      "/home/mitja/PhD/emergent_communication/emergent_communication/lightning_logs_cluster/version_41781/checkpoints/epoch=1579-val_acc=0.61_results.pickle\n",
      "considering pre-final results for run 21573\n",
      "/home/mitja/PhD/emergent_communication/emergent_communication/lightning_logs_cluster/version_21573/results.pickle\n",
      "/home/mitja/PhD/emergent_communication/emergent_communication/lightning_logs_cluster/version_40740/checkpoints/epoch=3699-val_acc=0.88_results.pickle\n",
      "/home/mitja/PhD/emergent_communication/emergent_communication/lightning_logs_cluster/version_40705/checkpoints/epoch=3419-val_acc=0.63_results.pickle\n"
     ]
    },
    {
     "name": "stderr",
     "output_type": "stream",
     "text": [
      "  8%|▊         | 24/297 [00:01<00:14, 18.40it/s]"
     ]
    },
    {
     "name": "stdout",
     "output_type": "stream",
     "text": [
      "/home/mitja/PhD/emergent_communication/emergent_communication/lightning_logs_cluster/version_31640/checkpoints/epoch=999-val_acc=0.96_results.pickle\n",
      "/home/mitja/PhD/emergent_communication/emergent_communication/lightning_logs_cluster/version_37436/checkpoints/epoch=99-val_acc=0.67_results.pickle\n",
      "/home/mitja/PhD/emergent_communication/emergent_communication/lightning_logs_cluster/version_56024/checkpoints/epoch=3939-val_acc=0.90_results.pickle\n",
      "/home/mitja/PhD/emergent_communication/emergent_communication/lightning_logs_cluster/version_46513/checkpoints/epoch=2819-val_acc=0.92_results.pickle\n",
      "/home/mitja/PhD/emergent_communication/emergent_communication/lightning_logs_cluster/version_48632/checkpoints/epoch=2459-val_acc=0.90_results.pickle\n"
     ]
    },
    {
     "name": "stderr",
     "output_type": "stream",
     "text": [
      "  9%|▉         | 28/297 [00:02<00:12, 20.89it/s]"
     ]
    },
    {
     "name": "stdout",
     "output_type": "stream",
     "text": [
      "considering pre-final results for run 21570\n",
      "/home/mitja/PhD/emergent_communication/emergent_communication/lightning_logs_cluster/version_21570/results.pickle\n",
      "/home/mitja/PhD/emergent_communication/emergent_communication/lightning_logs_cluster/version_36568/checkpoints/epoch=339-val_acc=0.96_results.pickle\n",
      "considering pre-final results for run 42201\n",
      "/home/mitja/PhD/emergent_communication/emergent_communication/lightning_logs_cluster/version_42201/results.pickle\n",
      "/home/mitja/PhD/emergent_communication/emergent_communication/lightning_logs_cluster/version_43931/checkpoints/epoch=79-val_acc=0.93_results.pickle\n",
      "/home/mitja/PhD/emergent_communication/emergent_communication/lightning_logs_cluster/version_56022/checkpoints/epoch=2499-val_acc=0.90_results.pickle\n",
      "/home/mitja/PhD/emergent_communication/emergent_communication/lightning_logs_cluster/version_37213/checkpoints/epoch=2199-val_acc=0.90_results.pickle\n"
     ]
    },
    {
     "name": "stderr",
     "output_type": "stream",
     "text": [
      " 12%|█▏        | 35/297 [00:02<00:12, 21.71it/s]"
     ]
    },
    {
     "name": "stdout",
     "output_type": "stream",
     "text": [
      "/home/mitja/PhD/emergent_communication/emergent_communication/lightning_logs_cluster/version_36570/checkpoints/epoch=399-val_acc=0.66_results.pickle\n",
      "/home/mitja/PhD/emergent_communication/emergent_communication/lightning_logs_cluster/version_44319/checkpoints/epoch=759-val_acc=0.70_results.pickle\n",
      "/home/mitja/PhD/emergent_communication/emergent_communication/lightning_logs_cluster/version_36096/checkpoints/epoch=1959-val_acc=0.43_results.pickle\n",
      "/home/mitja/PhD/emergent_communication/emergent_communication/lightning_logs_cluster/version_40702/checkpoints/epoch=2399-val_acc=0.60_results.pickle\n"
     ]
    },
    {
     "name": "stderr",
     "output_type": "stream",
     "text": [
      " 14%|█▍        | 43/297 [00:02<00:09, 26.74it/s]"
     ]
    },
    {
     "name": "stdout",
     "output_type": "stream",
     "text": [
      "/home/mitja/PhD/emergent_communication/emergent_communication/lightning_logs_cluster/version_40067/checkpoints/epoch=199-val_acc=0.99_results.pickle\n",
      "considering pre-final results for run 31523\n",
      "/home/mitja/PhD/emergent_communication/emergent_communication/lightning_logs_cluster/version_31523/results.pickle\n",
      "considering pre-final results for run 21794\n",
      "/home/mitja/PhD/emergent_communication/emergent_communication/lightning_logs_cluster/version_21794/results.pickle\n",
      "/home/mitja/PhD/emergent_communication/emergent_communication/lightning_logs_cluster/version_56008/checkpoints/epoch=2499-val_acc=0.94_results.pickle\n",
      "/home/mitja/PhD/emergent_communication/emergent_communication/lightning_logs_cluster/version_46509/checkpoints/epoch=5439-val_acc=0.92_results.pickle\n",
      "/home/mitja/PhD/emergent_communication/emergent_communication/lightning_logs_cluster/version_43942/checkpoints/epoch=119-val_acc=0.99_results.pickle\n",
      "/home/mitja/PhD/emergent_communication/emergent_communication/lightning_logs_cluster/version_46036/checkpoints/epoch=779-val_acc=0.96_results.pickle\n",
      "/home/mitja/PhD/emergent_communication/emergent_communication/lightning_logs_cluster/version_56016/checkpoints/epoch=2259-val_acc=0.90_results.pickle\n"
     ]
    },
    {
     "name": "stderr",
     "output_type": "stream",
     "text": [
      " 17%|█▋        | 51/297 [00:02<00:06, 37.54it/s]"
     ]
    },
    {
     "name": "stdout",
     "output_type": "stream",
     "text": [
      "considering pre-final results for run 42204\n",
      "/home/mitja/PhD/emergent_communication/emergent_communication/lightning_logs_cluster/version_42204/results.pickle\n",
      "/home/mitja/PhD/emergent_communication/emergent_communication/lightning_logs_cluster/version_36084/checkpoints/epoch=1239-val_acc=0.87_results.pickle\n",
      "/home/mitja/PhD/emergent_communication/emergent_communication/lightning_logs_cluster/version_36095/checkpoints/epoch=1619-val_acc=0.44_results.pickle\n",
      "considering pre-final results for run 45838\n",
      "/home/mitja/PhD/emergent_communication/emergent_communication/lightning_logs_cluster/version_45838/results.pickle\n",
      "considering pre-final results for run 42305\n",
      "/home/mitja/PhD/emergent_communication/emergent_communication/lightning_logs_cluster/version_42305/results.pickle\n",
      "/home/mitja/PhD/emergent_communication/emergent_communication/lightning_logs_cluster/version_40054/checkpoints/epoch=119-val_acc=0.78_results.pickle\n",
      "/home/mitja/PhD/emergent_communication/emergent_communication/lightning_logs_cluster/version_48642/checkpoints/epoch=3339-val_acc=0.89_results.pickle\n",
      "/home/mitja/PhD/emergent_communication/emergent_communication/lightning_logs_cluster/version_37211/checkpoints/epoch=2799-val_acc=0.89_results.pickle\n",
      "considering pre-final results for run 42299\n",
      "/home/mitja/PhD/emergent_communication/emergent_communication/lightning_logs_cluster/version_42299/results.pickle\n",
      "/home/mitja/PhD/emergent_communication/emergent_communication/lightning_logs_cluster/version_41757/checkpoints/epoch=2159-val_acc=0.87_results.pickle\n"
     ]
    },
    {
     "name": "stderr",
     "output_type": "stream",
     "text": [
      " 19%|█▊        | 55/297 [00:02<00:06, 36.51it/s]"
     ]
    },
    {
     "name": "stdout",
     "output_type": "stream",
     "text": [
      "/home/mitja/PhD/emergent_communication/emergent_communication/lightning_logs_cluster/version_39891/checkpoints/epoch=39-val_acc=1.00_results.pickle\n",
      "/home/mitja/PhD/emergent_communication/emergent_communication/lightning_logs_cluster/version_48589/checkpoints/epoch=79-val_acc=0.58_results.pickle\n",
      "/home/mitja/PhD/emergent_communication/emergent_communication/lightning_logs_cluster/version_46039/checkpoints/epoch=2859-val_acc=0.97_results.pickle\n",
      "/home/mitja/PhD/emergent_communication/emergent_communication/lightning_logs_cluster/version_37108/checkpoints/epoch=2739-val_acc=0.83_results.pickle\n"
     ]
    },
    {
     "name": "stderr",
     "output_type": "stream",
     "text": [
      " 21%|██        | 63/297 [00:03<00:09, 25.61it/s]"
     ]
    },
    {
     "name": "stdout",
     "output_type": "stream",
     "text": [
      "/home/mitja/PhD/emergent_communication/emergent_communication/lightning_logs_cluster/version_56021/checkpoints/epoch=2459-val_acc=0.89_results.pickle\n",
      "/home/mitja/PhD/emergent_communication/emergent_communication/lightning_logs_cluster/version_37432/checkpoints/epoch=159-val_acc=0.96_results.pickle\n",
      "/home/mitja/PhD/emergent_communication/emergent_communication/lightning_logs_cluster/version_31550/checkpoints/epoch=139-val_acc=0.99_results.pickle\n",
      "/home/mitja/PhD/emergent_communication/emergent_communication/lightning_logs_cluster/version_44147/checkpoints/epoch=179-val_acc=0.99_results.pickle\n",
      "/home/mitja/PhD/emergent_communication/emergent_communication/lightning_logs_cluster/version_41786/checkpoints/epoch=2559-val_acc=0.45_results.pickle\n"
     ]
    },
    {
     "name": "stderr",
     "output_type": "stream",
     "text": [
      " 22%|██▏       | 66/297 [00:03<00:09, 25.22it/s]"
     ]
    },
    {
     "name": "stdout",
     "output_type": "stream",
     "text": [
      "/home/mitja/PhD/emergent_communication/emergent_communication/lightning_logs_cluster/version_46193/checkpoints/epoch=2279-val_acc=0.97_results.pickle\n",
      "/home/mitja/PhD/emergent_communication/emergent_communication/lightning_logs_cluster/version_23103/checkpoints/epoch=399-val_acc=0.83_results.pickle\n",
      "/home/mitja/PhD/emergent_communication/emergent_communication/lightning_logs_cluster/version_40057/checkpoints/epoch=359-val_acc=0.86_results.pickle\n",
      "/home/mitja/PhD/emergent_communication/emergent_communication/lightning_logs_cluster/version_40055/checkpoints/epoch=459-val_acc=0.86_results.pickle\n",
      "/home/mitja/PhD/emergent_communication/emergent_communication/lightning_logs_cluster/version_40058/checkpoints/epoch=39-val_acc=0.76_results.pickle\n"
     ]
    },
    {
     "name": "stderr",
     "output_type": "stream",
     "text": [
      " 24%|██▍       | 72/297 [00:03<00:09, 23.81it/s]"
     ]
    },
    {
     "name": "stdout",
     "output_type": "stream",
     "text": [
      "/home/mitja/PhD/emergent_communication/emergent_communication/lightning_logs_cluster/version_36569/checkpoints/epoch=279-val_acc=0.69_results.pickle\n",
      "/home/mitja/PhD/emergent_communication/emergent_communication/lightning_logs_cluster/version_40069/checkpoints/epoch=239-val_acc=0.99_results.pickle\n",
      "/home/mitja/PhD/emergent_communication/emergent_communication/lightning_logs_cluster/version_37429/checkpoints/epoch=379-val_acc=0.89_results.pickle\n",
      "/home/mitja/PhD/emergent_communication/emergent_communication/lightning_logs_cluster/version_41771/checkpoints/epoch=2999-val_acc=0.84_results.pickle\n",
      "/home/mitja/PhD/emergent_communication/emergent_communication/lightning_logs_cluster/version_40703/checkpoints/epoch=2759-val_acc=0.63_results.pickle\n",
      "considering pre-final results for run 21795\n",
      "/home/mitja/PhD/emergent_communication/emergent_communication/lightning_logs_cluster/version_21795/results.pickle\n",
      "/home/mitja/PhD/emergent_communication/emergent_communication/lightning_logs_cluster/version_39926/checkpoints/epoch=299-val_acc=0.91_results.pickle\n"
     ]
    },
    {
     "name": "stderr",
     "output_type": "stream",
     "text": [
      " 27%|██▋       | 80/297 [00:03<00:07, 28.66it/s]"
     ]
    },
    {
     "name": "stdout",
     "output_type": "stream",
     "text": [
      "/home/mitja/PhD/emergent_communication/emergent_communication/lightning_logs_cluster/version_50910/checkpoints/epoch=179-val_acc=0.99_results.pickle\n",
      "/home/mitja/PhD/emergent_communication/emergent_communication/lightning_logs_cluster/version_43935/checkpoints/epoch=239-val_acc=0.99_results.pickle\n",
      "considering pre-final results for run 31649\n",
      "/home/mitja/PhD/emergent_communication/emergent_communication/lightning_logs_cluster/version_31649/results.pickle\n",
      "/home/mitja/PhD/emergent_communication/emergent_communication/lightning_logs_cluster/version_36089/checkpoints/epoch=2079-val_acc=0.83_results.pickle\n",
      "considering pre-final results for run 31530\n",
      "/home/mitja/PhD/emergent_communication/emergent_communication/lightning_logs_cluster/version_31530/results.pickle\n",
      "considering pre-final results for run 31544\n",
      "/home/mitja/PhD/emergent_communication/emergent_communication/lightning_logs_cluster/version_31544/results.pickle\n",
      "/home/mitja/PhD/emergent_communication/emergent_communication/lightning_logs_cluster/version_48635/checkpoints/epoch=1879-val_acc=0.90_results.pickle\n",
      "considering pre-final results for run 22254\n",
      "/home/mitja/PhD/emergent_communication/emergent_communication/lightning_logs_cluster/version_22254/results.pickle\n",
      "/home/mitja/PhD/emergent_communication/emergent_communication/lightning_logs_cluster/version_59116/checkpoints/epoch=59-val_acc=0.90_results.pickle\n"
     ]
    },
    {
     "name": "stderr",
     "output_type": "stream",
     "text": [
      " 30%|███       | 90/297 [00:04<00:06, 31.52it/s]"
     ]
    },
    {
     "name": "stdout",
     "output_type": "stream",
     "text": [
      "/home/mitja/PhD/emergent_communication/emergent_communication/lightning_logs_cluster/version_36565/checkpoints/epoch=319-val_acc=0.99_results.pickle\n",
      "/home/mitja/PhD/emergent_communication/emergent_communication/lightning_logs_cluster/version_41834/checkpoints/epoch=479-val_acc=0.89_results.pickle\n",
      "/home/mitja/PhD/emergent_communication/emergent_communication/lightning_logs_cluster/version_44307/checkpoints/epoch=579-val_acc=0.74_results.pickle\n",
      "/home/mitja/PhD/emergent_communication/emergent_communication/lightning_logs_cluster/version_36011/checkpoints/epoch=159-val_acc=0.70_results.pickle\n",
      "/home/mitja/PhD/emergent_communication/emergent_communication/lightning_logs_cluster/version_46209/checkpoints/epoch=2979-val_acc=0.92_results.pickle\n",
      "/home/mitja/PhD/emergent_communication/emergent_communication/lightning_logs_cluster/version_22603/checkpoints/epoch=3799-val_acc=0.78_results.pickle\n"
     ]
    },
    {
     "name": "stderr",
     "output_type": "stream",
     "text": [
      " 32%|███▏      | 94/297 [00:04<00:06, 32.13it/s]"
     ]
    },
    {
     "name": "stdout",
     "output_type": "stream",
     "text": [
      "/home/mitja/PhD/emergent_communication/emergent_communication/lightning_logs_cluster/version_36012/checkpoints/epoch=339-val_acc=0.79_results.pickle\n",
      "/home/mitja/PhD/emergent_communication/emergent_communication/lightning_logs_cluster/version_56013/checkpoints/epoch=2379-val_acc=0.94_results.pickle\n",
      "/home/mitja/PhD/emergent_communication/emergent_communication/lightning_logs_cluster/version_39919/checkpoints/epoch=379-val_acc=0.95_results.pickle\n",
      "/home/mitja/PhD/emergent_communication/emergent_communication/lightning_logs_cluster/version_45752/checkpoints/epoch=4319-val_acc=0.96_results.pickle\n",
      "/home/mitja/PhD/emergent_communication/emergent_communication/lightning_logs_cluster/version_36566/checkpoints/epoch=239-val_acc=0.82_results.pickle\n",
      "/home/mitja/PhD/emergent_communication/emergent_communication/lightning_logs_cluster/version_36010/checkpoints/epoch=239-val_acc=0.97_results.pickle\n"
     ]
    },
    {
     "name": "stderr",
     "output_type": "stream",
     "text": [
      " 34%|███▍      | 102/297 [00:04<00:06, 31.64it/s]"
     ]
    },
    {
     "name": "stdout",
     "output_type": "stream",
     "text": [
      "/home/mitja/PhD/emergent_communication/emergent_communication/lightning_logs_cluster/version_36088/checkpoints/epoch=1339-val_acc=0.83_results.pickle\n",
      "/home/mitja/PhD/emergent_communication/emergent_communication/lightning_logs_cluster/version_36008/checkpoints/epoch=139-val_acc=1.00_results.pickle\n",
      "/home/mitja/PhD/emergent_communication/emergent_communication/lightning_logs_cluster/version_45816/checkpoints/epoch=3219-val_acc=0.96_results.pickle\n",
      "/home/mitja/PhD/emergent_communication/emergent_communication/lightning_logs_cluster/version_41760/checkpoints/epoch=3999-val_acc=0.89_results.pickle\n",
      "/home/mitja/PhD/emergent_communication/emergent_communication/lightning_logs_cluster/version_22275/checkpoints/epoch=2739-val_acc=0.85_results.pickle\n",
      "/home/mitja/PhD/emergent_communication/emergent_communication/lightning_logs_cluster/version_48595/checkpoints/epoch=339-val_acc=0.58_results.pickle\n",
      "/home/mitja/PhD/emergent_communication/emergent_communication/lightning_logs_cluster/version_56003/checkpoints/epoch=1839-val_acc=0.94_results.pickle\n"
     ]
    },
    {
     "name": "stderr",
     "output_type": "stream",
     "text": [
      " 36%|███▋      | 108/297 [00:04<00:05, 35.04it/s]"
     ]
    },
    {
     "name": "stdout",
     "output_type": "stream",
     "text": [
      "considering pre-final results for run 22255\n",
      "/home/mitja/PhD/emergent_communication/emergent_communication/lightning_logs_cluster/version_22255/results.pickle\n",
      "/home/mitja/PhD/emergent_communication/emergent_communication/lightning_logs_cluster/version_45814/checkpoints/epoch=2279-val_acc=0.97_results.pickle\n",
      "/home/mitja/PhD/emergent_communication/emergent_communication/lightning_logs_cluster/version_39927/checkpoints/epoch=219-val_acc=0.96_results.pickle\n",
      "/home/mitja/PhD/emergent_communication/emergent_communication/lightning_logs_cluster/version_41784/checkpoints/epoch=379-val_acc=0.42_results.pickle\n",
      "/home/mitja/PhD/emergent_communication/emergent_communication/lightning_logs_cluster/version_31641/checkpoints/epoch=759-val_acc=0.99_results.pickle\n",
      "/home/mitja/PhD/emergent_communication/emergent_communication/lightning_logs_cluster/version_40742/checkpoints/epoch=3059-val_acc=0.87_results.pickle\n",
      "/home/mitja/PhD/emergent_communication/emergent_communication/lightning_logs_cluster/version_39912/checkpoints/epoch=539-val_acc=0.96_results.pickle\n"
     ]
    },
    {
     "name": "stderr",
     "output_type": "stream",
     "text": [
      " 39%|███▉      | 116/297 [00:05<00:05, 32.53it/s]"
     ]
    },
    {
     "name": "stdout",
     "output_type": "stream",
     "text": [
      "/home/mitja/PhD/emergent_communication/emergent_communication/lightning_logs_cluster/version_44299/checkpoints/epoch=1899-val_acc=0.70_results.pickle\n",
      "/home/mitja/PhD/emergent_communication/emergent_communication/lightning_logs_cluster/version_42034/checkpoints/epoch=19-val_acc=0.99_results.pickle\n",
      "/home/mitja/PhD/emergent_communication/emergent_communication/lightning_logs_cluster/version_22559/checkpoints/epoch=399-val_acc=0.98_results.pickle\n",
      "/home/mitja/PhD/emergent_communication/emergent_communication/lightning_logs_cluster/version_37110/checkpoints/epoch=3539-val_acc=0.42_results.pickle\n",
      "/home/mitja/PhD/emergent_communication/emergent_communication/lightning_logs_cluster/version_39908/checkpoints/epoch=339-val_acc=0.99_results.pickle\n",
      "/home/mitja/PhD/emergent_communication/emergent_communication/lightning_logs_cluster/version_56038/checkpoints/epoch=2339-val_acc=0.50_results.pickle\n",
      "/home/mitja/PhD/emergent_communication/emergent_communication/lightning_logs_cluster/version_41773/checkpoints/epoch=3659-val_acc=0.85_results.pickle\n"
     ]
    },
    {
     "name": "stderr",
     "output_type": "stream",
     "text": [
      " 42%|████▏     | 124/297 [00:05<00:05, 30.95it/s]"
     ]
    },
    {
     "name": "stdout",
     "output_type": "stream",
     "text": [
      "/home/mitja/PhD/emergent_communication/emergent_communication/lightning_logs_cluster/version_37214/checkpoints/epoch=1779-val_acc=0.91_results.pickle\n",
      "/home/mitja/PhD/emergent_communication/emergent_communication/lightning_logs_cluster/version_46208/checkpoints/epoch=5439-val_acc=0.92_results.pickle\n",
      "/home/mitja/PhD/emergent_communication/emergent_communication/lightning_logs_cluster/version_56015/checkpoints/epoch=3299-val_acc=0.92_results.pickle\n",
      "/home/mitja/PhD/emergent_communication/emergent_communication/lightning_logs_cluster/version_46196/checkpoints/epoch=2439-val_acc=0.97_results.pickle\n",
      "/home/mitja/PhD/emergent_communication/emergent_communication/lightning_logs_cluster/version_36560/checkpoints/epoch=39-val_acc=0.99_results.pickle\n",
      "/home/mitja/PhD/emergent_communication/emergent_communication/lightning_logs_cluster/version_41764/checkpoints/epoch=3399-val_acc=0.89_results.pickle\n"
     ]
    },
    {
     "name": "stderr",
     "output_type": "stream",
     "text": [
      " 43%|████▎     | 128/297 [00:05<00:05, 30.41it/s]"
     ]
    },
    {
     "name": "stdout",
     "output_type": "stream",
     "text": [
      "/home/mitja/PhD/emergent_communication/emergent_communication/lightning_logs_cluster/version_22733/checkpoints/epoch=1199-val_acc=0.65_results.pickle\n",
      "/home/mitja/PhD/emergent_communication/emergent_communication/lightning_logs_cluster/version_56037/checkpoints/epoch=3199-val_acc=0.56_results.pickle\n",
      "/home/mitja/PhD/emergent_communication/emergent_communication/lightning_logs_cluster/version_48634/checkpoints/epoch=1979-val_acc=0.90_results.pickle\n",
      "/home/mitja/PhD/emergent_communication/emergent_communication/lightning_logs_cluster/version_56009/checkpoints/epoch=1919-val_acc=0.94_results.pickle\n",
      "/home/mitja/PhD/emergent_communication/emergent_communication/lightning_logs_cluster/version_45754/checkpoints/epoch=779-val_acc=0.96_results.pickle\n",
      "/home/mitja/PhD/emergent_communication/emergent_communication/lightning_logs_cluster/version_36086/checkpoints/epoch=519-val_acc=0.87_results.pickle\n"
     ]
    },
    {
     "name": "stderr",
     "output_type": "stream",
     "text": [
      " 46%|████▌     | 137/297 [00:05<00:04, 32.79it/s]"
     ]
    },
    {
     "name": "stdout",
     "output_type": "stream",
     "text": [
      "/home/mitja/PhD/emergent_communication/emergent_communication/lightning_logs_cluster/version_56001/checkpoints/epoch=1479-val_acc=0.93_results.pickle\n",
      "/home/mitja/PhD/emergent_communication/emergent_communication/lightning_logs_cluster/version_48587/checkpoints/epoch=319-val_acc=0.58_results.pickle\n",
      "considering pre-final results for run 31549\n",
      "/home/mitja/PhD/emergent_communication/emergent_communication/lightning_logs_cluster/version_31549/results.pickle\n",
      "/home/mitja/PhD/emergent_communication/emergent_communication/lightning_logs_cluster/version_46212/checkpoints/epoch=1919-val_acc=0.92_results.pickle\n",
      "considering pre-final results for run 21796\n",
      "/home/mitja/PhD/emergent_communication/emergent_communication/lightning_logs_cluster/version_21796/results.pickle\n",
      "/home/mitja/PhD/emergent_communication/emergent_communication/lightning_logs_cluster/version_37435/checkpoints/epoch=259-val_acc=0.96_results.pickle\n",
      "/home/mitja/PhD/emergent_communication/emergent_communication/lightning_logs_cluster/version_45756/checkpoints/epoch=2619-val_acc=0.97_results.pickle\n",
      "/home/mitja/PhD/emergent_communication/emergent_communication/lightning_logs_cluster/version_46211/checkpoints/epoch=3299-val_acc=0.93_results.pickle\n"
     ]
    },
    {
     "name": "stderr",
     "output_type": "stream",
     "text": [
      " 49%|████▉     | 147/297 [00:05<00:03, 38.48it/s]"
     ]
    },
    {
     "name": "stdout",
     "output_type": "stream",
     "text": [
      "/home/mitja/PhD/emergent_communication/emergent_communication/lightning_logs_cluster/version_46514/checkpoints/epoch=1919-val_acc=0.92_results.pickle\n",
      "/home/mitja/PhD/emergent_communication/emergent_communication/lightning_logs_cluster/version_39898/checkpoints/epoch=19-val_acc=0.99_results.pickle\n",
      "considering pre-final results for run 31548\n",
      "/home/mitja/PhD/emergent_communication/emergent_communication/lightning_logs_cluster/version_31548/results.pickle\n",
      "considering pre-final results for run 21572\n",
      "/home/mitja/PhD/emergent_communication/emergent_communication/lightning_logs_cluster/version_21572/results.pickle\n",
      "considering pre-final results for run 31527\n",
      "/home/mitja/PhD/emergent_communication/emergent_communication/lightning_logs_cluster/version_31527/results.pickle\n",
      "/home/mitja/PhD/emergent_communication/emergent_communication/lightning_logs_cluster/version_48633/checkpoints/epoch=1479-val_acc=0.89_results.pickle\n",
      "/home/mitja/PhD/emergent_communication/emergent_communication/lightning_logs_cluster/version_37438/checkpoints/epoch=519-val_acc=0.70_results.pickle\n",
      "/home/mitja/PhD/emergent_communication/emergent_communication/lightning_logs_cluster/version_31522/checkpoints/epoch=99-val_acc=0.99_results.pickle\n",
      "/home/mitja/PhD/emergent_communication/emergent_communication/lightning_logs_cluster/version_36104/checkpoints/epoch=1559-val_acc=0.87_results.pickle\n"
     ]
    },
    {
     "name": "stderr",
     "output_type": "stream",
     "text": [
      " 51%|█████     | 151/297 [00:06<00:03, 37.32it/s]"
     ]
    },
    {
     "name": "stdout",
     "output_type": "stream",
     "text": [
      "/home/mitja/PhD/emergent_communication/emergent_communication/lightning_logs_cluster/version_50915/checkpoints/epoch=139-val_acc=0.99_results.pickle\n",
      "/home/mitja/PhD/emergent_communication/emergent_communication/lightning_logs_cluster/version_39913/checkpoints/epoch=159-val_acc=0.98_results.pickle\n",
      "/home/mitja/PhD/emergent_communication/emergent_communication/lightning_logs_cluster/version_56011/checkpoints/epoch=2219-val_acc=0.91_results.pickle\n",
      "/home/mitja/PhD/emergent_communication/emergent_communication/lightning_logs_cluster/version_36009/checkpoints/epoch=499-val_acc=0.89_results.pickle\n",
      "/home/mitja/PhD/emergent_communication/emergent_communication/lightning_logs_cluster/version_23127/checkpoints/epoch=19-val_acc=1.00_results.pickle\n",
      "/home/mitja/PhD/emergent_communication/emergent_communication/lightning_logs_cluster/version_31525/checkpoints/epoch=699-val_acc=1.00_results.pickle\n",
      "/home/mitja/PhD/emergent_communication/emergent_communication/lightning_logs_cluster/version_40065/checkpoints/epoch=79-val_acc=0.99_results.pickle\n"
     ]
    },
    {
     "name": "stderr",
     "output_type": "stream",
     "text": [
      " 54%|█████▍    | 160/297 [00:06<00:03, 36.02it/s]"
     ]
    },
    {
     "name": "stdout",
     "output_type": "stream",
     "text": [
      "/home/mitja/PhD/emergent_communication/emergent_communication/lightning_logs_cluster/version_39895/checkpoints/epoch=599-val_acc=0.99_results.pickle\n",
      "/home/mitja/PhD/emergent_communication/emergent_communication/lightning_logs_cluster/version_56039/checkpoints/epoch=3599-val_acc=0.56_results.pickle\n",
      "considering pre-final results for run 42309\n",
      "/home/mitja/PhD/emergent_communication/emergent_communication/lightning_logs_cluster/version_42309/results.pickle\n",
      "/home/mitja/PhD/emergent_communication/emergent_communication/lightning_logs_cluster/version_41831/checkpoints/epoch=859-val_acc=0.89_results.pickle\n",
      "/home/mitja/PhD/emergent_communication/emergent_communication/lightning_logs_cluster/version_41824/checkpoints/epoch=699-val_acc=0.88_results.pickle\n",
      "/home/mitja/PhD/emergent_communication/emergent_communication/lightning_logs_cluster/version_50912/checkpoints/epoch=299-val_acc=0.96_results.pickle\n",
      "/home/mitja/PhD/emergent_communication/emergent_communication/lightning_logs_cluster/version_46213/checkpoints/epoch=2399-val_acc=0.93_results.pickle\n",
      "considering pre-final results for run 42218\n",
      "/home/mitja/PhD/emergent_communication/emergent_communication/lightning_logs_cluster/version_42218/results.pickle\n",
      "/home/mitja/PhD/emergent_communication/emergent_communication/lightning_logs_cluster/version_42049/checkpoints/epoch=19-val_acc=1.00_results.pickle\n"
     ]
    },
    {
     "name": "stderr",
     "output_type": "stream",
     "text": [
      " 57%|█████▋    | 169/297 [00:06<00:03, 37.79it/s]"
     ]
    },
    {
     "name": "stdout",
     "output_type": "stream",
     "text": [
      "/home/mitja/PhD/emergent_communication/emergent_communication/lightning_logs_cluster/version_56029/checkpoints/epoch=3679-val_acc=0.79_results.pickle\n",
      "/home/mitja/PhD/emergent_communication/emergent_communication/lightning_logs_cluster/version_50913/checkpoints/epoch=159-val_acc=0.99_results.pickle\n",
      "/home/mitja/PhD/emergent_communication/emergent_communication/lightning_logs_cluster/version_31647/checkpoints/epoch=959-val_acc=0.94_results.pickle\n",
      "/home/mitja/PhD/emergent_communication/emergent_communication/lightning_logs_cluster/version_22561/checkpoints/epoch=679-val_acc=0.99_results.pickle\n",
      "considering pre-final results for run 47549\n",
      "/home/mitja/PhD/emergent_communication/emergent_communication/lightning_logs_cluster/version_47549/results.pickle\n",
      "/home/mitja/PhD/emergent_communication/emergent_communication/lightning_logs_cluster/version_41766/checkpoints/epoch=2519-val_acc=0.83_results.pickle\n",
      "considering pre-final results for run 42222\n",
      "/home/mitja/PhD/emergent_communication/emergent_communication/lightning_logs_cluster/version_42222/results.pickle\n",
      "/home/mitja/PhD/emergent_communication/emergent_communication/lightning_logs_cluster/version_39909/checkpoints/epoch=499-val_acc=0.96_results.pickle\n"
     ]
    },
    {
     "name": "stderr",
     "output_type": "stream",
     "text": [
      " 58%|█████▊    | 173/297 [00:06<00:03, 38.25it/s]"
     ]
    },
    {
     "name": "stdout",
     "output_type": "stream",
     "text": [
      "/home/mitja/PhD/emergent_communication/emergent_communication/lightning_logs_cluster/version_48667/checkpoints/epoch=1259-val_acc=0.37_results.pickle\n",
      "/home/mitja/PhD/emergent_communication/emergent_communication/lightning_logs_cluster/version_39907/checkpoints/epoch=479-val_acc=0.96_results.pickle\n"
     ]
    },
    {
     "name": "stderr",
     "output_type": "stream",
     "text": [
      " 61%|██████    | 181/297 [00:07<00:04, 26.68it/s]"
     ]
    },
    {
     "name": "stdout",
     "output_type": "stream",
     "text": [
      "/home/mitja/PhD/emergent_communication/emergent_communication/lightning_logs_cluster/version_23101/checkpoints/epoch=1379-val_acc=0.80_results.pickle\n",
      "/home/mitja/PhD/emergent_communication/emergent_communication/lightning_logs_cluster/version_37223/checkpoints/epoch=859-val_acc=0.46_results.pickle\n",
      "considering pre-final results for run 31524\n",
      "/home/mitja/PhD/emergent_communication/emergent_communication/lightning_logs_cluster/version_31524/results.pickle\n",
      "/home/mitja/PhD/emergent_communication/emergent_communication/lightning_logs_cluster/version_39890/checkpoints/epoch=19-val_acc=0.99_results.pickle\n",
      "/home/mitja/PhD/emergent_communication/emergent_communication/lightning_logs_cluster/version_40731/checkpoints/epoch=2919-val_acc=0.75_results.pickle\n",
      "/home/mitja/PhD/emergent_communication/emergent_communication/lightning_logs_cluster/version_56036/checkpoints/epoch=2479-val_acc=0.51_results.pickle\n",
      "/home/mitja/PhD/emergent_communication/emergent_communication/lightning_logs_cluster/version_37440/checkpoints/epoch=359-val_acc=0.67_results.pickle\n",
      "/home/mitja/PhD/emergent_communication/emergent_communication/lightning_logs_cluster/version_40704/checkpoints/epoch=2519-val_acc=0.61_results.pickle\n"
     ]
    },
    {
     "name": "stderr",
     "output_type": "stream",
     "text": [
      " 64%|██████▎   | 189/297 [00:07<00:03, 31.14it/s]"
     ]
    },
    {
     "name": "stdout",
     "output_type": "stream",
     "text": [
      "/home/mitja/PhD/emergent_communication/emergent_communication/lightning_logs_cluster/version_50908/checkpoints/epoch=119-val_acc=0.96_results.pickle\n",
      "/home/mitja/PhD/emergent_communication/emergent_communication/lightning_logs_cluster/version_21483/checkpoints/epoch=1219-val_acc=0.79_results.pickle\n",
      "/home/mitja/PhD/emergent_communication/emergent_communication/lightning_logs_cluster/version_41829/checkpoints/epoch=939-val_acc=0.89_results.pickle\n",
      "/home/mitja/PhD/emergent_communication/emergent_communication/lightning_logs_cluster/version_36091/checkpoints/epoch=3779-val_acc=0.66_results.pickle\n",
      "considering pre-final results for run 31551\n",
      "/home/mitja/PhD/emergent_communication/emergent_communication/lightning_logs_cluster/version_31551/results.pickle\n",
      "/home/mitja/PhD/emergent_communication/emergent_communication/lightning_logs_cluster/version_36085/checkpoints/epoch=1179-val_acc=0.88_results.pickle\n",
      "/home/mitja/PhD/emergent_communication/emergent_communication/lightning_logs_cluster/version_39897/checkpoints/epoch=479-val_acc=0.99_results.pickle\n"
     ]
    },
    {
     "name": "stderr",
     "output_type": "stream",
     "text": [
      " 65%|██████▍   | 193/297 [00:07<00:03, 31.02it/s]"
     ]
    },
    {
     "name": "stdout",
     "output_type": "stream",
     "text": [
      "considering pre-final results for run 42307\n",
      "/home/mitja/PhD/emergent_communication/emergent_communication/lightning_logs_cluster/version_42307/results.pickle\n",
      "/home/mitja/PhD/emergent_communication/emergent_communication/lightning_logs_cluster/version_48670/checkpoints/epoch=339-val_acc=0.37_results.pickle\n",
      "/home/mitja/PhD/emergent_communication/emergent_communication/lightning_logs_cluster/version_40059/checkpoints/epoch=599-val_acc=0.86_results.pickle\n",
      "/home/mitja/PhD/emergent_communication/emergent_communication/lightning_logs_cluster/version_56035/checkpoints/epoch=3119-val_acc=0.57_results.pickle\n",
      "/home/mitja/PhD/emergent_communication/emergent_communication/lightning_logs_cluster/version_39893/checkpoints/epoch=59-val_acc=0.99_results.pickle\n",
      "considering pre-final results for run 31648\n",
      "/home/mitja/PhD/emergent_communication/emergent_communication/lightning_logs_cluster/version_31648/results.pickle\n",
      "/home/mitja/PhD/emergent_communication/emergent_communication/lightning_logs_cluster/version_40066/checkpoints/epoch=299-val_acc=0.95_results.pickle\n"
     ]
    },
    {
     "name": "stderr",
     "output_type": "stream",
     "text": [
      " 68%|██████▊   | 202/297 [00:07<00:02, 35.46it/s]"
     ]
    },
    {
     "name": "stdout",
     "output_type": "stream",
     "text": [
      "considering pre-final results for run 22731\n",
      "/home/mitja/PhD/emergent_communication/emergent_communication/lightning_logs_cluster/version_22731/results.pickle\n",
      "/home/mitja/PhD/emergent_communication/emergent_communication/lightning_logs_cluster/version_46035/checkpoints/epoch=3199-val_acc=0.97_results.pickle\n",
      "/home/mitja/PhD/emergent_communication/emergent_communication/lightning_logs_cluster/version_56014/checkpoints/epoch=1439-val_acc=0.91_results.pickle\n",
      "/home/mitja/PhD/emergent_communication/emergent_communication/lightning_logs_cluster/version_56028/checkpoints/epoch=2259-val_acc=0.72_results.pickle\n",
      "/home/mitja/PhD/emergent_communication/emergent_communication/lightning_logs_cluster/version_46511/checkpoints/epoch=2679-val_acc=0.92_results.pickle\n",
      "/home/mitja/PhD/emergent_communication/emergent_communication/lightning_logs_cluster/version_39918/checkpoints/epoch=299-val_acc=0.97_results.pickle\n",
      "/home/mitja/PhD/emergent_communication/emergent_communication/lightning_logs_cluster/version_37122/checkpoints/epoch=2179-val_acc=0.85_results.pickle\n",
      "/home/mitja/PhD/emergent_communication/emergent_communication/lightning_logs_cluster/version_36006/checkpoints/epoch=19-val_acc=0.99_results.pickle\n"
     ]
    },
    {
     "name": "stderr",
     "output_type": "stream",
     "text": [
      " 69%|██████▉   | 206/297 [00:07<00:02, 32.04it/s]"
     ]
    },
    {
     "name": "stdout",
     "output_type": "stream",
     "text": [
      "/home/mitja/PhD/emergent_communication/emergent_communication/lightning_logs_cluster/version_39915/checkpoints/epoch=339-val_acc=0.98_results.pickle\n",
      "/home/mitja/PhD/emergent_communication/emergent_communication/lightning_logs_cluster/version_48669/checkpoints/epoch=919-val_acc=0.37_results.pickle\n",
      "/home/mitja/PhD/emergent_communication/emergent_communication/lightning_logs_cluster/version_59122/checkpoints/epoch=739-val_acc=0.84_results.pickle\n",
      "/home/mitja/PhD/emergent_communication/emergent_communication/lightning_logs_cluster/version_22276/checkpoints/epoch=2439-val_acc=0.88_results.pickle\n",
      "/home/mitja/PhD/emergent_communication/emergent_communication/lightning_logs_cluster/version_40056/checkpoints/epoch=59-val_acc=0.77_results.pickle\n"
     ]
    },
    {
     "name": "stderr",
     "output_type": "stream",
     "text": [
      " 72%|███████▏  | 214/297 [00:08<00:02, 29.85it/s]"
     ]
    },
    {
     "name": "stdout",
     "output_type": "stream",
     "text": [
      "/home/mitja/PhD/emergent_communication/emergent_communication/lightning_logs_cluster/version_36564/checkpoints/epoch=499-val_acc=0.96_results.pickle\n",
      "/home/mitja/PhD/emergent_communication/emergent_communication/lightning_logs_cluster/version_37224/checkpoints/epoch=1519-val_acc=0.93_results.pickle\n",
      "/home/mitja/PhD/emergent_communication/emergent_communication/lightning_logs_cluster/version_56031/checkpoints/epoch=3259-val_acc=0.79_results.pickle\n",
      "/home/mitja/PhD/emergent_communication/emergent_communication/lightning_logs_cluster/version_48591/checkpoints/epoch=1539-val_acc=0.58_results.pickle\n",
      "/home/mitja/PhD/emergent_communication/emergent_communication/lightning_logs_cluster/version_40700/checkpoints/epoch=3539-val_acc=0.64_results.pickle\n",
      "/home/mitja/PhD/emergent_communication/emergent_communication/lightning_logs_cluster/version_41827/checkpoints/epoch=779-val_acc=0.89_results.pickle\n",
      "/home/mitja/PhD/emergent_communication/emergent_communication/lightning_logs_cluster/version_40741/checkpoints/epoch=1539-val_acc=0.80_results.pickle\n"
     ]
    },
    {
     "name": "stderr",
     "output_type": "stream",
     "text": [
      " 75%|███████▍  | 222/297 [00:08<00:02, 27.95it/s]"
     ]
    },
    {
     "name": "stdout",
     "output_type": "stream",
     "text": [
      "/home/mitja/PhD/emergent_communication/emergent_communication/lightning_logs_cluster/version_39924/checkpoints/epoch=279-val_acc=0.88_results.pickle\n",
      "/home/mitja/PhD/emergent_communication/emergent_communication/lightning_logs_cluster/version_36005/checkpoints/epoch=19-val_acc=0.99_results.pickle\n",
      "/home/mitja/PhD/emergent_communication/emergent_communication/lightning_logs_cluster/version_37225/checkpoints/epoch=1359-val_acc=0.93_results.pickle\n",
      "/home/mitja/PhD/emergent_communication/emergent_communication/lightning_logs_cluster/version_31555/checkpoints/epoch=199-val_acc=0.99_results.pickle\n",
      "/home/mitja/PhD/emergent_communication/emergent_communication/lightning_logs_cluster/version_44315/checkpoints/epoch=979-val_acc=0.69_results.pickle\n",
      "/home/mitja/PhD/emergent_communication/emergent_communication/lightning_logs_cluster/version_39917/checkpoints/epoch=459-val_acc=0.95_results.pickle\n"
     ]
    },
    {
     "name": "stderr",
     "output_type": "stream",
     "text": [
      " 77%|███████▋  | 230/297 [00:08<00:02, 31.04it/s]"
     ]
    },
    {
     "name": "stdout",
     "output_type": "stream",
     "text": [
      "/home/mitja/PhD/emergent_communication/emergent_communication/lightning_logs_cluster/version_37433/checkpoints/epoch=119-val_acc=0.89_results.pickle\n",
      "/home/mitja/PhD/emergent_communication/emergent_communication/lightning_logs_cluster/version_48648/checkpoints/epoch=2919-val_acc=0.90_results.pickle\n",
      "/home/mitja/PhD/emergent_communication/emergent_communication/lightning_logs_cluster/version_31642/checkpoints/epoch=719-val_acc=0.97_results.pickle\n",
      "/home/mitja/PhD/emergent_communication/emergent_communication/lightning_logs_cluster/version_36103/checkpoints/epoch=2839-val_acc=0.87_results.pickle\n",
      "/home/mitja/PhD/emergent_communication/emergent_communication/lightning_logs_cluster/version_41779/checkpoints/epoch=2059-val_acc=0.65_results.pickle\n",
      "/home/mitja/PhD/emergent_communication/emergent_communication/lightning_logs_cluster/version_41825/checkpoints/epoch=539-val_acc=0.88_results.pickle\n",
      "/home/mitja/PhD/emergent_communication/emergent_communication/lightning_logs_cluster/version_36562/checkpoints/epoch=399-val_acc=0.99_results.pickle\n",
      "/home/mitja/PhD/emergent_communication/emergent_communication/lightning_logs_cluster/version_56023/checkpoints/epoch=3679-val_acc=0.90_results.pickle\n"
     ]
    },
    {
     "name": "stderr",
     "output_type": "stream",
     "text": [
      " 80%|████████  | 239/297 [00:08<00:01, 35.58it/s]"
     ]
    },
    {
     "name": "stdout",
     "output_type": "stream",
     "text": [
      "considering pre-final results for run 31552\n",
      "/home/mitja/PhD/emergent_communication/emergent_communication/lightning_logs_cluster/version_31552/results.pickle\n",
      "/home/mitja/PhD/emergent_communication/emergent_communication/lightning_logs_cluster/version_50916/checkpoints/epoch=139-val_acc=0.99_results.pickle\n",
      "/home/mitja/PhD/emergent_communication/emergent_communication/lightning_logs_cluster/version_56010/checkpoints/epoch=1479-val_acc=0.93_results.pickle\n",
      "/home/mitja/PhD/emergent_communication/emergent_communication/lightning_logs_cluster/version_56017/checkpoints/epoch=3399-val_acc=0.93_results.pickle\n",
      "/home/mitja/PhD/emergent_communication/emergent_communication/lightning_logs_cluster/version_46512/checkpoints/epoch=3019-val_acc=0.92_results.pickle\n",
      "/home/mitja/PhD/emergent_communication/emergent_communication/lightning_logs_cluster/version_48592/checkpoints/epoch=1099-val_acc=0.57_results.pickle\n",
      "/home/mitja/PhD/emergent_communication/emergent_communication/lightning_logs_cluster/version_40734/checkpoints/epoch=3599-val_acc=0.78_results.pickle\n",
      "/home/mitja/PhD/emergent_communication/emergent_communication/lightning_logs_cluster/version_48663/checkpoints/epoch=1579-val_acc=0.37_results.pickle\n",
      "/home/mitja/PhD/emergent_communication/emergent_communication/lightning_logs_cluster/version_56025/checkpoints/epoch=2259-val_acc=0.91_results.pickle\n"
     ]
    },
    {
     "name": "stderr",
     "output_type": "stream",
     "text": [
      " 82%|████████▏ | 243/297 [00:09<00:01, 33.44it/s]"
     ]
    },
    {
     "name": "stdout",
     "output_type": "stream",
     "text": [
      "/home/mitja/PhD/emergent_communication/emergent_communication/lightning_logs_cluster/version_22273/checkpoints/epoch=3219-val_acc=0.87_results.pickle\n",
      "/home/mitja/PhD/emergent_communication/emergent_communication/lightning_logs_cluster/version_31546/checkpoints/epoch=439-val_acc=0.99_results.pickle\n",
      "/home/mitja/PhD/emergent_communication/emergent_communication/lightning_logs_cluster/version_44311/checkpoints/epoch=1019-val_acc=0.69_results.pickle\n",
      "considering pre-final results for run 42197\n",
      "/home/mitja/PhD/emergent_communication/emergent_communication/lightning_logs_cluster/version_42197/results.pickle\n",
      "/home/mitja/PhD/emergent_communication/emergent_communication/lightning_logs_cluster/version_56034/checkpoints/epoch=1999-val_acc=0.50_results.pickle\n",
      "/home/mitja/PhD/emergent_communication/emergent_communication/lightning_logs_cluster/version_39914/checkpoints/epoch=539-val_acc=0.95_results.pickle\n",
      "/home/mitja/PhD/emergent_communication/emergent_communication/lightning_logs_cluster/version_40739/checkpoints/epoch=899-val_acc=0.80_results.pickle\n",
      "/home/mitja/PhD/emergent_communication/emergent_communication/lightning_logs_cluster/version_21484/checkpoints/epoch=879-val_acc=0.80_results.pickle\n"
     ]
    },
    {
     "name": "stderr",
     "output_type": "stream",
     "text": [
      " 85%|████████▍ | 252/297 [00:09<00:01, 33.81it/s]"
     ]
    },
    {
     "name": "stdout",
     "output_type": "stream",
     "text": [
      "/home/mitja/PhD/emergent_communication/emergent_communication/lightning_logs_cluster/version_36563/checkpoints/epoch=259-val_acc=0.99_results.pickle\n",
      "/home/mitja/PhD/emergent_communication/emergent_communication/lightning_logs_cluster/version_40733/checkpoints/epoch=3419-val_acc=0.75_results.pickle\n",
      "/home/mitja/PhD/emergent_communication/emergent_communication/lightning_logs_cluster/version_22453/checkpoints/epoch=1419-val_acc=0.78_results.pickle\n",
      "/home/mitja/PhD/emergent_communication/emergent_communication/lightning_logs_cluster/version_23123/checkpoints/epoch=39-val_acc=0.99_results.pickle\n",
      "/home/mitja/PhD/emergent_communication/emergent_communication/lightning_logs_cluster/version_36092/checkpoints/epoch=2339-val_acc=0.64_results.pickle\n",
      "/home/mitja/PhD/emergent_communication/emergent_communication/lightning_logs_cluster/version_48646/checkpoints/epoch=2499-val_acc=0.83_results.pickle\n",
      "/home/mitja/PhD/emergent_communication/emergent_communication/lightning_logs_cluster/version_39889/checkpoints/epoch=59-val_acc=0.99_results.pickle\n"
     ]
    },
    {
     "name": "stderr",
     "output_type": "stream",
     "text": [
      " 88%|████████▊ | 260/297 [00:09<00:01, 31.23it/s]"
     ]
    },
    {
     "name": "stdout",
     "output_type": "stream",
     "text": [
      "/home/mitja/PhD/emergent_communication/emergent_communication/lightning_logs_cluster/version_23121/checkpoints/epoch=99-val_acc=0.99_results.pickle\n",
      "/home/mitja/PhD/emergent_communication/emergent_communication/lightning_logs_cluster/version_42046/checkpoints/epoch=19-val_acc=1.00_results.pickle\n",
      "considering pre-final results for run 22252\n",
      "/home/mitja/PhD/emergent_communication/emergent_communication/lightning_logs_cluster/version_22252/results.pickle\n",
      "/home/mitja/PhD/emergent_communication/emergent_communication/lightning_logs_cluster/version_39910/checkpoints/epoch=379-val_acc=0.99_results.pickle\n",
      "/home/mitja/PhD/emergent_communication/emergent_communication/lightning_logs_cluster/version_39920/checkpoints/epoch=319-val_acc=0.98_results.pickle\n",
      "/home/mitja/PhD/emergent_communication/emergent_communication/lightning_logs_cluster/version_56002/checkpoints/epoch=2519-val_acc=0.94_results.pickle\n"
     ]
    },
    {
     "name": "stderr",
     "output_type": "stream",
     "text": [
      " 89%|████████▉ | 265/297 [00:09<00:00, 34.66it/s]"
     ]
    },
    {
     "name": "stdout",
     "output_type": "stream",
     "text": [
      "/home/mitja/PhD/emergent_communication/emergent_communication/lightning_logs_cluster/version_45753/checkpoints/epoch=2979-val_acc=0.97_results.pickle\n",
      "/home/mitja/PhD/emergent_communication/emergent_communication/lightning_logs_cluster/version_46515/checkpoints/epoch=1319-val_acc=0.92_results.pickle\n",
      "considering pre-final results for run 31526\n",
      "/home/mitja/PhD/emergent_communication/emergent_communication/lightning_logs_cluster/version_31526/results.pickle\n",
      "/home/mitja/PhD/emergent_communication/emergent_communication/lightning_logs_cluster/version_40698/checkpoints/epoch=2119-val_acc=0.61_results.pickle\n",
      "/home/mitja/PhD/emergent_communication/emergent_communication/lightning_logs_cluster/version_39922/checkpoints/epoch=259-val_acc=0.88_results.pickle\n",
      "/home/mitja/PhD/emergent_communication/emergent_communication/lightning_logs_cluster/version_40732/checkpoints/epoch=3239-val_acc=0.77_results.pickle\n",
      "/home/mitja/PhD/emergent_communication/emergent_communication/lightning_logs_cluster/version_48643/checkpoints/epoch=2599-val_acc=0.90_results.pickle\n",
      "/home/mitja/PhD/emergent_communication/emergent_communication/lightning_logs_cluster/version_48593/checkpoints/epoch=1339-val_acc=0.58_results.pickle\n"
     ]
    },
    {
     "name": "stderr",
     "output_type": "stream",
     "text": [
      " 92%|█████████▏| 273/297 [00:09<00:00, 31.66it/s]"
     ]
    },
    {
     "name": "stdout",
     "output_type": "stream",
     "text": [
      "/home/mitja/PhD/emergent_communication/emergent_communication/lightning_logs_cluster/version_44320/checkpoints/epoch=1739-val_acc=0.74_results.pickle\n",
      "/home/mitja/PhD/emergent_communication/emergent_communication/lightning_logs_cluster/version_39925/checkpoints/epoch=259-val_acc=0.96_results.pickle\n",
      "/home/mitja/PhD/emergent_communication/emergent_communication/lightning_logs_cluster/version_31529/checkpoints/epoch=139-val_acc=0.99_results.pickle\n",
      "/home/mitja/PhD/emergent_communication/emergent_communication/lightning_logs_cluster/version_44142/checkpoints/epoch=39-val_acc=0.93_results.pickle\n",
      "/home/mitja/PhD/emergent_communication/emergent_communication/lightning_logs_cluster/version_48666/checkpoints/epoch=1799-val_acc=0.37_results.pickle\n",
      "/home/mitja/PhD/emergent_communication/emergent_communication/lightning_logs_cluster/version_42023/checkpoints/epoch=19-val_acc=1.00_results.pickle\n"
     ]
    },
    {
     "name": "stderr",
     "output_type": "stream",
     "text": [
      " 93%|█████████▎| 277/297 [00:10<00:00, 28.94it/s]"
     ]
    },
    {
     "name": "stdout",
     "output_type": "stream",
     "text": [
      "/home/mitja/PhD/emergent_communication/emergent_communication/lightning_logs_cluster/version_23106/checkpoints/epoch=159-val_acc=0.79_results.pickle\n",
      "/home/mitja/PhD/emergent_communication/emergent_communication/lightning_logs_cluster/version_39896/checkpoints/epoch=99-val_acc=0.99_results.pickle\n",
      "/home/mitja/PhD/emergent_communication/emergent_communication/lightning_logs_cluster/version_39923/checkpoints/epoch=219-val_acc=0.96_results.pickle\n",
      "/home/mitja/PhD/emergent_communication/emergent_communication/lightning_logs_cluster/version_36007/checkpoints/epoch=419-val_acc=0.99_results.pickle\n",
      "/home/mitja/PhD/emergent_communication/emergent_communication/lightning_logs_cluster/version_42043/checkpoints/epoch=19-val_acc=1.00_results.pickle\n"
     ]
    },
    {
     "name": "stderr",
     "output_type": "stream",
     "text": [
      " 96%|█████████▌| 284/297 [00:10<00:00, 31.06it/s]"
     ]
    },
    {
     "name": "stdout",
     "output_type": "stream",
     "text": [
      "/home/mitja/PhD/emergent_communication/emergent_communication/lightning_logs_cluster/version_22452/checkpoints/epoch=2439-val_acc=0.78_results.pickle\n",
      "/home/mitja/PhD/emergent_communication/emergent_communication/lightning_logs_cluster/version_22605/checkpoints/epoch=1019-val_acc=0.76_results.pickle\n",
      "considering pre-final results for run 31558\n",
      "/home/mitja/PhD/emergent_communication/emergent_communication/lightning_logs_cluster/version_31558/results.pickle\n",
      "/home/mitja/PhD/emergent_communication/emergent_communication/lightning_logs_cluster/version_48664/checkpoints/epoch=339-val_acc=0.37_results.pickle\n",
      "/home/mitja/PhD/emergent_communication/emergent_communication/lightning_logs_cluster/version_22737/checkpoints/epoch=1159-val_acc=0.69_results.pickle\n",
      "/home/mitja/PhD/emergent_communication/emergent_communication/lightning_logs_cluster/version_40068/checkpoints/epoch=319-val_acc=0.96_results.pickle\n",
      "/home/mitja/PhD/emergent_communication/emergent_communication/lightning_logs_cluster/version_41762/checkpoints/epoch=2239-val_acc=0.87_results.pickle\n"
     ]
    },
    {
     "name": "stderr",
     "output_type": "stream",
     "text": [
      " 99%|█████████▊| 293/297 [00:10<00:00, 35.48it/s]"
     ]
    },
    {
     "name": "stdout",
     "output_type": "stream",
     "text": [
      "/home/mitja/PhD/emergent_communication/emergent_communication/lightning_logs_cluster/version_56030/checkpoints/epoch=2019-val_acc=0.73_results.pickle\n",
      "/home/mitja/PhD/emergent_communication/emergent_communication/lightning_logs_cluster/version_41783/checkpoints/epoch=2099-val_acc=0.65_results.pickle\n",
      "/home/mitja/PhD/emergent_communication/emergent_communication/lightning_logs_cluster/version_41776/checkpoints/epoch=3739-val_acc=0.62_results.pickle\n",
      "/home/mitja/PhD/emergent_communication/emergent_communication/lightning_logs_cluster/version_22602/checkpoints/epoch=2259-val_acc=0.73_results.pickle\n",
      "/home/mitja/PhD/emergent_communication/emergent_communication/lightning_logs_cluster/version_46210/checkpoints/epoch=3019-val_acc=0.92_results.pickle\n",
      "/home/mitja/PhD/emergent_communication/emergent_communication/lightning_logs_cluster/version_56032/checkpoints/epoch=3339-val_acc=0.76_results.pickle\n",
      "/home/mitja/PhD/emergent_communication/emergent_communication/lightning_logs_cluster/version_36561/checkpoints/epoch=59-val_acc=0.99_results.pickle\n",
      "/home/mitja/PhD/emergent_communication/emergent_communication/lightning_logs_cluster/version_41788/checkpoints/epoch=1319-val_acc=0.41_results.pickle\n"
     ]
    },
    {
     "name": "stderr",
     "output_type": "stream",
     "text": [
      "100%|██████████| 297/297 [00:10<00:00, 27.83it/s]\n"
     ]
    },
    {
     "name": "stdout",
     "output_type": "stream",
     "text": [
      "/home/mitja/PhD/emergent_communication/emergent_communication/lightning_logs_cluster/version_41792/checkpoints/epoch=2359-val_acc=0.45_results.pickle\n"
     ]
    },
    {
     "data": {
      "text/plain": "     index  receiver_loss  entropy_loss  sender_policy_loss  train_acc  \\\n0        0       0.365009      0.001697           -0.017670      0.783   \n1        1            NaN           NaN                 NaN        NaN   \n2        2            NaN           NaN                 NaN        NaN   \n3        3       2.873114      0.000536           -0.007257      0.924   \n4        4       0.514847      0.000570           -0.098860      0.697   \n..     ...            ...           ...                 ...        ...   \n542    542            NaN           NaN                 NaN        NaN   \n543    543            NaN           NaN                 NaN        NaN   \n544    544            NaN           NaN                 NaN        NaN   \n545    545            NaN           NaN                 NaN        NaN   \n546    546            NaN           NaN                 NaN        NaN   \n\n     receiver_loss/dataloader_idx_0  entropy_loss/dataloader_idx_0  \\\n0                          0.385042                       0.001370   \n1                          0.099775                       0.000057   \n2                               NaN                            NaN   \n3                          1.743315                       0.000573   \n4                          0.496672                       0.000474   \n..                              ...                            ...   \n542                             NaN                            NaN   \n543                        1.146802                       0.000162   \n544                             NaN                            NaN   \n545                        1.471606                       0.000291   \n546                             NaN                            NaN   \n\n     sender_policy_loss/dataloader_idx_0  receiver_loss/dataloader_idx_1  \\\n0                               0.014022                        0.346393   \n1                               0.064865                             NaN   \n2                                    NaN                        0.058852   \n3                               0.007537                        1.568772   \n4                              -0.011489                        0.523425   \n..                                   ...                             ...   \n542                                  NaN                        1.627530   \n543                             0.040328                             NaN   \n544                                  NaN                        0.951738   \n545                             0.076301                             NaN   \n546                                  NaN                        1.125124   \n\n     entropy_loss/dataloader_idx_1  ...   epoch  topsim_sender_receiver  \\\n0                         0.001744  ...     NaN                     NaN   \n1                              NaN  ...   299.0                     NaN   \n2                         0.000051  ...   299.0                     NaN   \n3                         0.000796  ...     NaN                0.268158   \n4                         0.000460  ...     NaN                     NaN   \n..                             ...  ...     ...                     ...   \n542                       0.000640  ...    59.0                0.113536   \n543                            NaN  ...  1319.0                     NaN   \n544                       0.000160  ...  1319.0                     NaN   \n545                            NaN  ...  2359.0                     NaN   \n546                       0.000434  ...  2359.0                     NaN   \n\n     posdis_sender_receiver  bosdis_sender_receiver  \\\n0                       NaN                     NaN   \n1                       NaN                     NaN   \n2                       NaN                     NaN   \n3                       NaN                     NaN   \n4                       NaN                     NaN   \n..                      ...                     ...   \n542                0.129548                0.056708   \n543                     NaN                     NaN   \n544                     NaN                     NaN   \n545                     NaN                     NaN   \n546                     NaN                     NaN   \n\n     receiver_auxiliary_loss/dataloader_idx_0  \\\n0                                         NaN   \n1                                         NaN   \n2                                         NaN   \n3                                         NaN   \n4                                         NaN   \n..                                        ...   \n542                                       NaN   \n543                                       NaN   \n544                                       NaN   \n545                                       NaN   \n546                                       NaN   \n\n     receiver_aux_acc/dataloader_idx_0  \\\n0                                  NaN   \n1                                  NaN   \n2                                  NaN   \n3                                  NaN   \n4                                  NaN   \n..                                 ...   \n542                                NaN   \n543                                NaN   \n544                                NaN   \n545                                NaN   \n546                                NaN   \n\n     receiver_auxiliary_loss/dataloader_idx_1  \\\n0                                         NaN   \n1                                         NaN   \n2                                         NaN   \n3                                         NaN   \n4                                         NaN   \n..                                        ...   \n542                                       NaN   \n543                                       NaN   \n544                                       NaN   \n545                                       NaN   \n546                                       NaN   \n\n     receiver_aux_acc/dataloader_idx_1  receiver_auxiliary_loss  \\\n0                                  NaN                      NaN   \n1                                  NaN                      NaN   \n2                                  NaN                      NaN   \n3                                  NaN                      NaN   \n4                                  NaN                      NaN   \n..                                 ...                      ...   \n542                                NaN                      NaN   \n543                                NaN                      NaN   \n544                                NaN                      NaN   \n545                                NaN                      NaN   \n546                                NaN                      NaN   \n\n    receiver_aux_acc  \n0                NaN  \n1                NaN  \n2                NaN  \n3                NaN  \n4                NaN  \n..               ...  \n542              NaN  \n543              NaN  \n544              NaN  \n545              NaN  \n546              NaN  \n\n[547 rows x 36 columns]",
      "text/html": "<div>\n<style scoped>\n    .dataframe tbody tr th:only-of-type {\n        vertical-align: middle;\n    }\n\n    .dataframe tbody tr th {\n        vertical-align: top;\n    }\n\n    .dataframe thead th {\n        text-align: right;\n    }\n</style>\n<table border=\"1\" class=\"dataframe\">\n  <thead>\n    <tr style=\"text-align: right;\">\n      <th></th>\n      <th>index</th>\n      <th>receiver_loss</th>\n      <th>entropy_loss</th>\n      <th>sender_policy_loss</th>\n      <th>train_acc</th>\n      <th>receiver_loss/dataloader_idx_0</th>\n      <th>entropy_loss/dataloader_idx_0</th>\n      <th>sender_policy_loss/dataloader_idx_0</th>\n      <th>receiver_loss/dataloader_idx_1</th>\n      <th>entropy_loss/dataloader_idx_1</th>\n      <th>...</th>\n      <th>epoch</th>\n      <th>topsim_sender_receiver</th>\n      <th>posdis_sender_receiver</th>\n      <th>bosdis_sender_receiver</th>\n      <th>receiver_auxiliary_loss/dataloader_idx_0</th>\n      <th>receiver_aux_acc/dataloader_idx_0</th>\n      <th>receiver_auxiliary_loss/dataloader_idx_1</th>\n      <th>receiver_aux_acc/dataloader_idx_1</th>\n      <th>receiver_auxiliary_loss</th>\n      <th>receiver_aux_acc</th>\n    </tr>\n  </thead>\n  <tbody>\n    <tr>\n      <th>0</th>\n      <td>0</td>\n      <td>0.365009</td>\n      <td>0.001697</td>\n      <td>-0.017670</td>\n      <td>0.783</td>\n      <td>0.385042</td>\n      <td>0.001370</td>\n      <td>0.014022</td>\n      <td>0.346393</td>\n      <td>0.001744</td>\n      <td>...</td>\n      <td>NaN</td>\n      <td>NaN</td>\n      <td>NaN</td>\n      <td>NaN</td>\n      <td>NaN</td>\n      <td>NaN</td>\n      <td>NaN</td>\n      <td>NaN</td>\n      <td>NaN</td>\n      <td>NaN</td>\n    </tr>\n    <tr>\n      <th>1</th>\n      <td>1</td>\n      <td>NaN</td>\n      <td>NaN</td>\n      <td>NaN</td>\n      <td>NaN</td>\n      <td>0.099775</td>\n      <td>0.000057</td>\n      <td>0.064865</td>\n      <td>NaN</td>\n      <td>NaN</td>\n      <td>...</td>\n      <td>299.0</td>\n      <td>NaN</td>\n      <td>NaN</td>\n      <td>NaN</td>\n      <td>NaN</td>\n      <td>NaN</td>\n      <td>NaN</td>\n      <td>NaN</td>\n      <td>NaN</td>\n      <td>NaN</td>\n    </tr>\n    <tr>\n      <th>2</th>\n      <td>2</td>\n      <td>NaN</td>\n      <td>NaN</td>\n      <td>NaN</td>\n      <td>NaN</td>\n      <td>NaN</td>\n      <td>NaN</td>\n      <td>NaN</td>\n      <td>0.058852</td>\n      <td>0.000051</td>\n      <td>...</td>\n      <td>299.0</td>\n      <td>NaN</td>\n      <td>NaN</td>\n      <td>NaN</td>\n      <td>NaN</td>\n      <td>NaN</td>\n      <td>NaN</td>\n      <td>NaN</td>\n      <td>NaN</td>\n      <td>NaN</td>\n    </tr>\n    <tr>\n      <th>3</th>\n      <td>3</td>\n      <td>2.873114</td>\n      <td>0.000536</td>\n      <td>-0.007257</td>\n      <td>0.924</td>\n      <td>1.743315</td>\n      <td>0.000573</td>\n      <td>0.007537</td>\n      <td>1.568772</td>\n      <td>0.000796</td>\n      <td>...</td>\n      <td>NaN</td>\n      <td>0.268158</td>\n      <td>NaN</td>\n      <td>NaN</td>\n      <td>NaN</td>\n      <td>NaN</td>\n      <td>NaN</td>\n      <td>NaN</td>\n      <td>NaN</td>\n      <td>NaN</td>\n    </tr>\n    <tr>\n      <th>4</th>\n      <td>4</td>\n      <td>0.514847</td>\n      <td>0.000570</td>\n      <td>-0.098860</td>\n      <td>0.697</td>\n      <td>0.496672</td>\n      <td>0.000474</td>\n      <td>-0.011489</td>\n      <td>0.523425</td>\n      <td>0.000460</td>\n      <td>...</td>\n      <td>NaN</td>\n      <td>NaN</td>\n      <td>NaN</td>\n      <td>NaN</td>\n      <td>NaN</td>\n      <td>NaN</td>\n      <td>NaN</td>\n      <td>NaN</td>\n      <td>NaN</td>\n      <td>NaN</td>\n    </tr>\n    <tr>\n      <th>...</th>\n      <td>...</td>\n      <td>...</td>\n      <td>...</td>\n      <td>...</td>\n      <td>...</td>\n      <td>...</td>\n      <td>...</td>\n      <td>...</td>\n      <td>...</td>\n      <td>...</td>\n      <td>...</td>\n      <td>...</td>\n      <td>...</td>\n      <td>...</td>\n      <td>...</td>\n      <td>...</td>\n      <td>...</td>\n      <td>...</td>\n      <td>...</td>\n      <td>...</td>\n      <td>...</td>\n    </tr>\n    <tr>\n      <th>542</th>\n      <td>542</td>\n      <td>NaN</td>\n      <td>NaN</td>\n      <td>NaN</td>\n      <td>NaN</td>\n      <td>NaN</td>\n      <td>NaN</td>\n      <td>NaN</td>\n      <td>1.627530</td>\n      <td>0.000640</td>\n      <td>...</td>\n      <td>59.0</td>\n      <td>0.113536</td>\n      <td>0.129548</td>\n      <td>0.056708</td>\n      <td>NaN</td>\n      <td>NaN</td>\n      <td>NaN</td>\n      <td>NaN</td>\n      <td>NaN</td>\n      <td>NaN</td>\n    </tr>\n    <tr>\n      <th>543</th>\n      <td>543</td>\n      <td>NaN</td>\n      <td>NaN</td>\n      <td>NaN</td>\n      <td>NaN</td>\n      <td>1.146802</td>\n      <td>0.000162</td>\n      <td>0.040328</td>\n      <td>NaN</td>\n      <td>NaN</td>\n      <td>...</td>\n      <td>1319.0</td>\n      <td>NaN</td>\n      <td>NaN</td>\n      <td>NaN</td>\n      <td>NaN</td>\n      <td>NaN</td>\n      <td>NaN</td>\n      <td>NaN</td>\n      <td>NaN</td>\n      <td>NaN</td>\n    </tr>\n    <tr>\n      <th>544</th>\n      <td>544</td>\n      <td>NaN</td>\n      <td>NaN</td>\n      <td>NaN</td>\n      <td>NaN</td>\n      <td>NaN</td>\n      <td>NaN</td>\n      <td>NaN</td>\n      <td>0.951738</td>\n      <td>0.000160</td>\n      <td>...</td>\n      <td>1319.0</td>\n      <td>NaN</td>\n      <td>NaN</td>\n      <td>NaN</td>\n      <td>NaN</td>\n      <td>NaN</td>\n      <td>NaN</td>\n      <td>NaN</td>\n      <td>NaN</td>\n      <td>NaN</td>\n    </tr>\n    <tr>\n      <th>545</th>\n      <td>545</td>\n      <td>NaN</td>\n      <td>NaN</td>\n      <td>NaN</td>\n      <td>NaN</td>\n      <td>1.471606</td>\n      <td>0.000291</td>\n      <td>0.076301</td>\n      <td>NaN</td>\n      <td>NaN</td>\n      <td>...</td>\n      <td>2359.0</td>\n      <td>NaN</td>\n      <td>NaN</td>\n      <td>NaN</td>\n      <td>NaN</td>\n      <td>NaN</td>\n      <td>NaN</td>\n      <td>NaN</td>\n      <td>NaN</td>\n      <td>NaN</td>\n    </tr>\n    <tr>\n      <th>546</th>\n      <td>546</td>\n      <td>NaN</td>\n      <td>NaN</td>\n      <td>NaN</td>\n      <td>NaN</td>\n      <td>NaN</td>\n      <td>NaN</td>\n      <td>NaN</td>\n      <td>1.125124</td>\n      <td>0.000434</td>\n      <td>...</td>\n      <td>2359.0</td>\n      <td>NaN</td>\n      <td>NaN</td>\n      <td>NaN</td>\n      <td>NaN</td>\n      <td>NaN</td>\n      <td>NaN</td>\n      <td>NaN</td>\n      <td>NaN</td>\n      <td>NaN</td>\n    </tr>\n  </tbody>\n</table>\n<p>547 rows × 36 columns</p>\n</div>"
     },
     "execution_count": 183,
     "metadata": {},
     "output_type": "execute_result"
    }
   ],
   "source": [
    "import torch\n",
    "\n",
    "# Remove superfluous NaN cells\n",
    "def compress(values):\n",
    "    for val in values:\n",
    "        if val is not None and not np.isnan(val):\n",
    "            return val\n",
    "        \n",
    "results_df = []\n",
    "for run_dir in tqdm(os.listdir(LOG_DIR)):\n",
    "    run_path = os.path.join(LOG_DIR, run_dir, \"checkpoints/\")\n",
    "\n",
    "    results = glob.glob(run_path+f\"*{REFERENCE_METRIC}=*.pickle\")\n",
    "    if len(results) < 1:\n",
    "        run_path = os.path.join(LOG_DIR, run_dir)\n",
    "        results = glob.glob(run_path+f\"/*.pickle\")\n",
    "        if len(results) >= 1:\n",
    "            print(f\"considering pre-final results for run {run_dir[8:]}\")\n",
    "            if run_dir[8:] == \"31521\":\n",
    "                print(\"gre\")\n",
    "\n",
    "    for result in results:\n",
    "        try:\n",
    "            print(result)\n",
    "            data = pd.read_pickle(result)\n",
    "        except Exception as e:\n",
    "            print(result)\n",
    "            print(e)\n",
    "            continue\n",
    "            \n",
    "        if isinstance(data, list):\n",
    "            df = pd.DataFrame.from_records(data)\n",
    "            df = df.groupby([\"dir_name\", \"epoch\"]).aggregate(compress)\n",
    "        else:\n",
    "            if \"receiver_aux_loss\" in data.keys():\n",
    "                data[\"receiver_auxiliary_loss\"] = data[\"receiver_aux_loss\"]\n",
    "                del data[\"receiver_aux_loss\"]\n",
    "            df = pd.DataFrame.from_records([{k: v.item() if torch.is_tensor(v) else v for k, v in data.items()}])\n",
    "        \n",
    "        df[\"dir_name\"] = run_dir\n",
    "        if \"epoch\" in result:\n",
    "            df[\"epoch\"] = int(result.split(\"epoch=\")[1].split(\"-\")[0])\n",
    "        results_df.append(df)\n",
    "\n",
    "\n",
    "results_df = pd.concat(results_df, ignore_index=True)\n",
    "\n",
    "results_df.reset_index(inplace=True)\n",
    "results_df"
   ],
   "metadata": {
    "collapsed": false,
    "pycharm": {
     "is_executing": true
    },
    "ExecuteTime": {
     "end_time": "2023-11-17T14:25:37.565165978Z",
     "start_time": "2023-11-17T14:25:26.417693745Z"
    }
   }
  },
  {
   "cell_type": "code",
   "execution_count": null,
   "outputs": [
    {
     "name": "stderr",
     "output_type": "stream",
     "text": [
      "  0%|          | 0/297 [00:00<?, ?it/s]"
     ]
    }
   ],
   "source": [
    "hp = []\n",
    "for run_dir in tqdm(os.listdir(LOG_DIR)):\n",
    "    file_path = os.path.join(LOG_DIR, run_dir, \"hparams.yaml\")\n",
    "    file = yaml.load(open(file_path), Loader=Loader) #safe_load(, Loader=Loader)\n",
    "    df = json_normalize(file)\n",
    "    df[\"dir_name\"] = run_dir\n",
    "    hp.append(df)\n",
    "\n",
    "hp = pd.concat(hp, ignore_index=True)\n",
    "hp"
   ],
   "metadata": {
    "collapsed": false,
    "is_executing": true,
    "ExecuteTime": {
     "start_time": "2023-11-17T14:25:37.553096435Z"
    }
   }
  },
  {
   "cell_type": "code",
   "execution_count": null,
   "outputs": [],
   "source": [
    "def fix_duplicate_value(val, allow_offset=None):\n",
    "    if isinstance(val, list):\n",
    "        for el in val:\n",
    "            if allow_offset is None:\n",
    "                assert (el == val[0]) or (el == \"None\") or (val[0] == \"None\")\n",
    "            else:\n",
    "                assert (np.abs(el - val[0]) < allow_offset) or (el == \"None\") or (val[0] == \"None\")\n",
    "        return val[0]\n",
    "    else:\n",
    "        return val\n",
    "\n",
    "hp = hp.applymap(fix_duplicate_value)"
   ],
   "metadata": {
    "collapsed": false,
    "pycharm": {
     "is_executing": true
    },
    "is_executing": true
   }
  },
  {
   "cell_type": "code",
   "execution_count": null,
   "outputs": [],
   "source": [
    "indices_best_steps = results_df.groupby(\"dir_name\")[REFERENCE_METRIC].idxmax()\n",
    "\n",
    "df = results_df.loc[list(indices_best_steps)].copy()\n",
    "df"
   ],
   "metadata": {
    "collapsed": false,
    "pycharm": {
     "is_executing": true
    },
    "is_executing": true
   }
  },
  {
   "cell_type": "code",
   "execution_count": null,
   "outputs": [],
   "source": [
    "df.set_index(\"dir_name\", inplace=True, drop=False)\n",
    "if not hp.index.name == \"dir_name\":\n",
    "    hp.set_index(\"dir_name\", inplace=True, verify_integrity=True)\n",
    "df = df.join(hp, how=\"left\")"
   ],
   "metadata": {
    "collapsed": false,
    "pycharm": {
     "is_executing": true
    },
    "is_executing": true
   }
  },
  {
   "cell_type": "code",
   "execution_count": null,
   "outputs": [],
   "source": [
    "assert (df.sender_entropy_coeff == df.receiver_entropy_coeff).all()\n",
    "assert (df.num_senders == df.num_receivers).all()\n",
    "assert (df.sender_layer_norm == df.receiver_layer_norm).all()\n",
    "\n",
    "df[\"entropy_coeff\"] = df[\"sender_entropy_coeff\"]\n",
    "df[\"num_agents\"] = df[\"num_senders\"]\n",
    "df[\"layer_norm\"] = df[\"sender_layer_norm\"]\n",
    "\n",
    "df[\"attr_val\"] = df[\"num_attributes\"].map(int).map(str) + \"_\" + df[\"num_values\"].map(int).map(str)\n",
    "\n",
    "data = df"
   ],
   "metadata": {
    "collapsed": false,
    "is_executing": true
   }
  },
  {
   "cell_type": "code",
   "execution_count": null,
   "outputs": [],
   "source": [
    "def calc_capacity(row):\n",
    "    return math.pow(row.num_values, row.num_attributes)\n",
    "\n",
    "data[\"capacity\"] = data.apply(calc_capacity, axis=1)\n",
    "data.sort_values(\"capacity\", inplace=True)"
   ],
   "metadata": {
    "collapsed": false,
    "pycharm": {
     "is_executing": true
    },
    "is_executing": true
   }
  },
  {
   "cell_type": "code",
   "execution_count": null,
   "outputs": [],
   "source": [
    "data[\"test_acc\"] = data[\"val_acc\"]\n",
    "data[\"test_acc_no_noise\"] = data[\"val_acc_no_noise\"]"
   ],
   "metadata": {
    "collapsed": false,
    "is_executing": true
   }
  },
  {
   "cell_type": "code",
   "execution_count": null,
   "outputs": [],
   "source": [
    "data[\"condition\"] = data[\"noise\"].map(lambda x: f\"noise_{x}\" if x > 0 else \"baseline\") + data[\"feedback\"].map(lambda x: \"_feedback\" if x else \"\") + data[\"receiver_aux_loss\"].map(lambda x: \"_aux_loss\" if x else \"\")\n",
    "\n",
    "target_data = data.copy()\n",
    "\n",
    "target_data = target_data[target_data.receiver_aux_loss == False]\n",
    "\n",
    "NUM_AGENTS = 1\n",
    "target_data = target_data[target_data.num_agents == NUM_AGENTS]\n",
    "\n",
    "MAX_LEN = 10\n",
    "target_data = target_data[target_data.max_len == MAX_LEN]\n",
    "\n",
    "NOISE = 0.5\n",
    "target_data = target_data[target_data.noise == NOISE]\n",
    "\n",
    "VOCAB_SIZE = 2\n",
    "target_data = target_data[target_data.vocab_size == VOCAB_SIZE]\n",
    "\n",
    "VOCAB_SIZE_FEEDBACK = 2\n",
    "target_data = target_data[(target_data.vocab_size_feedback == VOCAB_SIZE_FEEDBACK) | (target_data.feedback == False)]\n",
    "\n",
    "LAYER_NORM = 1\n",
    "target_data = target_data[target_data.layer_norm == LAYER_NORM]\n",
    "\n",
    "DISCRIMINATION_NUM_OBJECTS = 2\n",
    "target_data = target_data[target_data.discrimination_num_objects == DISCRIMINATION_NUM_OBJECTS]\n",
    "\n",
    "# hue_order = None\n",
    "# hue_order = [\"baseline\", \"noise_0.1\"]\n",
    "hue_order = [\"noise_0.5\", \"noise_0.5_feedback\", \"noise_0.5_feedback_aux_loss\"]\n",
    "\n",
    "# order = [\"2_10\", \"3_5\", \"2_16\", \"4_4\", \"4_5\", \"3_10\", \"2_100\"]\n",
    "# order = [\"2_100\", \"4_100\", \"10_100\"]\n",
    "order = [\"2_10\", \"4_4\", \"3_10\", \"2_100\", \"2_1000\", \"10_1000\"]\n",
    "\n",
    "target_hparam = \"attr_val\"\n",
    "\n",
    "num_runs_data = target_data.groupby([\"attr_val\", \"condition\"]).size().reset_index()\n",
    "\n",
    "\n",
    "metrics = [\"test_acc\", \"test_acc_no_noise\", \"topsim\"]\n",
    "# metrics = [\"test_acc\", \"topsim\", \"topsim_sender_receiver\", \"posdis\", \"bosdis\", \"test_acc_no_noise\", \"train_acc_no_noise\"]\n",
    "_, axes = plt.subplots(1, len(metrics), figsize=(35, 12))\n",
    "\n",
    "for value in order:\n",
    "    for fb in [False, True]:\n",
    "        d = target_data[(target_data[target_hparam] == value) & (target_data[\"feedback\"] == fb)]\n",
    "        if len(d) != 3:\n",
    "            print(f\"Unexpected number of datapoints: {len(d)}\")\n",
    "            print(value)\n",
    "            print(fb)\n",
    "            print(d)\n",
    "\n",
    "for i, metric in enumerate(metrics):\n",
    "    axis = axes[i]\n",
    "    # g = sns.barplot(ax=axis, data=target_data, x=target_hparam, y=metric, order=order, hue=\"feedback\", dodge=True)\n",
    "    g = sns.pointplot(ax=axis, data=target_data, x=target_hparam, y=metric, order=order, hue=\"feedback\", errorbar=\"se\", linestyles=\"\", dodge=0.1)\n",
    "\n",
    "    if not i == 0:\n",
    "        g.legend().remove()\n",
    "    else:\n",
    "        sns.move_legend(axis, \"lower left\")\n",
    "    axis.set_title(metric)\n",
    "    axis.set_ylabel(\"\")\n",
    "    # handles, labels = ax.get_legend_handles_labels()\n",
    "    # num_conditions = int(len(handles)/2) if not hue_order else len(hue_order)\n",
    "\n",
    "plt.tight_layout()\n",
    "plt.savefig(\"plots/effect_of_attr_val.pdf\", dpi=300)\n"
   ],
   "metadata": {
    "collapsed": false,
    "is_executing": true
   }
  },
  {
   "cell_type": "code",
   "execution_count": null,
   "outputs": [],
   "source": [
    "target_data = data.copy()\n",
    "\n",
    "target_data = target_data[target_data.receiver_aux_loss == False]\n",
    "\n",
    "NUM_AGENTS = 1\n",
    "target_data = target_data[target_data.num_agents == NUM_AGENTS]\n",
    "\n",
    "MAX_LEN = 10\n",
    "target_data = target_data[target_data.max_len == MAX_LEN]\n",
    "\n",
    "VOCAB_SIZE = 2\n",
    "target_data = target_data[target_data.vocab_size == VOCAB_SIZE]\n",
    "\n",
    "VOCAB_SIZE_FEEDBACK = 2\n",
    "target_data = target_data[(target_data.vocab_size_feedback == VOCAB_SIZE_FEEDBACK) | (target_data.feedback == False)]\n",
    "\n",
    "LAYER_NORM = 1\n",
    "target_data = target_data[target_data.layer_norm == LAYER_NORM]\n",
    "\n",
    "DISCRIMINATION_NUM_OBJECTS = 2\n",
    "target_data = target_data[target_data.discrimination_num_objects == DISCRIMINATION_NUM_OBJECTS]\n",
    "\n",
    "ATTR_VAL = \"4_4\"\n",
    "# ATTR_VAL = \"3_10\"\n",
    "\n",
    "target_data = target_data[(target_data[\"attr_val\"] == ATTR_VAL)]\n",
    "\n",
    "# print(target_data.dir_name.unique())\n",
    "target_hparam = \"noise\"\n",
    "order = [0, 0.1, 0.3, 0.5, 0.7, 0.9]\n",
    "\n",
    "\n",
    "num_runs_data = target_data.groupby([\"attr_val\", \"condition\"]).size().reset_index()\n",
    "\n",
    "metrics = [\"test_acc\", \"test_acc_no_noise\", \"topsim\"]\n",
    "# metrics = [\"test_acc\", \"topsim\", \"topsim_sender_receiver\", \"posdis\", \"bosdis\", \"test_acc_no_noise\", \"train_acc_no_noise\"]\n",
    "_, axes = plt.subplots(1, len(metrics), figsize=(35, 12))\n",
    "\n",
    "hue_variable = \"feedback\"\n",
    "for value in order:\n",
    "    for fb in [False, True]:\n",
    "        d = target_data[(target_data[target_hparam] == value) & (target_data[hue_variable] == fb)]\n",
    "        if len(d) != 3:\n",
    "            print(f\"Unexpected number of datapoints: {len(d)}\")\n",
    "            print(value)\n",
    "            print(\"fb: \", fb)\n",
    "\n",
    "for i, metric in enumerate(metrics):\n",
    "    axis = axes[i]\n",
    "    # g = sns.barplot(ax=axis, data=target_data, x=target_hparam, y=metric, order=order, hue=hue_variable, dodge=True)\n",
    "    g = sns.pointplot(ax=axis, data=target_data, x=target_hparam, y=metric, order=order, hue=hue_variable, errorbar=('ci', 95))\n",
    "\n",
    "    if not i == 0:\n",
    "        g.legend().remove()\n",
    "    else:\n",
    "        sns.move_legend(axis, \"lower left\")\n",
    "    axis.set_title(metric)\n",
    "    axis.set_ylabel(\"\")\n",
    "\n",
    "plt.tight_layout()\n",
    "plt.savefig(\"plots/effect_of_noise.pdf\", dpi=300)"
   ],
   "metadata": {
    "collapsed": false,
    "pycharm": {
     "is_executing": true
    },
    "is_executing": true
   }
  },
  {
   "cell_type": "code",
   "execution_count": null,
   "outputs": [],
   "source": [
    "target_data = data.copy()\n",
    "\n",
    "target_data = target_data[target_data.receiver_aux_loss == False]\n",
    "\n",
    "NUM_AGENTS = 1\n",
    "target_data = target_data[target_data.num_agents == NUM_AGENTS]\n",
    "\n",
    "NOISE = 0.7\n",
    "target_data = target_data[target_data.noise == NOISE]\n",
    "\n",
    "VOCAB_SIZE = 2\n",
    "target_data = target_data[target_data.vocab_size == VOCAB_SIZE]\n",
    "\n",
    "VOCAB_SIZE_FEEDBACK = 2\n",
    "target_data = target_data[(target_data.vocab_size_feedback == VOCAB_SIZE_FEEDBACK) | (target_data.feedback == False)]\n",
    "\n",
    "LAYER_NORM = 1\n",
    "target_data = target_data[target_data.layer_norm == LAYER_NORM]\n",
    "\n",
    "DISCRIMINATION_NUM_OBJECTS = 2\n",
    "target_data = target_data[target_data.discrimination_num_objects == DISCRIMINATION_NUM_OBJECTS]\n",
    "\n",
    "ATTR_VAL = \"4_4\"\n",
    "\n",
    "target_data = target_data[(target_data[\"attr_val\"] == ATTR_VAL)]\n",
    "\n",
    "# target_hparam = \"attr_val\"\n",
    "# order = [\"2_10\", \"4_4\", \"2_100\", \"2_1000\"]\n",
    "target_hparam = \"max_len\"\n",
    "order = [1, 3, 5, 10, 20, 30, 50]\n",
    "\n",
    "\n",
    "num_runs_data = target_data.groupby([\"attr_val\", \"condition\"]).size().reset_index()\n",
    "\n",
    "metrics = [\"test_acc\", \"test_acc_no_noise\", \"topsim\"]\n",
    "# metrics = [\"test_acc\", \"topsim\", \"topsim_sender_receiver\", \"posdis\", \"bosdis\", \"test_acc_no_noise\", \"train_acc_no_noise\"]\n",
    "_, axes = plt.subplots(1, len(metrics), figsize=(35, 12))\n",
    "\n",
    "hue_variable = \"feedback\"\n",
    "for value in order:\n",
    "    for fb in [False, True]:\n",
    "        d = target_data[(target_data[target_hparam] == value) & (target_data[hue_variable] == fb)]\n",
    "        if len(d) != 3:\n",
    "            print(f\"Unexpected number of datapoints: {len(d)}\")\n",
    "            print(value)\n",
    "            print(fb)\n",
    "            \n",
    "for i, metric in enumerate(metrics):\n",
    "    axis = axes[i]\n",
    "    # g = sns.barplot(ax=axis, data=target_data, x=target_hparam, y=metric, order=order, hue=\"feedback\", dodge=True)\n",
    "    g = sns.pointplot(ax=axis, data=target_data, x=target_hparam, y=metric, order=order, hue=hue_variable, errorbar=('ci', 95))\n",
    "\n",
    "    if not i == 0:\n",
    "        g.legend().remove()\n",
    "    else:\n",
    "        sns.move_legend(axis, \"upper left\")\n",
    "    axis.set_title(metric)\n",
    "    axis.set_ylabel(\"\")\n",
    "    axis.set_xlabel(\"message_length\")\n",
    "\n",
    "\n",
    "plt.tight_layout()\n",
    "plt.savefig(\"plots/effect_of_message_length.pdf\", dpi=300)"
   ],
   "metadata": {
    "collapsed": false,
    "is_executing": true
   }
  },
  {
   "cell_type": "code",
   "execution_count": null,
   "outputs": [],
   "source": [
    "target_data = data.copy()\n",
    "\n",
    "target_data = target_data[target_data.guesswhat == True]\n",
    "\n",
    "target_data = target_data[target_data.receiver_output_attention == False]\n",
    "target_data = target_data[target_data.receiver_object_attention == False]\n",
    "target_data = target_data[target_data.sender_attention == False]\n",
    "\n",
    "target_data = target_data[(target_data.receiver_aux_loss == False)]\n",
    "\n",
    "NUM_AGENTS = 1\n",
    "target_data = target_data[target_data.num_agents == NUM_AGENTS]\n",
    "\n",
    "MAX_LEN = 10\n",
    "target_data = target_data[target_data.max_len == MAX_LEN]\n",
    "\n",
    "VOCAB_SIZE = 2\n",
    "target_data = target_data[target_data.vocab_size == VOCAB_SIZE]\n",
    "\n",
    "VOCAB_SIZE_FEEDBACK = 2\n",
    "target_data = target_data[(target_data.vocab_size_feedback == VOCAB_SIZE_FEEDBACK) | (target_data.feedback == False)]\n",
    "\n",
    "LAYER_NORM = 1\n",
    "target_data = target_data[target_data.layer_norm == LAYER_NORM]\n",
    "\n",
    "DISCRIMINATION_NUM_OBJECTS = 10\n",
    "target_data = target_data[target_data.discrimination_num_objects == DISCRIMINATION_NUM_OBJECTS]\n",
    "\n",
    "# target_hparam = \"attr_val\"\n",
    "# order = [\"2_10\", \"4_4\", \"2_100\", \"2_1000\"]\n",
    "target_hparam = \"noise\"\n",
    "order = [0, 0.1, 0.3, 0.5, 0.7, 0.9]\n",
    "\n",
    "metrics = [\"test_acc\"] #test_acc_no_noise\n",
    "_, axes = plt.subplots(1, len(metrics)*2, figsize=(35, 12))\n",
    "\n",
    "hue_variable = \"feedback\"\n",
    "for value in order:\n",
    "    for fb in [False, True]:\n",
    "        d = target_data[(target_data[target_hparam] == value) & (target_data[hue_variable] == fb)]\n",
    "        if len(d) != 3:\n",
    "            print(f\"Unexpected number of datapoints: {len(d)}\")\n",
    "            print(value)\n",
    "            print(fb)\n",
    "            \n",
    "for i, metric in enumerate(metrics):\n",
    "    axis = axes[i]\n",
    "    # g = sns.barplot(ax=axis, data=target_data, x=target_hparam, y=metric, order=order, hue=\"feedback\", dodge=True)\n",
    "    g = sns.pointplot(ax=axis, data=target_data, x=target_hparam, y=metric, order=order, hue=hue_variable, errorbar=('ci', 95))\n",
    "\n",
    "    if not i == 0:\n",
    "        g.legend().remove()\n",
    "    else:\n",
    "        sns.move_legend(axis, \"lower left\")\n",
    "    axis.set_title(metric)\n",
    "    axis.set_ylabel(\"\")\n",
    "    # axis.set_ylim((0, 1))\n",
    "\n",
    "\n",
    "###\n",
    "# SECOND HALF\n",
    "###\n",
    "\n",
    "target_data = data.copy()\n",
    "\n",
    "target_data = target_data[target_data.guesswhat == True]\n",
    "\n",
    "target_data = target_data[target_data.receiver_output_attention == False]\n",
    "target_data = target_data[target_data.receiver_object_attention == False]\n",
    "target_data = target_data[target_data.sender_attention == False]\n",
    "\n",
    "target_data = target_data[target_data.receiver_aux_loss == False]\n",
    "\n",
    "\n",
    "NUM_AGENTS = 1\n",
    "target_data = target_data[target_data.num_agents == NUM_AGENTS]\n",
    "\n",
    "NOISE = 0.5\n",
    "target_data = target_data[target_data.noise == NOISE]\n",
    "\n",
    "VOCAB_SIZE = 2\n",
    "target_data = target_data[target_data.vocab_size == VOCAB_SIZE]\n",
    "\n",
    "VOCAB_SIZE_FEEDBACK = 2\n",
    "target_data = target_data[(target_data.vocab_size_feedback == VOCAB_SIZE_FEEDBACK) | (target_data.feedback == False)]\n",
    "\n",
    "LAYER_NORM = 1\n",
    "target_data = target_data[target_data.layer_norm == LAYER_NORM]\n",
    "\n",
    "DISCRIMINATION_NUM_OBJECTS = 10\n",
    "target_data = target_data[target_data.discrimination_num_objects == DISCRIMINATION_NUM_OBJECTS]\n",
    "\n",
    "# target_hparam = \"attr_val\"\n",
    "# order = [\"2_10\", \"4_4\", \"2_100\", \"2_1000\"]\n",
    "target_hparam = \"max_len\"\n",
    "order = [1, 5, 10, 20, 30, 50]\n",
    "\n",
    "metrics = [\"test_acc\"] #test_acc_no_noise\n",
    "\n",
    "hue_variable = \"feedback\"\n",
    "for value in order:\n",
    "    for fb in [False, True]:\n",
    "        d = target_data[(target_data[target_hparam] == value) & (target_data[hue_variable] == fb)]\n",
    "        if len(d) != 3:\n",
    "            print(f\"Unexpected number of datapoints: {len(d)}\")\n",
    "            print(value)\n",
    "            print(fb)\n",
    "\n",
    "for i, metric in enumerate(metrics):\n",
    "    axis = axes[i+len(metrics)]\n",
    "    # g = sns.barplot(ax=axis, data=target_data, x=target_hparam, y=metric, order=order, hue=\"feedback\", dodge=True)\n",
    "    g = sns.pointplot(ax=axis, data=target_data, x=target_hparam, y=metric, order=order, hue=hue_variable, errorbar=('ci', 95))\n",
    "\n",
    "    if not i == 0:\n",
    "        g.legend().remove()\n",
    "    else:\n",
    "        sns.move_legend(axis, \"upper left\")\n",
    "    axis.set_title(metric)\n",
    "    axis.set_ylabel(\"\")\n",
    "    axis.set_xlabel(\"message_length\")\n",
    "\n",
    "# axis.set_ylim((0, 1))\n",
    "\n",
    "plt.tight_layout()\n",
    "plt.savefig(\"plots/guesswhat.pdf\", dpi=300)"
   ],
   "metadata": {
    "collapsed": false,
    "is_executing": true
   }
  },
  {
   "cell_type": "code",
   "execution_count": null,
   "outputs": [],
   "source": [
    "target_data = data.copy()\n",
    "\n",
    "target_data = target_data[target_data.guesswhat == True]\n",
    "\n",
    "target_data = target_data[target_data.receiver_output_attention == False]\n",
    "target_data = target_data[target_data.receiver_object_attention == False]\n",
    "target_data = target_data[target_data.sender_attention == False]\n",
    "\n",
    "target_data = target_data[(target_data.receiver_aux_loss == False)]\n",
    "\n",
    "NUM_AGENTS = 1\n",
    "target_data = target_data[target_data.num_agents == NUM_AGENTS]\n",
    "\n",
    "MAX_LEN = 10\n",
    "target_data = target_data[target_data.max_len == MAX_LEN]\n",
    "\n",
    "VOCAB_SIZE = 2\n",
    "target_data = target_data[target_data.vocab_size == VOCAB_SIZE]\n",
    "\n",
    "VOCAB_SIZE_FEEDBACK = 2\n",
    "target_data = target_data[(target_data.vocab_size_feedback == VOCAB_SIZE_FEEDBACK) | (target_data.feedback == False)]\n",
    "\n",
    "LAYER_NORM = 1\n",
    "target_data = target_data[target_data.layer_norm == LAYER_NORM]\n",
    "\n",
    "DISCRIMINATION_NUM_OBJECTS = 10\n",
    "target_data = target_data[target_data.discrimination_num_objects == DISCRIMINATION_NUM_OBJECTS]\n",
    "\n",
    "# target_hparam = \"attr_val\"\n",
    "# order = [\"2_10\", \"4_4\", \"2_100\", \"2_1000\"]\n",
    "target_hparam = \"noise\"\n",
    "order = [0, 0.1, 0.3, 0.5, 0.7, 0.9]\n",
    "\n",
    "metrics = [\"test_acc_no_noise\"] #\n",
    "_, axes = plt.subplots(1, len(metrics)*2, figsize=(35, 12))\n",
    "\n",
    "hue_variable = \"feedback\"\n",
    "for value in order:\n",
    "    for fb in [False, True]:\n",
    "        d = target_data[(target_data[target_hparam] == value) & (target_data[hue_variable] == fb)]\n",
    "        if len(d) != 3:\n",
    "            print(f\"Unexpected number of datapoints: {len(d)}\")\n",
    "            print(value)\n",
    "            print(fb)\n",
    "\n",
    "for i, metric in enumerate(metrics):\n",
    "    axis = axes[i]\n",
    "    # g = sns.barplot(ax=axis, data=target_data, x=target_hparam, y=metric, order=order, hue=\"feedback\", dodge=True)\n",
    "    g = sns.pointplot(ax=axis, data=target_data, x=target_hparam, y=metric, order=order, hue=hue_variable, errorbar=('ci', 95))\n",
    "\n",
    "    if not i == 0:\n",
    "        g.legend().remove()\n",
    "    else:\n",
    "        sns.move_legend(axis, \"lower left\")\n",
    "    axis.set_title(metric)\n",
    "    axis.set_ylabel(\"\")\n",
    "    # axis.set_ylim((0, 1))\n",
    "\n",
    "\n",
    "###\n",
    "# SECOND HALF\n",
    "###\n",
    "\n",
    "target_data = data.copy()\n",
    "\n",
    "target_data = target_data[target_data.guesswhat == True]\n",
    "\n",
    "target_data = target_data[target_data.receiver_output_attention == False]\n",
    "target_data = target_data[target_data.receiver_object_attention == False]\n",
    "target_data = target_data[target_data.sender_attention == False]\n",
    "\n",
    "target_data = target_data[target_data.receiver_aux_loss == False]\n",
    "\n",
    "\n",
    "NUM_AGENTS = 1\n",
    "target_data = target_data[target_data.num_agents == NUM_AGENTS]\n",
    "\n",
    "NOISE = 0.5\n",
    "target_data = target_data[target_data.noise == NOISE]\n",
    "\n",
    "VOCAB_SIZE = 2\n",
    "target_data = target_data[target_data.vocab_size == VOCAB_SIZE]\n",
    "\n",
    "VOCAB_SIZE_FEEDBACK = 2\n",
    "target_data = target_data[(target_data.vocab_size_feedback == VOCAB_SIZE_FEEDBACK) | (target_data.feedback == False)]\n",
    "\n",
    "LAYER_NORM = 1\n",
    "target_data = target_data[target_data.layer_norm == LAYER_NORM]\n",
    "\n",
    "DISCRIMINATION_NUM_OBJECTS = 10\n",
    "target_data = target_data[target_data.discrimination_num_objects == DISCRIMINATION_NUM_OBJECTS]\n",
    "\n",
    "# target_hparam = \"attr_val\"\n",
    "# order = [\"2_10\", \"4_4\", \"2_100\", \"2_1000\"]\n",
    "target_hparam = \"max_len\"\n",
    "order = [1, 5, 10, 20, 30, 50]\n",
    "\n",
    "metrics = [\"test_acc_no_noise\"] #\n",
    "\n",
    "hue_variable = \"feedback\"\n",
    "for value in order:\n",
    "    for fb in [False, True]:\n",
    "        d = target_data[(target_data[target_hparam] == value) & (target_data[hue_variable] == fb)]\n",
    "        if len(d) != 3:\n",
    "            print(f\"Unexpected number of datapoints: {len(d)}\")\n",
    "            print(value)\n",
    "            print(fb)\n",
    "\n",
    "for i, metric in enumerate(metrics):\n",
    "    axis = axes[i+len(metrics)]\n",
    "    # g = sns.barplot(ax=axis, data=target_data, x=target_hparam, y=metric, order=order, hue=\"feedback\", dodge=True)\n",
    "    g = sns.pointplot(ax=axis, data=target_data, x=target_hparam, y=metric, order=order, hue=hue_variable, errorbar=('ci', 95))\n",
    "\n",
    "    if not i == 0:\n",
    "        g.legend().remove()\n",
    "    else:\n",
    "        sns.move_legend(axis, \"upper left\")\n",
    "    axis.set_title(metric)\n",
    "    axis.set_ylabel(\"\")\n",
    "    axis.set_xlabel(\"message_length\")\n",
    "\n",
    "# axis.set_ylim((0, 1))\n",
    "\n",
    "plt.tight_layout()\n",
    "plt.savefig(\"plots/guesswhat_no_noise.pdf\", dpi=300)"
   ],
   "metadata": {
    "collapsed": false,
    "is_executing": true
   }
  },
  {
   "cell_type": "code",
   "execution_count": null,
   "outputs": [],
   "source": [
    "target_data = data.copy()\n",
    "\n",
    "target_data = target_data[target_data.guesswhat == True]\n",
    "\n",
    "target_data = target_data[target_data.receiver_output_attention == False]\n",
    "target_data = target_data[target_data.receiver_object_attention == False]\n",
    "target_data = target_data[target_data.sender_attention == False]\n",
    "\n",
    "target_data = target_data[target_data.receiver_aux_loss == False]\n",
    "\n",
    "\n",
    "NUM_AGENTS = 1\n",
    "target_data = target_data[target_data.num_agents == NUM_AGENTS]\n",
    "\n",
    "NOISE = 0.5\n",
    "target_data = target_data[target_data.noise == NOISE]\n",
    "\n",
    "VOCAB_SIZE = 2\n",
    "target_data = target_data[target_data.vocab_size == VOCAB_SIZE]\n",
    "\n",
    "VOCAB_SIZE_FEEDBACK = 2\n",
    "target_data = target_data[(target_data.vocab_size_feedback == VOCAB_SIZE_FEEDBACK) | (target_data.feedback == False)]\n",
    "\n",
    "LAYER_NORM = 1\n",
    "target_data = target_data[target_data.layer_norm == LAYER_NORM]\n",
    "\n",
    "DISCRIMINATION_NUM_OBJECTS = 10\n",
    "target_data = target_data[target_data.discrimination_num_objects == DISCRIMINATION_NUM_OBJECTS]\n",
    "\n",
    "# target_hparam = \"attr_val\"\n",
    "# order = [\"2_10\", \"4_4\", \"2_100\", \"2_1000\"]\n",
    "target_hparam = \"max_len\"\n",
    "order = [1, 5, 10, 20, 30, 50]\n",
    "\n",
    "metrics = [\"test_acc\", \"test_acc_no_noise\", \"train_acc\"]\n",
    "# metrics = [\"test_acc\", \"topsim\", \"topsim_sender_receiver\", \"posdis\", \"bosdis\", \"test_acc_no_noise\", \"train_acc_no_noise\"]\n",
    "_, axes = plt.subplots(1, len(metrics), figsize=(35, 10))\n",
    "\n",
    "hue_variable = \"feedback\"\n",
    "for value in order:\n",
    "    for fb in [False, True]:\n",
    "        d = target_data[(target_data[target_hparam] == value) & (target_data[hue_variable] == fb)]\n",
    "        if len(d) != 3:\n",
    "            print(f\"Unexpected number of datapoints: {len(d)}\")\n",
    "            print(value)\n",
    "            print(fb)\n",
    "            \n",
    "for i, metric in enumerate(metrics):\n",
    "    axis = axes[i]\n",
    "    # g = sns.barplot(ax=axis, data=target_data, x=target_hparam, y=metric, order=order, hue=\"feedback\", dodge=True)\n",
    "    g = sns.pointplot(ax=axis, data=target_data, x=target_hparam, y=metric, order=order, hue=hue_variable, errorbar=('ci', 95), dodge=0.1)\n",
    "\n",
    "    if not i == 0:\n",
    "        g.legend().remove()\n",
    "    else:\n",
    "        sns.move_legend(axis, \"upper left\")\n",
    "    axis.set_title(metric)\n",
    "    axis.set_ylabel(\"\")\n",
    "    axis.set_xlabel(\"message_length\")\n",
    "\n",
    "# axis.set_ylim((0, 1))\n",
    "\n",
    "plt.tight_layout()\n",
    "plt.savefig(\"plots/guesswhat_max_len.pdf\", dpi=300)"
   ],
   "metadata": {
    "collapsed": false,
    "is_executing": true
   }
  },
  {
   "cell_type": "code",
   "execution_count": null,
   "outputs": [],
   "source": [
    "data = []\n",
    "\n",
    "noise = [0.5324794832658659, 0.5335070968199509, 0.5335038136672091, 0.5339482142500649, 0.5332509060283926, 0.5333704351868614, 0.5327118284699583, 0.5300618360198712, 0.5303755071863462]\n",
    "for i, n in enumerate(noise):\n",
    "    data.append({\"condition\": \"after noise token\", \"turn\": i, \"prob\": n})\n",
    "    \n",
    "no_noise = [0.5354631303998393, 0.53442421325633, 0.53442849654834, 0.5339807338244494, 0.5346668254157241, 0.5345516733947143, 0.5352325882994804, 0.537851318115185, 0.5375381968005606]\n",
    "for i, n in enumerate(no_noise):\n",
    "    data.append({\"condition\": \"after other token\", \"turn\": i, \"prob\": n})\n",
    "\n",
    "\n",
    "\n",
    "data = pd.DataFrame.from_records(data)\n",
    "\n",
    "_, axes = plt.subplots(1, 2, figsize=(35, 12), sharey=True)\n",
    "# plt.figure(figsize=(10, 10))\n",
    "sns.pointplot(ax=axes[0], data=data, x=\"turn\", y=\"prob\", hue=\"condition\")\n",
    "# plt.ylim((0, 1))\n",
    "\n",
    "data_2 = []\n",
    "after_0 = [0.3780947411143967, 0.3950762783997905, 0.4079030503418036, 0.4179165733900455, 0.41563186322742424, 0.4177290918843091, 0.42253313184999913, 0.4264756773331581, 0.4233993503091271]\n",
    "for i, n in enumerate(after_0):\n",
    "    data_2.append({\"condition\": \"after 0\", \"turn\": i, \"prob\": n})\n",
    "\n",
    "after_1 = [0.4266391045795913, 0.4277036238071697, 0.42208971246220744, 0.4135762664003001, 0.41550587560905705, 0.41043735842481266, 0.4081567511616348, 0.4106360314442512, 0.4131322223131404]\n",
    "for i, n in enumerate(after_1):\n",
    "    data_2.append({\"condition\": \"after 1\", \"turn\": i, \"prob\": n})\n",
    "\n",
    "data_2 = pd.DataFrame.from_records(data_2)\n",
    "sns.pointplot(ax=axes[1], data=data_2, x=\"turn\", y=\"prob\", hue=\"condition\")\n",
    "\n",
    "# plt.ylim((0, 1))\n",
    "# sns.pointplot(x=turn, y=no_noise)\n"
   ],
   "metadata": {
    "collapsed": false,
    "is_executing": true
   }
  },
  {
   "cell_type": "code",
   "execution_count": null,
   "outputs": [],
   "source": [],
   "metadata": {
    "collapsed": false,
    "is_executing": true
   }
  },
  {
   "cell_type": "code",
   "execution_count": null,
   "outputs": [],
   "source": [],
   "metadata": {
    "collapsed": false,
    "is_executing": true
   }
  },
  {
   "cell_type": "code",
   "execution_count": null,
   "outputs": [],
   "source": [],
   "metadata": {
    "collapsed": false,
    "is_executing": true
   }
  }
 ],
 "metadata": {
  "kernelspec": {
   "display_name": "Python 3 (ipykernel)",
   "language": "python",
   "name": "python3"
  },
  "language_info": {
   "codemirror_mode": {
    "name": "ipython",
    "version": 3
   },
   "file_extension": ".py",
   "mimetype": "text/x-python",
   "name": "python",
   "nbconvert_exporter": "python",
   "pygments_lexer": "ipython3",
   "version": "3.9.7"
  }
 },
 "nbformat": 4,
 "nbformat_minor": 1
}
