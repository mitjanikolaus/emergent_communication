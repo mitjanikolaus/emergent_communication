{
 "cells": [
  {
   "cell_type": "code",
   "execution_count": null,
   "outputs": [],
   "source": [
    "import os\n",
    "import math\n",
    "import pandas as pd\n",
    "from tbparse import SummaryReader\n",
    "\n",
    "# log_dir = os.path.expanduser(\"~/lis-cluster/emergent_communication/emergent_communication/lightning_logs\")\n",
    "log_dir = os.path.expanduser(\"~/PhD/emergent_communication/emergent_communication/lightning_logs_cluster\")\n",
    "\n",
    "reader = SummaryReader(log_dir, extra_columns={'dir_name'}, pivot=True)\n",
    "df = reader.scalars"
   ],
   "metadata": {
    "collapsed": false,
    "pycharm": {
     "name": "#%%\n"
    }
   }
  },
  {
   "cell_type": "code",
   "execution_count": null,
   "outputs": [],
   "source": [
    "df.dropna(subset=[\"best_val_acc_no_noise\"], inplace=True)\n",
    "unfinished_runs = df[df[\"best_val_acc_no_noise\"].apply(isinstance, args=(list, ))]\n",
    "print(f\"Unfinished/Duplicate runs: {unfinished_runs.dir_name.unique()}\")\n",
    "df = df[~df[\"best_val_acc_no_noise\"].apply(isinstance, args=(list,))].copy()\n",
    "\n",
    "# Keep only best step values for each run\n",
    "df[\"best_val_acc_no_noise\"] = df[\"best_val_acc_no_noise\"].astype(float)\n",
    "indices_best_steps = df.groupby([\"dir_name\"])[\"best_val_acc_no_noise\"].idxmax()\n",
    "df = df.loc[indices_best_steps]\n",
    "df"
   ],
   "metadata": {
    "collapsed": false,
    "pycharm": {
     "name": "#%%\n"
    }
   }
  },
  {
   "cell_type": "code",
   "execution_count": null,
   "outputs": [],
   "source": [
    "hp = reader.hparams\n",
    "hp = hp[~hp[\"num_values\"].apply(isinstance, args=(list,))].copy()\n",
    "hp"
   ],
   "metadata": {
    "collapsed": false,
    "pycharm": {
     "name": "#%%\n"
    }
   }
  },
  {
   "cell_type": "code",
   "execution_count": null,
   "outputs": [],
   "source": [
    "df.set_index(\"dir_name\", inplace=True)\n",
    "hp.set_index(\"dir_name\", inplace=True)\n",
    "df = df.join(hp, how=\"left\")"
   ],
   "metadata": {
    "collapsed": false,
    "pycharm": {
     "name": "#%%\n"
    }
   }
  },
  {
   "cell_type": "code",
   "execution_count": null,
   "outputs": [],
   "source": [
    "df.dropna(subset=[\"num_attributes\", \"num_values\"], inplace=True)\n",
    "\n",
    "assert (df.sender_entropy_coeff == df.receiver_entropy_coeff).all()\n",
    "assert (df.num_senders == df.num_receivers).all()\n",
    "\n",
    "df[\"entropy_coeff\"] = df[\"sender_entropy_coeff\"]\n",
    "df[\"num_agents\"] = df[\"num_senders\"]\n",
    "\n",
    "runs_best_entropy = []\n",
    "\n",
    "df[\"attr_val\"] = df[\"num_attributes\"].map(int).map(str) + \"_\" + df[\"num_values\"].map(int).map(str)\n",
    "attr_val_combinations = df[\"attr_val\"].unique()\n",
    "\n",
    "num_agents_values = df[\"num_agents\"].unique()\n",
    "for num_agents in num_agents_values:\n",
    "    print(f\"\\nNum agents: {num_agents}\")\n",
    "\n",
    "    for attr_val in attr_val_combinations:\n",
    "        n_attributes = int(float(attr_val.split(\"_\")[0]))\n",
    "        n_values = int(float(attr_val.split(\"_\")[1]))\n",
    "        print(f\"\\n\\t\\tAttr: {n_attributes} Values: {n_values}\")\n",
    "\n",
    "        length_cost_values = df[\"length_cost\"].unique()\n",
    "        for length_cost in length_cost_values:\n",
    "            print(f\"\\t\\tLength cost: {length_cost}\")\n",
    "\n",
    "            noise_values = df[\"noise\"].unique()\n",
    "\n",
    "            for noise in noise_values:\n",
    "                print(f\"\\t\\t\\t\\tNoise: {noise}\")\n",
    "\n",
    "                for feedback in (0, 1):\n",
    "                    print(\"\\t\\t\\t\\t\\tFeedback\") if feedback else print(\"\\t\\t\\t\\t\\tBaseline\")\n",
    "\n",
    "                    df_config = df[(df.attr_val == attr_val) & (df.length_cost == length_cost) & (df.feedback == feedback) & (df.num_agents == num_agents) & (df.noise == noise)]\n",
    "\n",
    "                    print(f\"\\t\\t\\t\\t\\tFound {len(df_config)} runs for config\") #: {df_config}\n",
    "\n",
    "                    if len(df_config) == 0:\n",
    "                        continue\n",
    "\n",
    "                    avg_val_accs = df_config.groupby(\"sender_entropy_coeff\").aggregate({\"best_val_acc_no_noise\": \"mean\"})\n",
    "                    print(\"\\t\\t\\t\\t\\t\", avg_val_accs.to_dict())\n",
    "                    # Take highest entropy coeff in case of tie\n",
    "                    best_entropy_coeff = avg_val_accs[avg_val_accs.best_val_acc_no_noise == avg_val_accs.max()[0]].index[-1]\n",
    "\n",
    "                    print(\"\\t\\t\\t\\t\\tbest entropy coeff: \", best_entropy_coeff)\n",
    "                    df_best_entropy = df_config[df_config.entropy_coeff == best_entropy_coeff]\n",
    "\n",
    "                    runs_best_entropy.append(df_best_entropy)\n",
    "\n",
    "data = pd.concat(runs_best_entropy, ignore_index=True)\n"
   ],
   "metadata": {
    "collapsed": false,
    "pycharm": {
     "name": "#%%\n"
    }
   }
  },
  {
   "cell_type": "code",
   "execution_count": null,
   "outputs": [],
   "source": [
    "def calc_capacity(row):\n",
    "    return math.pow(row.num_values, row.num_attributes)\n",
    "\n",
    "data[\"capacity\"] = data.apply(calc_capacity, axis=1)\n",
    "data.sort_values(\"capacity\", inplace=True)"
   ],
   "metadata": {
    "collapsed": false,
    "pycharm": {
     "name": "#%%\n"
    }
   }
  },
  {
   "cell_type": "code",
   "execution_count": null,
   "outputs": [],
   "source": [
    "import seaborn as sns\n",
    "import matplotlib.pyplot as plt\n",
    "\n",
    "\n",
    "data[\"condition\"] = data[\"noise\"].map(lambda x: f\"noise_{x}\" if x > 0 else \"baseline\") + data[\"length_cost\"].map(lambda x: f\"_length_cost_{x}\" if x > 0 else \"\") + data[\"feedback\"].map(lambda x: \"_feedback\" if x else \"\")\n",
    "\n",
    "# Exclude bad noise setting\n",
    "target_data = data[~(data.noise == 0.3)]\n",
    "\n",
    "ATTR_VAL = \"4_4\"\n",
    "target_data = target_data[(target_data[\"attr_val\"] == ATTR_VAL)]\n",
    "\n",
    "# target_hparam = \"length_cost\"\n",
    "target_hparam = \"attr_val\"\n",
    "\n",
    "_, axes = plt.subplots(3, 2, figsize=(50, 30))\n",
    "\n",
    "# hue_order = None\n",
    "# hue_order = [\"baseline\", \"noise_0.1\", \"noise_0.1_length_cost_0.001\", \"noise_0.1_length_cost_0.001_feedback\"]\n",
    "hue_order = [\"baseline\", \"noise_0.1_feedback\", \"noise_0.1_length_cost_0.001_feedback\", \"noise_0.1_length_cost_0.01_feedback\"]\n",
    "\n",
    "\n",
    "next_axis_idx = (0, 0)\n",
    "for metric in [\"val_acc_no_noise\", \"test_acc_no_noise\", \"topsim\", \"posdis\", \"bosdis\"]:\n",
    "    sns.boxplot(ax=axes[next_axis_idx], data=target_data, x=target_hparam, y=metric, hue=\"condition\", hue_order=hue_order, boxprops=dict(alpha=.5), showfliers = False)\n",
    "    ax = sns.swarmplot(ax=axes[next_axis_idx], data=target_data, x=target_hparam, y=metric, hue=\"condition\", dodge=True)\n",
    "    handles, labels = ax.get_legend_handles_labels()\n",
    "    num_conditions = int(len(handles)/2) if not hue_order else len(hue_order)\n",
    "    ax.legend(handles[:num_conditions], labels[:num_conditions])\n",
    "    if next_axis_idx[1] >= axes.shape[1]-1:\n",
    "        next_axis_idx = (next_axis_idx[0]+1, 0)\n",
    "    else:\n",
    "        next_axis_idx = (next_axis_idx[0], next_axis_idx[1]+1)\n",
    "\n",
    "\n",
    "name = log_dir.split(\"/\")[-1]\n",
    "plt.savefig(\"plots/\"+name+\".pdf\", dpi=300)\n",
    "\n"
   ],
   "metadata": {
    "collapsed": false,
    "pycharm": {
     "name": "#%%\n"
    }
   }
  },
  {
   "cell_type": "code",
   "execution_count": null,
   "outputs": [],
   "source": [],
   "metadata": {
    "collapsed": false,
    "pycharm": {
     "name": "#%%\n"
    }
   }
  },
  {
   "cell_type": "code",
   "execution_count": null,
   "outputs": [],
   "source": [],
   "metadata": {
    "collapsed": false,
    "pycharm": {
     "name": "#%%\n"
    }
   }
  },
  {
   "cell_type": "code",
   "execution_count": 89,
   "outputs": [],
   "source": [],
   "metadata": {
    "collapsed": false,
    "pycharm": {
     "name": "#%%\n"
    }
   }
  },
  {
   "cell_type": "code",
   "execution_count": 18,
   "outputs": [],
   "source": [],
   "metadata": {
    "collapsed": false,
    "pycharm": {
     "name": "#%%\n"
    }
   }
  }
 ],
 "metadata": {
  "kernelspec": {
   "display_name": "Python 3 (ipykernel)",
   "language": "python",
   "name": "python3"
  },
  "language_info": {
   "codemirror_mode": {
    "name": "ipython",
    "version": 3
   },
   "file_extension": ".py",
   "mimetype": "text/x-python",
   "name": "python",
   "nbconvert_exporter": "python",
   "pygments_lexer": "ipython3",
   "version": "3.9.7"
  }
 },
 "nbformat": 4,
 "nbformat_minor": 1
}