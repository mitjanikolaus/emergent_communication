{
 "cells": [
  {
   "cell_type": "code",
   "execution_count": 59,
   "outputs": [
    {
     "data": {
      "text/plain": "                           tag   value         dir_name\n0                  accelerator    None  version_1052311\n1      accumulate_grad_batches    None  version_1052311\n2                  amp_backend  native  version_1052311\n3                    amp_level    None  version_1052311\n4                 auto_lr_find     0.0  version_1052311\n...                        ...     ...              ...\n17659          track_grad_norm    -1.0  version_1052963\n17660       val_check_interval     1.0  version_1052963\n17661               vocab_size   100.0  version_1052963\n17662        weights_save_path    None  version_1052963\n17663          weights_summary     top  version_1052963\n\n[17664 rows x 3 columns]",
      "text/html": "<div>\n<style scoped>\n    .dataframe tbody tr th:only-of-type {\n        vertical-align: middle;\n    }\n\n    .dataframe tbody tr th {\n        vertical-align: top;\n    }\n\n    .dataframe thead th {\n        text-align: right;\n    }\n</style>\n<table border=\"1\" class=\"dataframe\">\n  <thead>\n    <tr style=\"text-align: right;\">\n      <th></th>\n      <th>tag</th>\n      <th>value</th>\n      <th>dir_name</th>\n    </tr>\n  </thead>\n  <tbody>\n    <tr>\n      <th>0</th>\n      <td>accelerator</td>\n      <td>None</td>\n      <td>version_1052311</td>\n    </tr>\n    <tr>\n      <th>1</th>\n      <td>accumulate_grad_batches</td>\n      <td>None</td>\n      <td>version_1052311</td>\n    </tr>\n    <tr>\n      <th>2</th>\n      <td>amp_backend</td>\n      <td>native</td>\n      <td>version_1052311</td>\n    </tr>\n    <tr>\n      <th>3</th>\n      <td>amp_level</td>\n      <td>None</td>\n      <td>version_1052311</td>\n    </tr>\n    <tr>\n      <th>4</th>\n      <td>auto_lr_find</td>\n      <td>0.0</td>\n      <td>version_1052311</td>\n    </tr>\n    <tr>\n      <th>...</th>\n      <td>...</td>\n      <td>...</td>\n      <td>...</td>\n    </tr>\n    <tr>\n      <th>17659</th>\n      <td>track_grad_norm</td>\n      <td>-1.0</td>\n      <td>version_1052963</td>\n    </tr>\n    <tr>\n      <th>17660</th>\n      <td>val_check_interval</td>\n      <td>1.0</td>\n      <td>version_1052963</td>\n    </tr>\n    <tr>\n      <th>17661</th>\n      <td>vocab_size</td>\n      <td>100.0</td>\n      <td>version_1052963</td>\n    </tr>\n    <tr>\n      <th>17662</th>\n      <td>weights_save_path</td>\n      <td>None</td>\n      <td>version_1052963</td>\n    </tr>\n    <tr>\n      <th>17663</th>\n      <td>weights_summary</td>\n      <td>top</td>\n      <td>version_1052963</td>\n    </tr>\n  </tbody>\n</table>\n<p>17664 rows × 3 columns</p>\n</div>"
     },
     "execution_count": 59,
     "metadata": {},
     "output_type": "execute_result"
    }
   ],
   "source": [
    "import pandas as pd\n",
    "from tbparse import SummaryReader\n",
    "import os\n",
    "\n",
    "log_dir = os.path.expanduser(\"~/lis-cluster/emergent_communication/emergent_communication/lightning_logs/\")\n",
    "reader = SummaryReader(log_dir, extra_columns={'dir_name'})\n",
    "df = reader.scalars\n",
    "\n",
    "hp = reader.hparams\n",
    "hp"
   ],
   "metadata": {
    "collapsed": false,
    "pycharm": {
     "name": "#%%\n"
    }
   }
  },
  {
   "cell_type": "code",
   "execution_count": 66,
   "outputs": [],
   "source": [
    "import numpy as np\n",
    "\n",
    "def get_metric_value(df, metric_name, dir_name, step):\n",
    "    values = df[(df['dir_name'] == dir_name) & (df[\"step\"] == step) & (df[\"tag\"] == metric_name)].value.values\n",
    "    if len(values) == 0:\n",
    "        raise ValueError()\n",
    "    assert len(values) == 1\n",
    "    return values[0]\n",
    "\n",
    "def get_metric_values(df, metric_name, dir_names):\n",
    "    values = df[(df['dir_name'].isin(dir_names)) & (df[\"tag\"] == metric_name)].value.values\n",
    "    return values\n",
    "\n",
    "def get_hparam(hp, hparam_name, dir_name):\n",
    "    values = hp[(hp['dir_name'] == dir_name) & (hp['tag'] == hparam_name)].value.values\n",
    "    if len(values) == 2: # TODO why??\n",
    "        assert values[0] == values[1]\n",
    "    return values[0]\n",
    "\n",
    "def get_unique_hparams(hp, hparam_name, dir_names):\n",
    "    values = hp[hp['dir_name'].isin(dir_names) & (hp['tag'] == hparam_name)].value.unique()\n",
    "    return values\n",
    "\n",
    "def get_metrics(runs):\n",
    "    train_accs = []\n",
    "    val_accs = []\n",
    "    test_accs = []\n",
    "    topsims = []\n",
    "    entropies = []\n",
    "    posdisses = []\n",
    "    bosdisses = []\n",
    "\n",
    "    for run in runs:\n",
    "        df_filtered = df[df['dir_name'] == run]\n",
    "        max_val_acc = df_filtered[df_filtered[\"tag\"]==\"best_val_acc_no_noise\"].value.max()\n",
    "        best_runs = df_filtered[(df_filtered[\"tag\"]==\"best_val_acc_no_noise\") & (df_filtered[\"value\"] == max_val_acc)]\n",
    "\n",
    "        dir_names = best_runs.dir_name.unique()\n",
    "        assert len(dir_names) == 1\n",
    "        dir_name = dir_names[0]\n",
    "\n",
    "        step = best_runs.step.min()\n",
    "\n",
    "        try:\n",
    "            train_acc = get_metric_value(df_filtered, \"train_acc_no_noise\", dir_name, step)\n",
    "            test_acc = get_metric_value(df_filtered, \"test_acc_no_noise\", dir_name, step)\n",
    "            val_acc = get_metric_value(df_filtered, \"val_acc_no_noise\", dir_name, step)\n",
    "            topsim = get_metric_value(df_filtered, \"topsim\", dir_name, step)\n",
    "            posdis = get_metric_value(df_filtered, \"posdis\", dir_name, step)\n",
    "            bosdis = get_metric_value(df_filtered, \"bosdis\", dir_name, step)\n",
    "        except ValueError:\n",
    "            print(f\"No complete set of metrics found for run: {dir_name} step {step}\")\n",
    "            continue\n",
    "        entropy_coeff = get_hparam(hp, \"sender_entropy_coeff\", dir_name)\n",
    "\n",
    "        train_accs.append(train_acc)\n",
    "        val_accs.append(val_acc)\n",
    "        test_accs.append(test_acc)\n",
    "        topsims.append(topsim)\n",
    "        entropies.append(entropy_coeff)\n",
    "        posdisses.append(posdis)\n",
    "        bosdisses.append(bosdis)\n",
    "    return train_accs, val_accs, test_accs, topsims, posdisses, bosdisses, entropies"
   ],
   "metadata": {
    "collapsed": false,
    "pycharm": {
     "name": "#%%\n"
    }
   }
  },
  {
   "cell_type": "code",
   "execution_count": 74,
   "outputs": [
    {
     "name": "stdout",
     "output_type": "stream",
     "text": [
      "\n",
      "\n",
      "\n",
      "Attr: 2 Values: 16\n",
      "\n",
      "Baseline\n",
      "Found 0 runs for config: set()\n",
      "\n",
      "CR\n",
      "Found 0 runs for config: set()\n",
      "\n",
      "\n",
      "\n",
      "Attr: 4 Values: 4\n",
      "\n",
      "Baseline\n",
      "Found 21 runs for config: {'version_1052621', 'version_1052607', 'version_1052625', 'version_1052603', 'version_1052619', 'version_1052623', 'version_1052635', 'version_1052639', 'version_1052605', 'version_1052627', 'version_1052633', 'version_1052613', 'version_1052609', 'version_1052617', 'version_1052637', 'version_1052611', 'version_1052601', 'version_1052615', 'version_1052631', 'version_1052629', 'version_1052599'}\n",
      "{0.01: 0.6376811365286509, 0.05: 0.913043479124705, 0.1: 0.9710144996643066, 0.3: 0.9855072498321533, 0.5: 0.9710144996643066, 0.7: 0.8405797084172567, 0.9: 0.8985507289568583}\n",
      "Best entropy coeff: 0.3\n",
      "{'version_1052621', 'version_1052617', 'version_1052619'}\n",
      "\n",
      "CR\n",
      "Found 21 runs for config: {'version_1052638', 'version_1052640', 'version_1052636', 'version_1052634', 'version_1052622', 'version_1052612', 'version_1052600', 'version_1052626', 'version_1052620', 'version_1052630', 'version_1052606', 'version_1052632', 'version_1052604', 'version_1052614', 'version_1052616', 'version_1052610', 'version_1052628', 'version_1052608', 'version_1052602', 'version_1052618', 'version_1052624'}\n",
      "{0.01: 0.28985507289568585, 0.05: 1.0, 0.1: 1.0, 0.3: 0.9855072498321533, 0.5: 0.95652174949646, 0.7: 1.0, 0.9: 1.0}\n",
      "Best entropy coeff: 0.05\n",
      "{'version_1052606', 'version_1052608', 'version_1052610'}\n",
      "\n",
      "\n",
      "\n",
      "Attr: 4 Values: 5\n",
      "\n",
      "Baseline\n",
      "Found 13 runs for config: {'version_1052938', 'version_1052952', 'version_1052954', 'version_1052950', 'version_1052958', 'version_1052948', 'version_1052946', 'version_1052960', 'version_1052962', 'version_1052956', 'version_1052940', 'version_1052942', 'version_1052944'}\n",
      "No complete set of metrics found for run: version_1052960 step 0\n",
      "No complete set of metrics found for run: version_1052962 step 99\n",
      "{0.05: 0.9707602262496948, 0.1: 1.0, 0.3: 1.0, 0.5: 0.5263157933950424}\n",
      "Best entropy coeff: 0.1\n",
      "{'version_1052948', 'version_1052946', 'version_1052944'}\n",
      "\n",
      "CR\n",
      "Found 12 runs for config: {'version_1052943', 'version_1052939', 'version_1052959', 'version_1052963', 'version_1052947', 'version_1052955', 'version_1052949', 'version_1052953', 'version_1052957', 'version_1052941', 'version_1052951', 'version_1052945'}\n",
      "No complete set of metrics found for run: version_1052959 step 0\n",
      "No complete set of metrics found for run: version_1052963 step 0\n",
      "{0.05: 1.0, 0.1: 1.0, 0.3: 0.9941520492235819, 0.5: 0.5614035129547119}\n",
      "Best entropy coeff: 0.05\n",
      "{'version_1052943', 'version_1052939', 'version_1052941'}\n",
      "\n",
      "\n",
      "\n",
      "Attr: 2 Values: 50\n",
      "\n",
      "Baseline\n",
      "Found 0 runs for config: set()\n",
      "\n",
      "CR\n",
      "Found 0 runs for config: set()\n",
      "\n",
      "\n",
      "\n",
      "Attr: 2 Values: 100\n",
      "\n",
      "Baseline\n",
      "Found 21 runs for config: {'version_1052329', 'version_1052315', 'version_1052337', 'version_1052333', 'version_1052341', 'version_1052331', 'version_1052323', 'version_1052327', 'version_1052345', 'version_1052317', 'version_1052351', 'version_1052313', 'version_1052347', 'version_1052311', 'version_1052343', 'version_1052325', 'version_1052335', 'version_1052319', 'version_1052339', 'version_1052349', 'version_1052321'}\n",
      "{0.01: 0.001851851896693309, 0.05: 0.09111111300686996, 0.1: 0.21333333353201547, 0.3: 0.4318518489599228, 0.5: 0.6866666674613953, 0.7: 0.47518518567085266, 0.9: 0.0025925926553706327}\n",
      "Best entropy coeff: 0.5\n",
      "{'version_1052339', 'version_1052335', 'version_1052337'}\n",
      "\n",
      "CR\n",
      "Found 21 runs for config: {'version_1052318', 'version_1052334', 'version_1052336', 'version_1052326', 'version_1052348', 'version_1052342', 'version_1052352', 'version_1052316', 'version_1052324', 'version_1052320', 'version_1052344', 'version_1052346', 'version_1052332', 'version_1052314', 'version_1052338', 'version_1052340', 'version_1052350', 'version_1052330', 'version_1052328', 'version_1052312', 'version_1052322'}\n",
      "{0.01: 0.003703703793386618, 0.05: 0.01407407441486915, 0.1: 0.034814814726511635, 0.3: 0.7018518547217051, 0.5: 0.7325925827026367, 0.7: 0.030370370329668123, 0.9: 0.0029629630347092948}\n",
      "Best entropy coeff: 0.5\n",
      "{'version_1052338', 'version_1052340', 'version_1052336'}\n"
     ]
    }
   ],
   "source": [
    "NUM_SENDERS = 1\n",
    "NUM_RECEIVERS = 1\n",
    "\n",
    "data = []\n",
    "for attr, val in [(2, 16), (4, 4), (4, 5), (2, 50), (2, 100)]:\n",
    "    print(f\"\\n\\n\\nAttr: {attr} Values: {val}\")\n",
    "\n",
    "    runs_val = set(hp[(hp['tag']=='num_values') & (hp['value'] == val)].dir_name)\n",
    "    runs_attr = set(hp[(hp['tag']=='num_attributes') & (hp['value'] == attr)].dir_name)\n",
    "\n",
    "    runs_num_agents = set(hp[(hp['tag']=='num_senders') & (hp['value'] == NUM_SENDERS)].dir_name) & set(hp[(hp['tag']=='num_receivers') & (hp['value'] == NUM_RECEIVERS)].dir_name)\n",
    "\n",
    "    for clarification_requests in [0, 1]:\n",
    "        runs_cr = set(hp[(hp['tag']=='clarification_requests') & (hp['value'] == clarification_requests)].dir_name)\n",
    "\n",
    "        runs_config = runs_cr & runs_val & runs_attr & runs_num_agents\n",
    "        if clarification_requests:\n",
    "            print(\"\\nCR\")\n",
    "        else:\n",
    "            print(\"\\nBaseline\")\n",
    "        print(f\"Found {len(runs_config)} runs for config: {runs_config}\")\n",
    "\n",
    "        entropy_coeff_values = get_unique_hparams(hp, \"sender_entropy_coeff\", runs_config)\n",
    "        # print(entropy_coeff_values)\n",
    "        val_acc_means = {}\n",
    "\n",
    "        for entropy_coeff in entropy_coeff_values:\n",
    "            entropy_filter = set(hp[(hp['tag']=='sender_entropy_coeff') & (hp['value'] == entropy_coeff)].dir_name)\n",
    "            runs_entropy = runs_config & entropy_filter\n",
    "\n",
    "            _, val_accs, _, _, _, _, _ = get_metrics(runs_entropy)\n",
    "\n",
    "            if len(val_accs) == 0:\n",
    "                continue\n",
    "\n",
    "            # print(val_accs)\n",
    "            val_acc_means[entropy_coeff] = np.mean(val_accs)\n",
    "\n",
    "        if len(val_acc_means) == 0:\n",
    "            continue\n",
    "\n",
    "        print(val_acc_means)\n",
    "        best_entropy_coeff = max(val_acc_means, key=val_acc_means.get)\n",
    "        print(f\"Best entropy coeff: {best_entropy_coeff}\")\n",
    "\n",
    "        entropy_filter = set(hp[(hp['tag']=='sender_entropy_coeff') & (hp['value'] == best_entropy_coeff)].dir_name)\n",
    "        runs_best_entropy = runs_config & entropy_filter\n",
    "        print(runs_best_entropy)\n",
    "\n",
    "        train_accs, val_accs, test_accs, topsims, posdisses, bosdisses, entropies = get_metrics(runs_best_entropy)\n",
    "            #\n",
    "            # print(f\"Best version: {dir_name} step {step}, entropy coeff {entropy_coeff}, test acc: {test_acc:.2f}\")\n",
    "            #\n",
    "        for i in range(len(val_accs)):\n",
    "            data.append({\n",
    "                \"clarification_requests\": clarification_requests,\n",
    "                \"train_acc\": train_accs[i],\n",
    "                \"test_acc\": test_accs[i],\n",
    "                \"val_acc\": val_accs[i],\n",
    "                \"topsim\": topsims[i],\n",
    "                \"posdis\": posdisses[i],\n",
    "                \"bosdis\": bosdisses[i],\n",
    "                \"entropy_coeff\": entropies[i],\n",
    "                \"attributes\": attr,\n",
    "                \"values\": val,\n",
    "            })\n",
    "\n",
    "data = pd.DataFrame(data)\n"
   ],
   "metadata": {
    "collapsed": false,
    "pycharm": {
     "name": "#%%\n"
    }
   }
  },
  {
   "cell_type": "code",
   "execution_count": 73,
   "outputs": [
    {
     "data": {
      "text/plain": "<AxesSubplot:xlabel='attr_val', ylabel='bosdis'>"
     },
     "execution_count": 73,
     "metadata": {},
     "output_type": "execute_result"
    },
    {
     "data": {
      "text/plain": "<Figure size 1440x720 with 1 Axes>",
      "image/png": "[encoded data removed]"
     },
     "metadata": {},
     "output_type": "display_data"
    }
   ],
   "source": [
    "import seaborn as sns\n",
    "import matplotlib.pyplot as plt\n",
    "\n",
    "data[\"attr_val\"] = data[\"attributes\"].map(str) + \"_\" + data[\"values\"].map(str)\n",
    "\n",
    "plt.figure(figsize=(20, 10))\n",
    "# sns.swarmplot(data=df, x=\"clarification_requests\", y=\"test_acc_no_noise\", hue=\"entropy_coeff\")\n",
    "sns.boxplot(data=data, x=\"attr_val\", y=\"bosdis\", hue=\"clarification_requests\") #, hue=\"entropy_coeff\""
   ],
   "metadata": {
    "collapsed": false,
    "pycharm": {
     "name": "#%%\n"
    }
   }
  },
  {
   "cell_type": "code",
   "execution_count": null,
   "outputs": [],
   "source": [],
   "metadata": {
    "collapsed": false,
    "pycharm": {
     "name": "#%%\n"
    }
   }
  },
  {
   "cell_type": "code",
   "execution_count": null,
   "outputs": [],
   "source": [],
   "metadata": {
    "collapsed": false,
    "pycharm": {
     "name": "#%%\n"
    }
   }
  },
  {
   "cell_type": "code",
   "execution_count": null,
   "outputs": [],
   "source": [],
   "metadata": {
    "collapsed": false,
    "pycharm": {
     "name": "#%%\n"
    }
   }
  },
  {
   "cell_type": "code",
   "execution_count": null,
   "outputs": [],
   "source": [],
   "metadata": {
    "collapsed": false,
    "pycharm": {
     "name": "#%%\n"
    }
   }
  },
  {
   "cell_type": "code",
   "execution_count": null,
   "outputs": [],
   "source": [],
   "metadata": {
    "collapsed": false,
    "pycharm": {
     "name": "#%%\n"
    }
   }
  },
  {
   "cell_type": "code",
   "execution_count": null,
   "outputs": [],
   "source": [],
   "metadata": {
    "collapsed": false,
    "pycharm": {
     "name": "#%%\n"
    }
   }
  },
  {
   "cell_type": "code",
   "execution_count": null,
   "outputs": [],
   "source": [],
   "metadata": {
    "collapsed": false,
    "pycharm": {
     "name": "#%%\n"
    }
   }
  },
  {
   "cell_type": "code",
   "execution_count": null,
   "outputs": [],
   "source": [],
   "metadata": {
    "collapsed": false,
    "pycharm": {
     "name": "#%%\n"
    }
   }
  }
 ],
 "metadata": {
  "kernelspec": {
   "display_name": "Python 3 (ipykernel)",
   "language": "python",
   "name": "python3"
  },
  "language_info": {
   "codemirror_mode": {
    "name": "ipython",
    "version": 3
   },
   "file_extension": ".py",
   "mimetype": "text/x-python",
   "name": "python",
   "nbconvert_exporter": "python",
   "pygments_lexer": "ipython3",
   "version": "3.9.7"
  }
 },
 "nbformat": 4,
 "nbformat_minor": 1
}